{
 "cells": [
  {
   "cell_type": "code",
   "execution_count": 1,
   "id": "6a219194-00f6-4c6f-9878-abf08b2cbcd7",
   "metadata": {},
   "outputs": [],
   "source": [
    "import jVMC"
   ]
  },
  {
   "cell_type": "code",
   "execution_count": 3,
   "id": "f6f11958-cc9a-41b6-8690-75a13e9b1345",
   "metadata": {},
   "outputs": [],
   "source": [
    "H = jVMC.operator.bosons.BoseHubbard_Hamiltonian1D(4,0.1,1,10)"
   ]
  },
  {
   "cell_type": "code",
   "execution_count": null,
   "id": "ef3e91ce-d836-43e3-8df4-3b3f22e62d2e",
   "metadata": {},
   "outputs": [],
   "source": []
  },
  {
   "cell_type": "code",
   "execution_count": null,
   "id": "94ab9634-5c81-45be-8c3d-ab4e80834da0",
   "metadata": {},
   "outputs": [],
   "source": []
  }
 ],
 "metadata": {
  "kernelspec": {
   "display_name": "Python 3 (ipykernel)",
   "language": "python",
   "name": "python3"
  },
  "language_info": {
   "codemirror_mode": {
    "name": "ipython",
    "version": 3
   },
   "file_extension": ".py",
   "mimetype": "text/x-python",
   "name": "python",
   "nbconvert_exporter": "python",
   "pygments_lexer": "ipython3",
   "version": "3.9.19"
  }
 },
 "nbformat": 4,
 "nbformat_minor": 5
}
