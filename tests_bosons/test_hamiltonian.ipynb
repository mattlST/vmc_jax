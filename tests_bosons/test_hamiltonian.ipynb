{
 "cells": [
  {
   "cell_type": "code",
   "execution_count": 7,
   "id": "6a219194-00f6-4c6f-9878-abf08b2cbcd7",
   "metadata": {},
   "outputs": [],
   "source": [
    "import jVMC\n",
    "import numpy as np "
   ]
  },
  {
   "cell_type": "code",
   "execution_count": 8,
   "id": "f6f11958-cc9a-41b6-8690-75a13e9b1345",
   "metadata": {},
   "outputs": [],
   "source": [
    "H = jVMC.operator.bosons.BoseHubbard_Hamiltonian1D(4,0.1,1,10)"
   ]
  },
  {
   "cell_type": "code",
   "execution_count": null,
   "id": "ef3e91ce-d836-43e3-8df4-3b3f22e62d2e",
   "metadata": {},
   "outputs": [],
   "source": []
  },
  {
   "cell_type": "code",
   "execution_count": 9,
   "id": "94ab9634-5c81-45be-8c3d-ab4e80834da0",
   "metadata": {},
   "outputs": [],
   "source": [
    "a = {}"
   ]
  },
  {
   "cell_type": "code",
   "execution_count": 11,
   "id": "fe7da0a1-213b-4be8-a4e4-900c69c66f1d",
   "metadata": {},
   "outputs": [],
   "source": [
    "a[\"s\"] = [1]"
   ]
  },
  {
   "cell_type": "code",
   "execution_count": 12,
   "id": "3af9579b-656d-4a0a-ac0f-e71e27098279",
   "metadata": {},
   "outputs": [],
   "source": [
    "a[\"s\"] += [2]"
   ]
  },
  {
   "cell_type": "code",
   "execution_count": 13,
   "id": "f709757f-ebb6-4191-9142-be398c693c09",
   "metadata": {},
   "outputs": [
    {
     "data": {
      "text/plain": [
       "{'s': [1, 2]}"
      ]
     },
     "execution_count": 13,
     "metadata": {},
     "output_type": "execute_result"
    }
   ],
   "source": [
    "a"
   ]
  },
  {
   "cell_type": "code",
   "execution_count": null,
   "id": "bd46c9be-c96f-4215-a013-866c04be43de",
   "metadata": {},
   "outputs": [],
   "source": []
  }
 ],
 "metadata": {
  "kernelspec": {
   "display_name": "Python 3 (ipykernel)",
   "language": "python",
   "name": "python3"
  },
  "language_info": {
   "codemirror_mode": {
    "name": "ipython",
    "version": 3
   },
   "file_extension": ".py",
   "mimetype": "text/x-python",
   "name": "python",
   "nbconvert_exporter": "python",
   "pygments_lexer": "ipython3",
   "version": "3.9.19"
  }
 },
 "nbformat": 4,
 "nbformat_minor": 5
}
