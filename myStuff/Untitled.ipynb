{
 "cells": [
  {
   "cell_type": "code",
   "execution_count": 1,
   "id": "7225dbf5-f577-4203-ba85-f5937df32502",
   "metadata": {},
   "outputs": [],
   "source": [
    "import numpy as np"
   ]
  },
  {
   "cell_type": "code",
   "execution_count": 3,
   "id": "839282b4-57f5-4b83-acff-71feb0d17403",
   "metadata": {},
   "outputs": [],
   "source": [
    "x = np.array([1,2,3,4,5.])"
   ]
  },
  {
   "cell_type": "code",
   "execution_count": 6,
   "id": "f4c24222-7b16-40bc-aba8-0922af37b6fa",
   "metadata": {
    "scrolled": true
   },
   "outputs": [
    {
     "ename": "IndexError",
     "evalue": "index 0 is out of bounds for axis 0 with size 0",
     "output_type": "error",
     "traceback": [
      "\u001b[0;31m---------------------------------------------------------------------------\u001b[0m",
      "\u001b[0;31mIndexError\u001b[0m                                Traceback (most recent call last)",
      "Cell \u001b[0;32mIn[6], line 1\u001b[0m\n\u001b[0;32m----> 1\u001b[0m \u001b[43mnp\u001b[49m\u001b[38;5;241;43m.\u001b[39;49m\u001b[43margwhere\u001b[49m\u001b[43m(\u001b[49m\u001b[43mx\u001b[49m\u001b[38;5;241;43m>\u001b[39;49m\u001b[38;5;241;43m10\u001b[39;49m\u001b[43m)\u001b[49m\u001b[43m[\u001b[49m\u001b[38;5;241;43m0\u001b[39;49m\u001b[43m]\u001b[49m\n",
      "\u001b[0;31mIndexError\u001b[0m: index 0 is out of bounds for axis 0 with size 0"
     ]
    }
   ],
   "source": [
    "np.argwhere(x>10)[0]"
   ]
  },
  {
   "cell_type": "code",
   "execution_count": 12,
   "id": "4f0335c0-b6c5-4294-8790-312f723f767a",
   "metadata": {},
   "outputs": [
    {
     "data": {
      "text/plain": [
       "2.3"
      ]
     },
     "execution_count": 12,
     "metadata": {},
     "output_type": "execute_result"
    }
   ],
   "source": [
    "0.25*2+0.25*2+0.2*2+0.15*3+0.15*3"
   ]
  },
  {
   "cell_type": "code",
   "execution_count": 10,
   "id": "7abfd677-f211-4a71-bb80-c6a6156fc129",
   "metadata": {},
   "outputs": [],
   "source": [
    "def entropy(x):\n",
    "    return -np.sum(x*np.log(x)/np.log(2))"
   ]
  },
  {
   "cell_type": "code",
   "execution_count": 11,
   "id": "d48b0004-b49f-4f2c-b992-624cb0f2335e",
   "metadata": {},
   "outputs": [
    {
     "data": {
      "text/plain": [
       "2.2854752972273342"
      ]
     },
     "execution_count": 11,
     "metadata": {},
     "output_type": "execute_result"
    }
   ],
   "source": [
    "entropy(np.array([0.25,0.25,0.2,0.15,0.15]))"
   ]
  },
  {
   "cell_type": "code",
   "execution_count": null,
   "id": "b8c5e80c-7c1f-4e66-a359-af25ebd4ad8a",
   "metadata": {},
   "outputs": [],
   "source": []
  }
 ],
 "metadata": {
  "kernelspec": {
   "display_name": "Python 3 (ipykernel)",
   "language": "python",
   "name": "python3"
  },
  "language_info": {
   "codemirror_mode": {
    "name": "ipython",
    "version": 3
   },
   "file_extension": ".py",
   "mimetype": "text/x-python",
   "name": "python",
   "nbconvert_exporter": "python",
   "pygments_lexer": "ipython3",
   "version": "3.9.19"
  }
 },
 "nbformat": 4,
 "nbformat_minor": 5
}
