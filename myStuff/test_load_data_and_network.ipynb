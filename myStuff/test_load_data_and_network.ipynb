{
 "cells": [
  {
   "cell_type": "code",
   "execution_count": 65,
   "id": "b4f69537-7228-4cf6-8405-49056acc348f",
   "metadata": {},
   "outputs": [],
   "source": [
    "import json\n",
    "import numpy as np\n",
    "import matplotlib.pyplot as plt\n",
    "import jVMC\n",
    "import gpt_particle\n",
    "import jax.numpy as jnp\n",
    "import jax.random as jr"
   ]
  },
  {
   "cell_type": "code",
   "execution_count": 37,
   "id": "01960eb1-c38c-46ee-89f2-a50602670dd4",
   "metadata": {},
   "outputs": [
    {
     "name": "stdout",
     "output_type": "stream",
     "text": [
      "dict_keys(['jTerm', 'iTerm', 'occupation', 'H', 'ipr'])\n"
     ]
    }
   ],
   "source": [
    "with open(\"boseHubbard/boseHubbard_N10_L10_J1-000_U10-000_nS256_BHgpt_4_2_4_v0/measures.json\",'rb') as f:\n",
    "    data = json.load(f)\n",
    "# the result is a JSON string:\n",
    "print(data.keys()) "
   ]
  },
  {
   "cell_type": "code",
   "execution_count": 63,
   "id": "8a833417-b31a-44e0-a8c4-a6a832ac7ab2",
   "metadata": {},
   "outputs": [
    {
     "data": {
      "text/plain": [
       "<matplotlib.collections.PathCollection at 0x7f7d1d7c3af0>"
      ]
     },
     "execution_count": 63,
     "metadata": {},
     "output_type": "execute_result"
    },
    {
     "data": {
      "image/png": "[encoded data removed]",
      "text/plain": [
       "<Figure size 640x480 with 1 Axes>"
      ]
     },
     "metadata": {},
     "output_type": "display_data"
    }
   ],
   "source": [
    "plt.scatter(np.abs(data[\"H\"][\"mean\"]-np.min(data[\"H\"][\"mean\"])),data[\"H\"][\"var\"])\n",
    "plt.loglog()\n",
    "plt.scatter(np.abs(data[\"H\"][\"mean\"][-1]-np.min(data[\"H\"][\"mean\"])),data[\"H\"][\"var\"][-1])\n"
   ]
  },
  {
   "cell_type": "code",
   "execution_count": 81,
   "id": "7c839094-4a2f-4c2b-9d20-9b523e766057",
   "metadata": {},
   "outputs": [],
   "source": [
    "h5save = jVMC.util.Parameters2HDF5.h5SaveParams(\"boseHubbard/boseHubbard_N10_L10_J1-000_U10-000_nS256_BHgpt_4_2_4_v0/params.h5\",'r')\n"
   ]
  },
  {
   "cell_type": "code",
   "execution_count": 82,
   "id": "af21eea4-af72-4125-a136-d2b1cb9f3b24",
   "metadata": {},
   "outputs": [],
   "source": [
    "param =h5save.load_model_params(None,\"training_step_99\")"
   ]
  },
  {
   "cell_type": "code",
   "execution_count": 83,
   "id": "203f6905-a1d1-4f8c-9ed7-1778d4bea31e",
   "metadata": {},
   "outputs": [],
   "source": [
    "with open(\"boseHubbard/boseHubbard_N10_L10_J1-000_U10-000_nS256_BHgpt_4_2_4_v0/config.json\", \"r\", encoding=\"utf8\") as f:\n",
    "    config = json.load(f)\n",
    "# create folder path\n",
    "L = config[\"L\"] # number of spins\n",
    "N = config[\"N\"] # number of iterations\n",
    "lDim = config[\"lDim\"]\n",
    "J = config[\"J\"]\n",
    "U = config[\"U\"]\n",
    "V = config[\"V\"]\n",
    "mu = config[\"mu\"]\n",
    "lr = config[\"lr\"]\n",
    "diagShift = config[\"diagS\"]\n",
    "diagMult = config[\"diagM\"]\n",
    "num_samples = config[\"numSamples\"]\n",
    "steps = config[\"training_steps\"]\n",
    "flag_NG = config[\"natural_gradient\"]\n",
    "seed = config[\"seed\"]\n",
    "training_steps = config[\"training_steps\"]\n",
    "#\"OutDir\":\"results\", # dummy\n",
    "net_name = config[\"net\"]\n",
    "net_para = config[\"net_parameter\"]\n",
    "ebDim = net_para[0]\n",
    "dep = net_para[1] \n",
    "nH = net_para[2]"
   ]
  },
  {
   "cell_type": "code",
   "execution_count": 84,
   "id": "82917b9a-8b29-4fb4-8b82-e5934529ce1e",
   "metadata": {},
   "outputs": [],
   "source": [
    "net = gpt_particle.GPT(L,N,lDim,ebDim,dep,nH)\n",
    "sym = jVMC.util.symmetries.get_orbit_1D(L,\"reflection\",\"translation\")\n",
    "symNet = jVMC.nets.sym_wrapper.SymNet(sym,net,avgFun=jVMC.nets.sym_wrapper.avgFun_Coefficients_Sep_real)\n",
    "\n",
    "psi = jVMC.vqs.NQS(symNet)"
   ]
  },
  {
   "cell_type": "code",
   "execution_count": 93,
   "id": "e6462349-8a7e-43dd-ac3d-5faf21253c6e",
   "metadata": {},
   "outputs": [],
   "source": [
    "psi.parameters = param\n",
    "psi.init_net(jnp.array([[[1]*L]]))"
   ]
  },
  {
   "cell_type": "code",
   "execution_count": 94,
   "id": "f6b89e4e-396f-44e4-8048-ac35a69ae462",
   "metadata": {},
   "outputs": [
    {
     "data": {
      "text/plain": [
       "array([[0.57363483]])"
      ]
     },
     "execution_count": 94,
     "metadata": {},
     "output_type": "execute_result"
    }
   ],
   "source": [
    "np.exp(psi(jnp.array([[[1]*L]]))*2)"
   ]
  },
  {
   "cell_type": "code",
   "execution_count": 92,
   "id": "be5090b8-cbff-4903-8128-20ea32784fcd",
   "metadata": {},
   "outputs": [
    {
     "ename": "TypeError",
     "evalue": "Only length-1 arrays can be converted to Python scalars.",
     "output_type": "error",
     "traceback": [
      "\u001b[0;31m---------------------------------------------------------------------------\u001b[0m",
      "\u001b[0;31mTypeError\u001b[0m                                 Traceback (most recent call last)",
      "Cell \u001b[0;32mIn[92], line 1\u001b[0m\n\u001b[0;32m----> 1\u001b[0m \u001b[43mpsi\u001b[49m\u001b[38;5;241;43m.\u001b[39;49m\u001b[43msample\u001b[49m\u001b[43m(\u001b[49m\u001b[43mjr\u001b[49m\u001b[38;5;241;43m.\u001b[39;49m\u001b[43mPRNGKey\u001b[49m\u001b[43m(\u001b[49m\u001b[38;5;241;43m12\u001b[39;49m\u001b[43m)\u001b[49m\u001b[43m,\u001b[49m\u001b[38;5;28;43mint\u001b[39;49m\u001b[43m(\u001b[49m\u001b[38;5;241;43m10\u001b[39;49m\u001b[43m)\u001b[49m\u001b[43m)\u001b[49m\n",
      "File \u001b[0;32m~/Desktop/git/vmc_jax/jVMC/vqs.py:369\u001b[0m, in \u001b[0;36mNQS.sample\u001b[0;34m(self, numSamples, key, parameters)\u001b[0m\n\u001b[1;32m    365\u001b[0m     \u001b[38;5;28;01mif\u001b[39;00m \u001b[38;5;129;01mnot\u001b[39;00m numSamplesStr \u001b[38;5;129;01min\u001b[39;00m \u001b[38;5;28mself\u001b[39m\u001b[38;5;241m.\u001b[39m_sample_jitd:\n\u001b[1;32m    366\u001b[0m         \u001b[38;5;28mself\u001b[39m\u001b[38;5;241m.\u001b[39m_sample_jitd[numSamplesStr] \u001b[38;5;241m=\u001b[39m global_defs\u001b[38;5;241m.\u001b[39mpmap_for_my_devices(\u001b[38;5;28;01mlambda\u001b[39;00m p, n, x: net\u001b[38;5;241m.\u001b[39mapply(p, n, x, method\u001b[38;5;241m=\u001b[39mnet\u001b[38;5;241m.\u001b[39msample),\n\u001b[1;32m    367\u001b[0m                                                                            static_broadcasted_argnums\u001b[38;5;241m=\u001b[39m(\u001b[38;5;241m1\u001b[39m,), in_axes\u001b[38;5;241m=\u001b[39m(\u001b[38;5;28;01mNone\u001b[39;00m, \u001b[38;5;28;01mNone\u001b[39;00m, \u001b[38;5;241m0\u001b[39m))\n\u001b[0;32m--> 369\u001b[0m     samples \u001b[38;5;241m=\u001b[39m \u001b[38;5;28mself\u001b[39m\u001b[38;5;241m.\u001b[39m_sample_jitd[numSamplesStr](params, \u001b[38;5;28;43mint\u001b[39;49m\u001b[43m(\u001b[49m\u001b[43mnumSamples\u001b[49m\u001b[43m)\u001b[49m, key)\n\u001b[1;32m    371\u001b[0m     \u001b[38;5;28;01mreturn\u001b[39;00m samples\n\u001b[1;32m    373\u001b[0m \u001b[38;5;28;01mreturn\u001b[39;00m \u001b[38;5;28;01mNone\u001b[39;00m\n",
      "File \u001b[0;32m~/anaconda3/envs/py_jvmc/lib/python3.9/site-packages/jax/_src/array.py:269\u001b[0m, in \u001b[0;36mArrayImpl.__int__\u001b[0;34m(self)\u001b[0m\n\u001b[1;32m    268\u001b[0m \u001b[38;5;28;01mdef\u001b[39;00m \u001b[38;5;21m__int__\u001b[39m(\u001b[38;5;28mself\u001b[39m):\n\u001b[0;32m--> 269\u001b[0m   \u001b[43mcore\u001b[49m\u001b[38;5;241;43m.\u001b[39;49m\u001b[43mcheck_scalar_conversion\u001b[49m\u001b[43m(\u001b[49m\u001b[38;5;28;43mself\u001b[39;49m\u001b[43m)\u001b[49m\n\u001b[1;32m    270\u001b[0m   \u001b[38;5;28;01mreturn\u001b[39;00m \u001b[38;5;28mself\u001b[39m\u001b[38;5;241m.\u001b[39m_value\u001b[38;5;241m.\u001b[39m\u001b[38;5;21m__int__\u001b[39m()\n",
      "File \u001b[0;32m~/anaconda3/envs/py_jvmc/lib/python3.9/site-packages/jax/_src/core.py:602\u001b[0m, in \u001b[0;36mcheck_scalar_conversion\u001b[0;34m(arr)\u001b[0m\n\u001b[1;32m    600\u001b[0m \u001b[38;5;28;01mdef\u001b[39;00m \u001b[38;5;21mcheck_scalar_conversion\u001b[39m(arr: Array):\n\u001b[1;32m    601\u001b[0m   \u001b[38;5;28;01mif\u001b[39;00m arr\u001b[38;5;241m.\u001b[39msize \u001b[38;5;241m!=\u001b[39m \u001b[38;5;241m1\u001b[39m:\n\u001b[0;32m--> 602\u001b[0m     \u001b[38;5;28;01mraise\u001b[39;00m \u001b[38;5;167;01mTypeError\u001b[39;00m(\u001b[38;5;124m\"\u001b[39m\u001b[38;5;124mOnly length-1 arrays can be converted to Python scalars.\u001b[39m\u001b[38;5;124m\"\u001b[39m)\n\u001b[1;32m    603\u001b[0m   \u001b[38;5;28;01mif\u001b[39;00m arr\u001b[38;5;241m.\u001b[39mshape \u001b[38;5;241m!=\u001b[39m ():\n\u001b[1;32m    604\u001b[0m     \u001b[38;5;66;03m# Added 2023 September 18.\u001b[39;00m\n\u001b[1;32m    605\u001b[0m     warnings\u001b[38;5;241m.\u001b[39mwarn(\u001b[38;5;124m\"\u001b[39m\u001b[38;5;124mConversion of an array with ndim > 0 to a scalar is deprecated, \u001b[39m\u001b[38;5;124m\"\u001b[39m\n\u001b[1;32m    606\u001b[0m                   \u001b[38;5;124m\"\u001b[39m\u001b[38;5;124mand will error in future.\u001b[39m\u001b[38;5;124m\"\u001b[39m, \u001b[38;5;167;01mDeprecationWarning\u001b[39;00m, stacklevel\u001b[38;5;241m=\u001b[39m\u001b[38;5;241m3\u001b[39m)\n",
      "\u001b[0;31mTypeError\u001b[0m: Only length-1 arrays can be converted to Python scalars."
     ]
    }
   ],
   "source": []
  },
  {
   "cell_type": "code",
   "execution_count": null,
   "id": "aee73820-4bce-4c9a-93b3-1131bf465a87",
   "metadata": {},
   "outputs": [],
   "source": []
  }
 ],
 "metadata": {
  "kernelspec": {
   "display_name": "Python 3 (ipykernel)",
   "language": "python",
   "name": "python3"
  },
  "language_info": {
   "codemirror_mode": {
    "name": "ipython",
    "version": 3
   },
   "file_extension": ".py",
   "mimetype": "text/x-python",
   "name": "python",
   "nbconvert_exporter": "python",
   "pygments_lexer": "ipython3",
   "version": "3.9.19"
  }
 },
 "nbformat": 4,
 "nbformat_minor": 5
}
