{
 "cells": [
  {
   "cell_type": "code",
   "execution_count": 1,
   "metadata": {},
   "outputs": [
    {
     "name": "stderr",
     "output_type": "stream",
     "text": [
      "WARNING:absl:Tensorflow library not found, tensorflow.io.gfile operations will use native shim calls. GCS paths (i.e. 'gs://...') cannot be accessed.\n"
     ]
    }
   ],
   "source": [
    "import numpy as np \n",
    "import jVMC\n",
    "import jax.numpy as jnp\n",
    "import jax.random as jrnd\n",
    "import matplotlib.pyplot as plt\n",
    "from tqdm import tqdm\n",
    "\n",
    "\n",
    "\n",
    "ebDim = 16\n",
    "dep = 2\n",
    "nH = 4\n",
    "L = 3\n",
    "N=3\n",
    "ldim = 4\n",
    "homFock = jnp.ones((1,1,L),dtype=int)\n",
    "\n",
    "#net = jVMC.nets.RpxRWKV(L,LocalHilDim=ldim,hidden_size=hidden_size,num_heads=num_heads,embedding_size=emb_RWKV,num_layers=depth_RWKV,)\n",
    "net = jVMC.nets.bosons.gpt_stupid.GPT(L,ldim,embeddingDim=ebDim,depth=dep,nHeads=nH)\n",
    "seed = 252\n",
    "key2 = jrnd.PRNGKey(seed)\n",
    "numSamp = 2**0\n",
    "\n",
    "psi_net= jVMC.vqs.NQS(net,seed=seed,batchSize=1)\n"
   ]
  },
  {
   "cell_type": "code",
   "execution_count": 2,
   "metadata": {},
   "outputs": [],
   "source": [
    "\n",
    "sampler_net = jVMC.sampler.MCSampler(psi_net,(L,),key2)\n",
    "\n"
   ]
  },
  {
   "cell_type": "code",
   "execution_count": 3,
   "metadata": {},
   "outputs": [
    {
     "data": {
      "text/plain": [
       "(Array([[-0.66630627]], dtype=float64), Array([[-0.66630627]], dtype=float64))"
      ]
     },
     "execution_count": 3,
     "metadata": {},
     "output_type": "execute_result"
    }
   ],
   "source": [
    "psi_net(homFock),psi_net(homFock.at[1].set(0))\n"
   ]
  },
  {
   "cell_type": "code",
   "execution_count": 4,
   "metadata": {},
   "outputs": [],
   "source": [
    "para = net.init(key2,homFock[0,0])\n"
   ]
  },
  {
   "cell_type": "code",
   "execution_count": 5,
   "metadata": {},
   "outputs": [
    {
     "data": {
      "text/plain": [
       "(Array([-3.54589369, -0.65656573, -0.79767378, -6.14119376], dtype=float64),\n",
       " (Array([0, 0, 0], dtype=int64), 1))"
      ]
     },
     "execution_count": 5,
     "metadata": {},
     "output_type": "execute_result"
    }
   ],
   "source": [
    "net.apply(para,jnp.expand_dims(0,0),block_states=None,output_state=True)"
   ]
  },
  {
   "cell_type": "code",
   "execution_count": 6,
   "metadata": {},
   "outputs": [
    {
     "data": {
      "text/plain": [
       "Array([-0.93238777, -1.38925503, -1.16184274, -3.11863917], dtype=float64)"
      ]
     },
     "execution_count": 6,
     "metadata": {},
     "output_type": "execute_result"
    }
   ],
   "source": [
    "\n",
    "state = (jnp.full(L,-2,dtype=int), 1)\n",
    "logit,new_state = net.apply(para,jnp.expand_dims(-1,0),block_states=state,output_state=True)\n",
    "logit"
   ]
  },
  {
   "cell_type": "code",
   "execution_count": 7,
   "metadata": {},
   "outputs": [
    {
     "data": {
      "text/plain": [
       "(Array([-2, -1, -2], dtype=int64), 2)"
      ]
     },
     "execution_count": 7,
     "metadata": {},
     "output_type": "execute_result"
    }
   ],
   "source": [
    "new_state"
   ]
  },
  {
   "cell_type": "code",
   "execution_count": 8,
   "metadata": {},
   "outputs": [],
   "source": [
    "logit,new_state = net.apply(para,jnp.expand_dims(3,0),block_states=new_state,output_state=True)\n"
   ]
  },
  {
   "cell_type": "code",
   "execution_count": 9,
   "metadata": {},
   "outputs": [
    {
     "data": {
      "text/plain": [
       "Array([[-1.70802146]], dtype=float64)"
      ]
     },
     "execution_count": 9,
     "metadata": {},
     "output_type": "execute_result"
    }
   ],
   "source": [
    "psi_net(np.full((1,1,L),-2,dtype=int))"
   ]
  },
  {
   "cell_type": "code",
   "execution_count": 10,
   "metadata": {},
   "outputs": [],
   "source": [
    "s,logit,p = sampler_net.sample(numSamples=10)"
   ]
  },
  {
   "cell_type": "code",
   "execution_count": 11,
   "metadata": {},
   "outputs": [
    {
     "data": {
      "text/plain": [
       "(Array([[-2.22200171, -2.02806914, -1.70802146, -1.22953871, -2.48653136,\n",
       "         -1.46383455, -0.66630627, -1.96847104, -1.19598668, -1.19598668]],      dtype=float64),\n",
       " Array([[-2.22200171, -2.02806914, -1.70802146, -1.22953871, -2.48653136,\n",
       "         -1.46383455, -0.66630627, -1.96847104, -1.19598668, -1.19598668]],      dtype=float64))"
      ]
     },
     "execution_count": 11,
     "metadata": {},
     "output_type": "execute_result"
    }
   ],
   "source": [
    "psi_net(s),logit"
   ]
  },
  {
   "cell_type": "code",
   "execution_count": null,
   "metadata": {},
   "outputs": [],
   "source": []
  }
 ],
 "metadata": {
  "kernelspec": {
   "display_name": "jvmc",
   "language": "python",
   "name": "python3"
  },
  "language_info": {
   "codemirror_mode": {
    "name": "ipython",
    "version": 3
   },
   "file_extension": ".py",
   "mimetype": "text/x-python",
   "name": "python",
   "nbconvert_exporter": "python",
   "pygments_lexer": "ipython3",
   "version": "3.9.18"
  }
 },
 "nbformat": 4,
 "nbformat_minor": 2
}
