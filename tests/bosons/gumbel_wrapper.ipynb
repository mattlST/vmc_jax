{
 "cells": [
  {
   "cell_type": "code",
   "execution_count": 1,
   "id": "aafe881f-5273-4d6d-aec4-8b74a1b4bd79",
   "metadata": {},
   "outputs": [],
   "source": [
    "import jVMC\n",
    "import jax\n",
    "#from jax.config import config\n",
    "jax.config.update(\"jax_enable_x64\", True)\n",
    "import jax.random as jrnd\n",
    "import jax.random as random\n",
    "\n",
    "import jax.numpy as jnp\n",
    "from functools import partial\n",
    "import numpy as np\n",
    "import jVMC.global_defs as global_defs\n",
    "from tqdm import tqdm\n",
    "import matplotlib.pyplot as plt\n",
    "from flax import linen as nn\n",
    "from typing import Any, List, Optional, Tuple\n",
    "from jax import Array, vmap, jit\n",
    "import math \n",
    "@jax.jit\n",
    "def sorting_gumble(sample,logits,gumbel,states):\n",
    "    indexes = jnp.argsort((-gumbel),axis=None)#.reshape(shape_gumbel)\n",
    "    numSamples = sample.shape[0]\n",
    "    ldim = sample.shape[1]\n",
    "    L = sample.shape[2]\n",
    "    #jax.debug.print(\"shape {x},{y},{z}\",x=numSamples,y=ldim,z=L)\n",
    "    indexes_states = (indexes // ldim)[:numSamples]\n",
    "    sample = sample.reshape(-1,L)[indexes]\n",
    "    sample = sample.reshape(ldim,numSamples,L)\n",
    "    sample = jnp.swapaxes(sample,0,1)\n",
    "    \n",
    "    logits = logits.ravel()[indexes]\n",
    "    logits = logits.reshape(ldim,numSamples).T\n",
    "    \n",
    "    gumbel = gumbel.ravel()[indexes]\n",
    "    gumbel = gumbel.reshape(ldim,numSamples).T\n",
    "\n",
    "    vals, treedef  = jax.tree_util.tree_flatten(states)\n",
    "    vals_ordered = [v[indexes_states] for v in vals]\n",
    "    states = jax.tree_util.tree_unflatten(treedef,vals_ordered)\n",
    "    return sample,logits,gumbel,states\n",
    "\n",
    "class gumbel_wrapper(nn.Module):\n",
    "    \"\"\"\n",
    "    Wrapper module for symmetrization.\n",
    "    This is a wrapper module for the incorporation of lattice symmetries. \n",
    "    The given plain ansatz :math:`\\\\psi_\\\\theta` is symmetrized as\n",
    "\n",
    "        :math:`\\\\Psi_\\\\theta(s)=\\\\frac{1}{|\\\\mathcal S|}\\\\sum_{\\\\tau\\\\in\\\\mathcal S}\\\\psi_\\\\theta(\\\\tau(s))`\n",
    "\n",
    "    where :math:`\\\\mathcal S` denotes the set of symmetry operations (``orbit`` in our nomenclature).\n",
    "\n",
    "    Initialization arguments:\n",
    "        * ``orbit``: orbits which define the symmetry operations (instance of ``util.symmetries.LatticeSymmetry``)\n",
    "        * ``net``: Flax module defining the plain ansatz.\n",
    "        * ``avgFun``: Different choices for the details of averaging.\n",
    "\n",
    "    \"\"\"\n",
    "    #orbit: LatticeSymmetry\n",
    "    net: callable\n",
    "    is_gumbel = True\n",
    "\n",
    "    #avgFun: callable = avgFun_Coefficients_Exp\n",
    "    def __setup__(self):\n",
    "        self.L = self.net.L\n",
    "\n",
    "    def __post_init__(self):\n",
    "\n",
    "        super().__post_init__()\n",
    "        #self.orbit = None\n",
    "        #self.is_generator = self.net.is_generator\n",
    "    \"\"\"\n",
    "    def __call__(self, x):\n",
    "\n",
    "        inShape = x.shape\n",
    "        x = 2 * x - 1\n",
    "        x = jax.vmap(lambda o, s: jnp.dot(o, s.ravel()).reshape(inShape), in_axes=(0, None))(self.orbit.orbit, x)\n",
    "        x = (x + 1) // 2\n",
    "\n",
    "        def evaluate(x):\n",
    "            return self.net(x)\n",
    "\n",
    "        res = jax.vmap(evaluate)(x)\n",
    "        return self.avgFun(res, self.orbit.factor)\n",
    "    \"\"\"\n",
    "    \n",
    "    def __call__(self,*args,**kwargs):\n",
    "        \n",
    "        #def evaluate(x):\n",
    "        #    return self.net(x)\n",
    "\n",
    "        #res = jax.vmap(evaluate)(x)\n",
    "        return self.net(*args,**kwargs)\n",
    "        \n",
    "    def _apply_fun(self, *args,**kwargs):\n",
    "        return self.net.apply(*args,**kwargs)\n",
    "\n",
    "# ** end class SymNet\n",
    "        #return sample,logits,gumbel,states\n",
    "    \n",
    "    \n",
    "    def _gumbel_step(self,sample,logits,gumbel,key,states,position):        \n",
    "        particles_left = self.net.Q - jnp.sum(sample[0]+jnp.abs(sample[0]))//2\n",
    "        #new samples with (0,..,ldim-1) at position\n",
    "        sample = jnp.array([sample[0].at[position].set(l) for l in jnp.arange(self.net.ldim)])\n",
    "        #right shifted input\n",
    "        inputt = jnp.array([jnp.pad(sample[0,:-1],(1,0))])\n",
    "        logitnew, next_states = self(inputt[:,position],block_states = states, output_state=True)\n",
    "        #logitnew, next_states = self.net.net(inputt[:,position],block_states = states, output_state=True)\n",
    "    \n",
    "        #jax.debug.print(\"pl: {x}\",x=particles_left)\n",
    "        must_give = jax.nn.relu(particles_left-self.net.max_particles[position])\n",
    "\n",
    "        # number of particles that can be assigned\n",
    "        can_give = jnp.minimum(particles_left, self.net.ldim-1)\n",
    "        mask = (self.net.must_mask[must_give] + \n",
    "                    self.net.can_mask[can_give.astype(int)]) \n",
    "        #logit_renorm =  logitnew - mask ** jnp.inf\n",
    "        #jax.debug.print(\"mask {x}\", x=mask)\n",
    "        logitnew =  jax.nn.log_softmax(logitnew - mask ** jnp.inf)\n",
    "        #jax.debug.print(\"logits new {x}\", x=logitnew)\n",
    "        #jax.debug.print(\"logits[0] {x}\", x=logits[0])\n",
    "        \n",
    "        logitnew = logits[0] + logitnew - mask ** jnp.inf\n",
    "        #jax.debug.print(\"logits new {x}\", x=logitnew)\n",
    "\n",
    "        gumbelnew = logitnew + jrnd.gumbel(key[0],shape=(self.net.ldim,))  ## logitnew or logits[0]?\n",
    "        #gumbelnew = logits[0] + jrnd.gumbel(key[0],shape=(ldim,))\n",
    "        #jax.debug.print(\"gumbelnew new {x}\", x=gumbelnew)\n",
    "\n",
    "        Z = jnp.nanmax(gumbelnew)\n",
    "        gumbelnew = jnp.nan_to_num(-jnp.log(\n",
    "            jnp.exp(-gumbel[0])-jnp.exp(-Z)+jnp.exp(-gumbelnew) # -sign at gumbelnew??\n",
    "            ),nan=-jnp.inf)\n",
    "        #gumbelnew = (-jnp.log(jnp.exp(-gumbel[0])-jnp.exp(-Z)+jnp.exp(gumbelnew)))\n",
    "        gumbelnew = gumbelnew- mask ** jnp.inf\n",
    "        return sample, logitnew, gumbelnew, next_states\n",
    "    def sample(self, numSamples: int, key) -> Array:\n",
    "        \"\"\"Autoregressively sample a spin configuration.\n",
    "\n",
    "        Args:\n",
    "            * ``numSamples``: The number of configurations to generate.\n",
    "            * ``key``: JAX random key.\n",
    "\n",
    "        Returns:\n",
    "            A batch of spin configurations.\n",
    "        \"\"\"\n",
    "        \n",
    "        \"\"\"\n",
    "        def generate_sample(key):\n",
    "            key = jrnd.split(key, self.net.L)\n",
    "            logits, carry = self(jnp.zeros(1,dtype=int),block_states = None, output_state=True)\n",
    "\n",
    "            choice = jrnd.categorical(key[0], logits.ravel()) # abide by the indexing convention and apply -1\n",
    "            s_cumsum = self.net.Q - choice # create cumsum of the quantum number\n",
    "            _, s = self._scanning_fn((jnp.expand_dims(choice,0),carry,s_cumsum),(key[1:],jnp.arange(1,self.net.L)))\n",
    "            return jnp.concatenate([jnp.expand_dims(choice,0),s])\n",
    "        \"\"\"\n",
    "        # get the samples\n",
    "        keys = jrnd.split(key, (self.net.L))\n",
    "        ## init stap\n",
    "        shape_samples = (numSamples,self.net.ldim,self.net.L)\n",
    "        shape_logits = (numSamples,self.net.ldim)\n",
    "        shape_gumbel = (numSamples,self.net.ldim)\n",
    "        #print(shape_samples,shape_logits)\n",
    "        working_space_samples = jnp.full(shape_samples,-2,dtype=jnp.int64)\n",
    "        working_space_logits = jnp.full(shape_logits,-jnp.inf,dtype=jnp.float64)\n",
    "        working_space_gumbel = jnp.full(shape_gumbel,-jnp.inf,dtype=jnp.float64)\n",
    "        \n",
    "        working_space_samples = working_space_samples.at[0,0,0].set(0)\n",
    "        working_space_logits = working_space_logits.at[0,0].set(0.)\n",
    "        working_space_gumbel = working_space_gumbel.at[0,0].set(0.)\n",
    "        \n",
    "        states = None\n",
    "        init_work = partial(self._gumbel_step, position=0,states=states)\n",
    "        key0=jrnd.split(keys[0],(numSamples,1))\n",
    "        \n",
    "        sample,logits,gumbel,states  = jax.vmap(init_work)(working_space_samples,working_space_logits,working_space_gumbel,key0)\n",
    "        \n",
    "        init_carry = sorting_gumble(sample,logits,gumbel,states)\n",
    "        \n",
    "        res,_ = self._scanning_fn(init_carry,(keys[1:],jnp.arange(1,self.net.L)))\n",
    "        samples, logits,gumbels,_ = res\n",
    "        \n",
    "        kappa = gumbels[0,1]\n",
    "        #jax.debug.print(\"kappa {x}\", x=kappa)\n",
    "        \n",
    "        re_weights = jnp.nan_to_num(jnp.exp(logits[:,0]) /(-jnp.expm1(-jnp.exp(logits[:,0]-kappa))),0)\n",
    "        #jax.debug.print(\"re {x}\", x=re_weights)\n",
    "\n",
    "\n",
    "        # return to the spinless representation\n",
    "        return samples[:,0,:],logits[:,0]*self.net.logProbFactor,re_weights/jnp.sum(re_weights)\n",
    "\n",
    "    @partial(nn.scan,\n",
    "             variable_broadcast='params',\n",
    "             split_rngs={'params': False})\n",
    "    def _scanning_fn(self, carry, key):\n",
    "        position = key[1]\n",
    "        sample = carry[0]\n",
    "        #jax.debug.print(\"{x}\", x=sample)\n",
    "\n",
    "        logits = carry[1]\n",
    "        gumbel = carry[2]\n",
    "        states = carry[3]\n",
    "        keys = jrnd.split(key[0],(carry[0].shape[0],1))\n",
    "\n",
    "        p_workN = partial(self._gumbel_step,position=position)\n",
    "        sample,logits,gumbel,states = jax.vmap(p_workN)(sample,logits,gumbel,keys,states)\n",
    "        #jax.debug.print(\"gumbelnew new {x}\", x=gumbel)\n",
    "\n",
    "        #### sorting gumble value\n",
    "        return sorting_gumble(sample,logits,gumbel,states),None\n",
    "        \"\"\"\n",
    "        logits, next_states = self(carry[0],block_states = carry[1], output_state=True)\n",
    "        #jax.debug.print(\"logits {x}\\n carry {y}\",x=logits,y=carry)\n",
    "\n",
    "        ##############################################\n",
    "        # mask logits\n",
    "        # number of particles that mus assigned\n",
    "        must_give = nn.relu(carry[2]-self.net.max_particles[key[1]])\n",
    "        # number of particles that can be assigned\n",
    "        can_give = jnp.minimum(carry[2], self.net.LocalHilDim-1)\n",
    "        # compute mask\n",
    "        mask = (self.net.must_mask[must_give] + \n",
    "                    self.net.can_mask[can_give.astype(int)]) \n",
    "        ##############################################\n",
    "        logits = logits - mask ** jnp.inf\n",
    "        choice = jrnd.categorical(key[0], logits.ravel().real) # abide by the indexing convention\n",
    "        ##############################################\n",
    "        s_cumsum = carry[2] - choice\n",
    "        return (jnp.expand_dims(choice,0), next_states, s_cumsum), choice\n",
    "        \"\"\""
   ]
  },
  {
   "cell_type": "code",
   "execution_count": 2,
   "id": "a76972eb-24cd-422d-9043-0cd351e76071",
   "metadata": {},
   "outputs": [
    {
     "name": "stdout",
     "output_type": "stream",
     "text": [
      "[[[1 1 1 1 1]]]\n"
     ]
    },
    {
     "data": {
      "text/plain": [
       "(126, 128)"
      ]
     },
     "execution_count": 2,
     "metadata": {},
     "output_type": "execute_result"
    }
   ],
   "source": [
    "N = 5\n",
    "L = 5\n",
    "ldim = 6\n",
    "homFock = jnp.ones((1,1,L),dtype=int)\n",
    "J = 1.\n",
    "U = 0.\n",
    "\n",
    "H = jVMC.operator.bosons.BoseHubbard_Hamiltonian1D(L,J,U,lDim=ldim)\n",
    "print(homFock)\n",
    "emb_RWKV = 2\n",
    "\n",
    "depth_RWKV = 2\n",
    "\n",
    "math.comb(N+L-1,L-1),2**7"
   ]
  },
  {
   "cell_type": "code",
   "execution_count": null,
   "id": "ec379296-9d59-4978-96d4-a2b145958bb9",
   "metadata": {},
   "outputs": [],
   "source": []
  },
  {
   "cell_type": "code",
   "execution_count": 3,
   "id": "8cccbc78-ae0f-41c8-851b-8622f3b2e563",
   "metadata": {
    "scrolled": true
   },
   "outputs": [],
   "source": [
    "net_RWKV = jVMC.nets.bosons.GPT(L,N,ldim,emb_RWKV,depth_RWKV,1)\n",
    "#jVMC.nets.bosons.RWKV(L,N,LocalHilDim=ldim,num_layers=depth_RWKV,embedding_size=emb_RWKV)\n",
    "net_RWKV_gumbel = jVMC.nets.bosons.RWKV(L,N,LocalHilDim=ldim,num_layers=depth_RWKV,embedding_size=emb_RWKV)\n",
    "gumbel_net = gumbel_wrapper(net_RWKV_gumbel)\n",
    "\n",
    "sym= jVMC.util.symmetries.get_orbit_1D(L,\"reflection\",\"translation\")\n",
    "symNet = jVMC.nets.sym_wrapper.SymNet(sym,net_RWKV,avgFun=jVMC.nets.sym_wrapper.avgFun_Coefficients_Sep_real)\n",
    "\n"
   ]
  },
  {
   "cell_type": "code",
   "execution_count": 4,
   "id": "97b9f4c7-8c57-4b83-8402-c7d39cb1daeb",
   "metadata": {
    "scrolled": true
   },
   "outputs": [
    {
     "data": {
      "text/plain": [
       "(Array([[-14.03102548]], dtype=float64),\n",
       " Array([[-2.51970033]], dtype=float64),\n",
       " Array([[-3.1723223]], dtype=float64),\n",
       " Array([[-3.13161079]], dtype=float64))"
      ]
     },
     "execution_count": 4,
     "metadata": {},
     "output_type": "execute_result"
    }
   ],
   "source": [
    "#psi_RWKV = jVMC.vqs.NQS(symNet)\n",
    "psi_RWKV = jVMC.vqs.NQS(net_RWKV,seed=1)\n",
    "psi_RWKV2 = jVMC.vqs.NQS(net_RWKV,seed=2)\n",
    "\n",
    "psi_RWKV_gumbel = jVMC.vqs.NQS(gumbel_net)\n",
    "psi_RWKV_gumbel2 = jVMC.vqs.NQS(gumbel_net,seed=3)\n",
    "\n",
    "psi_RWKV(homFock),psi_RWKV2(homFock),psi_RWKV_gumbel(homFock),psi_RWKV_gumbel2(homFock)"
   ]
  },
  {
   "cell_type": "code",
   "execution_count": 5,
   "id": "4c6019a8-80a4-4c93-a49e-245e9e6ccdd5",
   "metadata": {
    "scrolled": true
   },
   "outputs": [
    {
     "data": {
      "text/plain": [
       "FrozenDict({\n",
       "    net: {\n",
       "        Head: {\n",
       "            kernel: Array([[ 1.0154816 ,  0.17952294,  0.2267414 ,  0.3799486 , -0.49012803,\n",
       "                     0.60330309],\n",
       "                   [ 0.40799065,  0.22531432, -1.04876188, -0.4378422 ,  0.47293275,\n",
       "                     0.2378718 ]], dtype=float64),\n",
       "        },\n",
       "        Neck: {\n",
       "            bias: Array([0., 0.], dtype=float64),\n",
       "            kernel: Array([[ 0.94613058,  0.44577977],\n",
       "                   [-0.64393637,  0.16243347]], dtype=float64),\n",
       "        },\n",
       "        blocks_0: {\n",
       "            channel_mix: {\n",
       "                KeyP: {\n",
       "                    kernel: Array([[ 1.23843174,  0.20285499,  0.55251719, -0.36271778, -0.59733475,\n",
       "                            -0.33441459, -1.31711468,  0.39988972],\n",
       "                           [ 0.67451605,  0.86141423,  1.49321239, -1.20179223, -0.52528335,\n",
       "                             0.66214472, -0.85800642, -0.14736063]], dtype=float64),\n",
       "                },\n",
       "                ReceptanceP: {\n",
       "                    kernel: Array([[-0.10337613, -0.78668556],\n",
       "                           [ 1.14447012, -0.17525484]], dtype=float64),\n",
       "                },\n",
       "                ValueP: {\n",
       "                    kernel: Array([[-0.2994015 ,  0.38166031],\n",
       "                           [ 0.15149979,  0.4791859 ],\n",
       "                           [-0.56589651, -0.529791  ],\n",
       "                           [ 0.18689186,  0.24407965],\n",
       "                           [ 0.80259044,  0.34890053],\n",
       "                           [-0.50338191, -0.12312025],\n",
       "                           [ 0.02137639,  0.49527113],\n",
       "                           [ 0.34707945,  0.79622671]], dtype=float64),\n",
       "                },\n",
       "                time_mix_k: Array([0. , 0.5], dtype=float64),\n",
       "                time_mix_r: Array([0.        , 0.70710678], dtype=float64),\n",
       "            },\n",
       "            time_mix: {\n",
       "                key: {\n",
       "                    kernel: Array([[-1.07762681,  0.44984004],\n",
       "                           [ 0.89608   ,  0.48276938]], dtype=float64),\n",
       "                },\n",
       "                output: {\n",
       "                    kernel: Array([[-0.69810907, -0.94207456],\n",
       "                           [ 1.16715062, -0.05082752]], dtype=float64),\n",
       "                },\n",
       "                receptance: {\n",
       "                    kernel: Array([[ 0.75293271, -0.93812868],\n",
       "                           [-0.48656144, -1.31038386]], dtype=float64),\n",
       "                },\n",
       "                time_decay: Array([-5.,  3.], dtype=float64),\n",
       "                time_first: Array([-1.2039728, -0.7039728], dtype=float64),\n",
       "                time_mix_k: Array([0. , 0.5], dtype=float64),\n",
       "                time_mix_r: Array([0.        , 0.70710678], dtype=float64),\n",
       "                time_mix_v: Array([0. , 0.5], dtype=float64),\n",
       "                value: {\n",
       "                    kernel: Array([[ 1.11736524, -0.92162455],\n",
       "                           [ 0.86964683, -0.39826657]], dtype=float64),\n",
       "                },\n",
       "            },\n",
       "        },\n",
       "        blocks_1: {\n",
       "            channel_mix: {\n",
       "                KeyP: {\n",
       "                    kernel: Array([[-0.52813862, -1.03766949,  0.86217201, -0.12840765, -0.79466807,\n",
       "                            -0.47816008, -0.36802832, -0.14385679],\n",
       "                           [-0.46764303,  0.10646499, -0.0169542 , -0.49610821, -0.44093529,\n",
       "                            -0.72073411,  1.37987172, -0.01945514]], dtype=float64),\n",
       "                },\n",
       "                ReceptanceP: {\n",
       "                    kernel: Array([[ 1.228777  , -0.04472532],\n",
       "                           [-0.56237584, -0.88154099]], dtype=float64),\n",
       "                },\n",
       "                ValueP: {\n",
       "                    kernel: Array([[ 3.42779366e-01,  1.38516547e-01],\n",
       "                           [-4.66940200e-01, -3.79714183e-01],\n",
       "                           [-4.80472481e-01, -1.25144434e-01],\n",
       "                           [ 1.44530825e-01, -5.43191992e-01],\n",
       "                           [-2.59836852e-01,  8.99774324e-02],\n",
       "                           [-2.71022700e-01, -3.31050659e-02],\n",
       "                           [-4.34159171e-02,  3.20586923e-03],\n",
       "                           [-9.59845820e-02,  4.15740094e-04]], dtype=float64),\n",
       "                },\n",
       "                time_mix_k: Array([0.        , 0.70710678], dtype=float64),\n",
       "                time_mix_r: Array([0.        , 0.84089642], dtype=float64),\n",
       "            },\n",
       "            time_mix: {\n",
       "                key: {\n",
       "                    kernel: Array([[-0.55208337, -0.93209449],\n",
       "                           [ 0.32869831,  0.5320006 ]], dtype=float64),\n",
       "                },\n",
       "                output: {\n",
       "                    kernel: Array([[ 0.62115645, -0.47358067],\n",
       "                           [ 0.92604307, -0.11949646]], dtype=float64),\n",
       "                },\n",
       "                receptance: {\n",
       "                    kernel: Array([[ 0.49736604,  1.02731279],\n",
       "                           [-0.03716202, -0.55603455]], dtype=float64),\n",
       "                },\n",
       "                time_decay: Array([-5.,  3.], dtype=float64),\n",
       "                time_first: Array([-1.2039728, -0.7039728], dtype=float64),\n",
       "                time_mix_k: Array([0.        , 0.70710678], dtype=float64),\n",
       "                time_mix_r: Array([0.        , 0.84089642], dtype=float64),\n",
       "                time_mix_v: Array([0.3       , 1.00710678], dtype=float64),\n",
       "                value: {\n",
       "                    kernel: Array([[-0.85602559,  1.32252698],\n",
       "                           [ 0.41039495,  0.56273726]], dtype=float64),\n",
       "                },\n",
       "            },\n",
       "        },\n",
       "        embed: {\n",
       "            embedding: Array([[-0.61058361,  0.85816692],\n",
       "                   [ 1.02109943, -0.04327777],\n",
       "                   [-0.62732798,  0.11466794],\n",
       "                   [-0.02348099,  0.11007522],\n",
       "                   [-0.75707562, -0.81491696],\n",
       "                   [-0.94354393, -0.41798881]], dtype=float64),\n",
       "        },\n",
       "    },\n",
       "})"
      ]
     },
     "execution_count": 5,
     "metadata": {},
     "output_type": "execute_result"
    }
   ],
   "source": [
    "psi_RWKV_gumbel2.params"
   ]
  },
  {
   "cell_type": "code",
   "execution_count": 6,
   "id": "4f388fed-b7b5-4641-9f34-34f21021d046",
   "metadata": {
    "scrolled": true
   },
   "outputs": [
    {
     "data": {
      "text/plain": [
       "(True, False)"
      ]
     },
     "execution_count": 6,
     "metadata": {},
     "output_type": "execute_result"
    }
   ],
   "source": [
    "psi_RWKV_gumbel.is_gumbel,psi_RWKV.is_gumbel\n",
    "\n"
   ]
  },
  {
   "cell_type": "code",
   "execution_count": 7,
   "id": "6872fc76-7bde-41ad-b77a-cf93a0a72e82",
   "metadata": {
    "scrolled": true
   },
   "outputs": [],
   "source": [
    "key = jrnd.PRNGKey(1)\n",
    "key2 = jrnd.PRNGKey(1)\n",
    "\n",
    "sampler = jVMC.sampler.MCSampler(psi_RWKV,(L,),key)\n",
    "sampler_gumbel = jVMC.sampler.MCSampler(psi_RWKV_gumbel,(L,),key2)\n",
    "\n",
    "lr_SR = 1e-2\n",
    "minSR_equation = jVMC.util.MinSR(sampler, makeReal='real',diagonalShift=1e-2)#,diagonalMulti=1e-3)\n",
    "minSR_equation_gumbel = jVMC.util.MinSR(sampler_gumbel, makeReal='real',diagonalShift=1e-2)#,diagonalMulti=1e-3)\n",
    "\n",
    "stepperSR = jVMC.util.stepper.Euler(timeStep=lr_SR)  \n",
    "    "
   ]
  },
  {
   "cell_type": "code",
   "execution_count": 8,
   "id": "5f64b27e-bfbe-4f5f-9b51-c025a1f6e93a",
   "metadata": {
    "scrolled": true
   },
   "outputs": [
    {
     "data": {
      "text/plain": [
       "(Array([[[0, 3, 0, 2, 0],\n",
       "         [3, 2, 0, 0, 0],\n",
       "         [3, 2, 0, 0, 0],\n",
       "         [3, 2, 0, 0, 0],\n",
       "         [3, 0, 1, 0, 1],\n",
       "         [2, 3, 0, 0, 0],\n",
       "         [3, 0, 2, 0, 0],\n",
       "         [3, 1, 0, 0, 1],\n",
       "         [3, 1, 0, 0, 1],\n",
       "         [3, 2, 0, 0, 0],\n",
       "         [3, 2, 0, 0, 0],\n",
       "         [3, 2, 0, 0, 0],\n",
       "         [3, 2, 0, 0, 0],\n",
       "         [5, 0, 0, 0, 0],\n",
       "         [3, 1, 0, 0, 1],\n",
       "         [3, 2, 0, 0, 0],\n",
       "         [3, 2, 0, 0, 0],\n",
       "         [4, 0, 0, 0, 1],\n",
       "         [3, 0, 2, 0, 0],\n",
       "         [3, 1, 0, 0, 1],\n",
       "         [4, 0, 1, 0, 0],\n",
       "         [3, 2, 0, 0, 0],\n",
       "         [3, 0, 2, 0, 0],\n",
       "         [3, 2, 0, 0, 0],\n",
       "         [3, 2, 0, 0, 0],\n",
       "         [4, 0, 0, 0, 1],\n",
       "         [4, 0, 0, 0, 1],\n",
       "         [3, 2, 0, 0, 0],\n",
       "         [4, 0, 1, 0, 0],\n",
       "         [3, 0, 2, 0, 0],\n",
       "         [3, 2, 0, 0, 0],\n",
       "         [3, 2, 0, 0, 0],\n",
       "         [3, 2, 0, 0, 0],\n",
       "         [4, 0, 1, 0, 0],\n",
       "         [4, 0, 0, 0, 1],\n",
       "         [3, 2, 0, 0, 0],\n",
       "         [2, 3, 0, 0, 0],\n",
       "         [4, 0, 0, 0, 1],\n",
       "         [3, 0, 2, 0, 0],\n",
       "         [3, 1, 0, 0, 1],\n",
       "         [4, 0, 0, 0, 1],\n",
       "         [4, 1, 0, 0, 0],\n",
       "         [2, 3, 0, 0, 0],\n",
       "         [0, 3, 2, 0, 0],\n",
       "         [3, 2, 0, 0, 0],\n",
       "         [3, 2, 0, 0, 0],\n",
       "         [3, 0, 2, 0, 0],\n",
       "         [3, 2, 0, 0, 0],\n",
       "         [4, 0, 0, 0, 1],\n",
       "         [3, 2, 0, 0, 0],\n",
       "         [3, 2, 0, 0, 0],\n",
       "         [4, 0, 0, 0, 1],\n",
       "         [4, 0, 1, 0, 0],\n",
       "         [4, 0, 0, 0, 1],\n",
       "         [2, 3, 0, 0, 0],\n",
       "         [3, 0, 2, 0, 0],\n",
       "         [4, 0, 1, 0, 0],\n",
       "         [3, 1, 0, 0, 1],\n",
       "         [4, 0, 0, 0, 1],\n",
       "         [3, 2, 0, 0, 0],\n",
       "         [3, 0, 2, 0, 0],\n",
       "         [2, 3, 0, 0, 0],\n",
       "         [3, 2, 0, 0, 0],\n",
       "         [3, 2, 0, 0, 0]]], dtype=int64),\n",
       " Array([[-2.43035489, -0.45066153, -0.45066153, -0.45066153, -1.76335623,\n",
       "         -1.28019037, -1.00540472, -1.58307242, -1.58307242, -0.45066153,\n",
       "         -0.45066153, -0.45066153, -0.45066153, -2.12577372, -1.58307242,\n",
       "         -0.45066153, -0.45066153, -1.12032344, -1.00540472, -1.58307242,\n",
       "         -1.26461783, -0.45066153, -1.00540472, -0.45066153, -0.45066153,\n",
       "         -1.12032344, -1.12032344, -0.45066153, -1.26461783, -1.00540472,\n",
       "         -0.45066153, -0.45066153, -0.45066153, -1.26461783, -1.12032344,\n",
       "         -0.45066153, -1.28019037, -1.12032344, -1.00540472, -1.58307242,\n",
       "         -1.12032344, -2.03479579, -1.28019037, -2.39569901, -0.45066153,\n",
       "         -0.45066153, -1.00540472, -0.45066153, -1.12032344, -0.45066153,\n",
       "         -0.45066153, -1.12032344, -1.26461783, -1.12032344, -1.28019037,\n",
       "         -1.00540472, -1.26461783, -1.58307242, -1.12032344, -0.45066153,\n",
       "         -1.00540472, -1.28019037, -0.45066153, -0.45066153]],      dtype=float64),\n",
       " Array([[0.015625, 0.015625, 0.015625, 0.015625, 0.015625, 0.015625,\n",
       "         0.015625, 0.015625, 0.015625, 0.015625, 0.015625, 0.015625,\n",
       "         0.015625, 0.015625, 0.015625, 0.015625, 0.015625, 0.015625,\n",
       "         0.015625, 0.015625, 0.015625, 0.015625, 0.015625, 0.015625,\n",
       "         0.015625, 0.015625, 0.015625, 0.015625, 0.015625, 0.015625,\n",
       "         0.015625, 0.015625, 0.015625, 0.015625, 0.015625, 0.015625,\n",
       "         0.015625, 0.015625, 0.015625, 0.015625, 0.015625, 0.015625,\n",
       "         0.015625, 0.015625, 0.015625, 0.015625, 0.015625, 0.015625,\n",
       "         0.015625, 0.015625, 0.015625, 0.015625, 0.015625, 0.015625,\n",
       "         0.015625, 0.015625, 0.015625, 0.015625, 0.015625, 0.015625,\n",
       "         0.015625, 0.015625, 0.015625, 0.015625]], dtype=float64))"
      ]
     },
     "execution_count": 8,
     "metadata": {},
     "output_type": "execute_result"
    }
   ],
   "source": [
    "#%timeit sampler_gumbel.sample(numSamples=2**6)\n",
    "#%timeit sampler.sample(numSamples=2**6)\n",
    "sampler.sample(numSamples=2**6)\n"
   ]
  },
  {
   "cell_type": "code",
   "execution_count": 9,
   "id": "4f5a611d-e7aa-40a4-b2c7-1977567ad477",
   "metadata": {
    "scrolled": true
   },
   "outputs": [
    {
     "name": "stderr",
     "output_type": "stream",
     "text": [
      "energy: -4.12+-4.1188 __ gumbel energy: -8.47+-8.52: 100%|███████████████████████████████████████████████████████████████████████████████████████████████████████████████████████| 500/500 [01:59<00:00,  4.17it/s]\n"
     ]
    }
   ],
   "source": [
    "training_steps= 500\n",
    "resTraining = np.zeros((training_steps,2))\n",
    "resTraining_gumbel = np.zeros((training_steps,2))\n",
    "\n",
    "numS = 2**6\n",
    "pbar = tqdm(range(training_steps))\n",
    "for n,p in enumerate(pbar):\n",
    "    dpOld = psi_RWKV.get_parameters()        \n",
    "    #print(dpOld.shape)\n",
    "    dp, _ = stepperSR.step(0, minSR_equation, dpOld, hamiltonian=H, psi=psi_RWKV, numSamples=numS)\n",
    "    psi_RWKV.set_parameters(jnp.real(dp))\n",
    "    resTraining[n] = [jnp.real(minSR_equation.ElocMean0) , minSR_equation.ElocVar0 ]\n",
    "    \n",
    "    dpOld = psi_RWKV_gumbel.get_parameters()                \n",
    "    dp, _ = stepperSR.step(0, minSR_equation_gumbel, dpOld, hamiltonian=H, psi=psi_RWKV_gumbel, numSamples=numS)\n",
    "    psi_RWKV_gumbel.set_parameters(jnp.real(dp))\n",
    "    resTraining_gumbel[n] = [jnp.real(minSR_equation_gumbel.ElocMean0) , minSR_equation_gumbel.ElocVar0 ]\n",
    "    \n",
    "    pbar.set_description(f\"energy: {resTraining[n][0]:.2f}+-{np.sqrt(resTraining[n][1]):.4f} __ gumbel \"+f\"energy: {resTraining_gumbel[n][0]:.2f}+-{np.sqrt(resTraining_gumbel[n][1]):.2f}\")"
   ]
  },
  {
   "cell_type": "code",
   "execution_count": 10,
   "id": "4487ebf1-64e2-4133-9647-5bfc51e820db",
   "metadata": {},
   "outputs": [
    {
     "data": {
      "text/plain": [
       "[<matplotlib.lines.Line2D at 0x7f64f3d64400>]"
      ]
     },
     "execution_count": 10,
     "metadata": {},
     "output_type": "execute_result"
    },
    {
     "data": {
      "image/png": "[encoded data removed]",
      "text/plain": [
       "<Figure size 640x480 with 1 Axes>"
      ]
     },
     "metadata": {},
     "output_type": "display_data"
    }
   ],
   "source": [
    "plt.plot(resTraining[:,0],'x')\n",
    "plt.plot(resTraining_gumbel[:,0])\n",
    "#plt.ylim(-10,10)"
   ]
  },
  {
   "cell_type": "code",
   "execution_count": 11,
   "id": "5e43fd19-f977-4a5f-b56c-529aee1e3c96",
   "metadata": {},
   "outputs": [
    {
     "data": {
      "text/plain": [
       "[]"
      ]
     },
     "execution_count": 11,
     "metadata": {},
     "output_type": "execute_result"
    },
    {
     "data": {
      "image/png": "[encoded data removed]",
      "text/plain": [
       "<Figure size 640x480 with 1 Axes>"
      ]
     },
     "metadata": {},
     "output_type": "display_data"
    }
   ],
   "source": [
    "plt.plot(resTraining[:,1],'x')\n",
    "plt.plot(resTraining_gumbel[:,1])\n",
    "#plt.ylim(-10,10)\n",
    "plt.semilogy()"
   ]
  },
  {
   "cell_type": "code",
   "execution_count": 12,
   "id": "2f0b9872-90e7-4c5d-869b-461d50a055ff",
   "metadata": {},
   "outputs": [
    {
     "data": {
      "text/plain": [
       "(Array([[[3, 2, 0, 0, 0],\n",
       "         [2, 3, 0, 0, 0],\n",
       "         [4, 1, 0, 0, 0],\n",
       "         [3, 2, 0, 0, 0],\n",
       "         [3, 2, 0, 0, 0],\n",
       "         [2, 3, 0, 0, 0],\n",
       "         [3, 2, 0, 0, 0],\n",
       "         [2, 3, 0, 0, 0],\n",
       "         [3, 2, 0, 0, 0],\n",
       "         [3, 2, 0, 0, 0],\n",
       "         [3, 2, 0, 0, 0],\n",
       "         [2, 3, 0, 0, 0],\n",
       "         [4, 1, 0, 0, 0],\n",
       "         [4, 1, 0, 0, 0],\n",
       "         [3, 2, 0, 0, 0],\n",
       "         [3, 2, 0, 0, 0]]], dtype=int64),\n",
       " Array([[-0.36165003, -0.63499804, -0.72619239, -0.36165003, -0.36165003,\n",
       "         -0.63499804, -0.36165003, -0.63499804, -0.36165003, -0.36165003,\n",
       "         -0.36165003, -0.63499804, -0.72619239, -0.72619239, -0.36165003,\n",
       "         -0.36165003]], dtype=float64),\n",
       " Array([[0.0625, 0.0625, 0.0625, 0.0625, 0.0625, 0.0625, 0.0625, 0.0625,\n",
       "         0.0625, 0.0625, 0.0625, 0.0625, 0.0625, 0.0625, 0.0625, 0.0625]],      dtype=float64))"
      ]
     },
     "execution_count": 12,
     "metadata": {},
     "output_type": "execute_result"
    }
   ],
   "source": [
    "sampler.sample(numSamples=16)"
   ]
  },
  {
   "cell_type": "code",
   "execution_count": 13,
   "id": "fa0124e9-d0df-4eb1-baa2-8a1e73163829",
   "metadata": {},
   "outputs": [
    {
     "data": {
      "text/plain": [
       "(Array([[[1, 2, 1, 1, 0],\n",
       "         [2, 3, 0, 0, 0],\n",
       "         [4, 1, 0, 0, 0],\n",
       "         [1, 2, 1, 0, 1],\n",
       "         [3, 1, 1, 0, 0],\n",
       "         [3, 2, 0, 0, 0],\n",
       "         [2, 2, 0, 0, 1],\n",
       "         [2, 1, 0, 0, 2],\n",
       "         [3, 0, 0, 1, 1],\n",
       "         [2, 2, 1, 0, 0],\n",
       "         [2, 1, 1, 1, 0],\n",
       "         [1, 2, 0, 2, 0],\n",
       "         [4, 0, 0, 1, 0],\n",
       "         [3, 1, 0, 0, 1],\n",
       "         [2, 1, 0, 2, 0],\n",
       "         [0, 3, 1, 1, 0]]], dtype=int64),\n",
       " Array([[-1.58761879, -1.45485378, -1.95973184, -1.51739892, -1.61464183,\n",
       "         -1.61051167, -1.57295129, -2.04602608, -2.68080131, -1.35258884,\n",
       "         -1.60259304, -2.2746053 , -2.58100576, -1.82699067, -2.05081168,\n",
       "         -2.29276343]], dtype=float64),\n",
       " Array([[0.08624436, 0.11247317, 0.04097485, 0.09924826, 0.08170691,\n",
       "         0.08238463, 0.08881181, 0.03447968, 0.00968734, 0.13799874,\n",
       "         0.08369976, 0.02182839, 0.0118273 , 0.05343366, 0.03415124,\n",
       "         0.02104989]], dtype=float64))"
      ]
     },
     "execution_count": 13,
     "metadata": {},
     "output_type": "execute_result"
    }
   ],
   "source": [
    "sampler_gumbel.sample(numSamples=16)"
   ]
  },
  {
   "cell_type": "code",
   "execution_count": null,
   "id": "e9e87069-c91a-4308-9d17-09324a4ecdc6",
   "metadata": {},
   "outputs": [],
   "source": []
  },
  {
   "cell_type": "code",
   "execution_count": 14,
   "id": "2fdaf52f-6c06-402a-a6f4-d173e98662e3",
   "metadata": {},
   "outputs": [
    {
     "ename": "NameError",
     "evalue": "name 'gumbel_sampler' is not defined",
     "output_type": "error",
     "traceback": [
      "\u001b[0;31m---------------------------------------------------------------------------\u001b[0m",
      "\u001b[0;31mNameError\u001b[0m                                 Traceback (most recent call last)",
      "Cell \u001b[0;32mIn[14], line 1\u001b[0m\n\u001b[0;32m----> 1\u001b[0m net_g \u001b[38;5;241m=\u001b[39m \u001b[43mgumbel_sampler\u001b[49m(net_RWKV_gumbel)\n\u001b[1;32m      2\u001b[0m psi_g \u001b[38;5;241m=\u001b[39m jVMC\u001b[38;5;241m.\u001b[39mvqs\u001b[38;5;241m.\u001b[39mNQS(net_g)\n",
      "\u001b[0;31mNameError\u001b[0m: name 'gumbel_sampler' is not defined"
     ]
    }
   ],
   "source": [
    "net_g = gumbel_sampler(net_RWKV_gumbel)\n",
    "psi_g = jVMC.vqs.NQS(net_g)"
   ]
  },
  {
   "cell_type": "code",
   "execution_count": null,
   "id": "6a322f89-2126-4ff6-a685-9ea1cc536513",
   "metadata": {},
   "outputs": [],
   "source": [
    "sampler_new = jVMC.sampler.MCSampler(psi_g,(L,),12,jrnd.PRNGKey(1))"
   ]
  },
  {
   "cell_type": "code",
   "execution_count": null,
   "id": "2ed77199-7234-4f5b-b544-14fc2c8dbd56",
   "metadata": {},
   "outputs": [],
   "source": [
    "%timeit sampler_new.sample(numSamples=1024)"
   ]
  },
  {
   "cell_type": "code",
   "execution_count": null,
   "id": "090464f6-d29d-43e3-8aa0-3dfe7b96ee14",
   "metadata": {},
   "outputs": [],
   "source": [
    "s,l,p = sampler_new.sample(numSamples=129)\n"
   ]
  },
  {
   "cell_type": "code",
   "execution_count": null,
   "id": "4ba68e30-266d-44c6-a0fb-6c8d75890209",
   "metadata": {},
   "outputs": [],
   "source": [
    "jnp.exp(2*l)-p"
   ]
  },
  {
   "cell_type": "code",
   "execution_count": null,
   "id": "faae9cf7-68ba-49d8-9649-8ff5a3113c9b",
   "metadata": {},
   "outputs": [],
   "source": [
    "def jonasFunction(self,x,*args):\n",
    "    return self(x,block_states=None,output_state=False)"
   ]
  },
  {
   "cell_type": "code",
   "execution_count": null,
   "id": "d1087400-a026-4512-8aed-37ac423d70d2",
   "metadata": {},
   "outputs": [],
   "source": [
    "psi_RWKV.net.apply(psi_RWKV.parameters,homFock,method=jonasFunction) "
   ]
  },
  {
   "cell_type": "code",
   "execution_count": null,
   "id": "a142f1ad-0db0-45bf-b02a-a21b6626ac58",
   "metadata": {},
   "outputs": [],
   "source": [
    "import math\n",
    "math.comb(N+L-1,L-1)"
   ]
  },
  {
   "cell_type": "code",
   "execution_count": null,
   "id": "5c548373-1d7a-4be2-aa3c-eb7eb7140664",
   "metadata": {},
   "outputs": [],
   "source": [
    "jnp.exp(-jnp.inf)"
   ]
  },
  {
   "cell_type": "code",
   "execution_count": null,
   "id": "f9f12b31-6ac3-4aac-95dc-7e28ba4e718a",
   "metadata": {},
   "outputs": [],
   "source": []
  }
 ],
 "metadata": {
  "kernelspec": {
   "display_name": "Python 3 (ipykernel)",
   "language": "python",
   "name": "python3"
  },
  "language_info": {
   "codemirror_mode": {
    "name": "ipython",
    "version": 3
   },
   "file_extension": ".py",
   "mimetype": "text/x-python",
   "name": "python",
   "nbconvert_exporter": "python",
   "pygments_lexer": "ipython3",
   "version": "3.9.19"
  }
 },
 "nbformat": 4,
 "nbformat_minor": 5
}
