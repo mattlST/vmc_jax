{
 "cells": [
  {
   "cell_type": "code",
   "execution_count": 1,
   "id": "aafe881f-5273-4d6d-aec4-8b74a1b4bd79",
   "metadata": {},
   "outputs": [
    {
     "name": "stderr",
     "output_type": "stream",
     "text": [
      "WARNING:absl:Tensorflow library not found, tensorflow.io.gfile operations will use native shim calls. GCS paths (i.e. 'gs://...') cannot be accessed.\n"
     ]
    }
   ],
   "source": [
    "import jVMC\n",
    "import jax\n",
    "#from jax.config import config\n",
    "jax.config.update(\"jax_enable_x64\", True)\n",
    "import jax.random as jrnd\n",
    "import jax.random as random\n",
    "\n",
    "import jax.numpy as jnp\n",
    "from functools import partial\n",
    "import numpy as np\n",
    "import jVMC.global_defs as global_defs\n",
    "from tqdm import tqdm\n",
    "import matplotlib.pyplot as plt\n",
    "from flax import linen as nn\n",
    "from typing import Any, List, Optional, Tuple\n",
    "from jax import Array, vmap, jit\n",
    "import math \n",
    "@jax.jit\n",
    "def sorting_gumble(sample,logits,gumbel,states):\n",
    "    indexes = jnp.argsort((-gumbel),axis=None)#.reshape(shape_gumbel)\n",
    "    numSamples = sample.shape[0]\n",
    "    ldim = sample.shape[1]\n",
    "    L = sample.shape[2]\n",
    "    #jax.debug.print(\"shape {x},{y},{z}\",x=numSamples,y=ldim,z=L)\n",
    "    indexes_states = (indexes // ldim)[:numSamples]\n",
    "    sample = sample.reshape(-1,L)[indexes]\n",
    "    sample = sample.reshape(ldim,numSamples,L)\n",
    "    sample = jnp.swapaxes(sample,0,1)\n",
    "    \n",
    "    logits = logits.ravel()[indexes]\n",
    "    logits = logits.reshape(ldim,numSamples).T\n",
    "    \n",
    "    gumbel = gumbel.ravel()[indexes]\n",
    "    gumbel = gumbel.reshape(ldim,numSamples).T\n",
    "\n",
    "    vals, treedef  = jax.tree_util.tree_flatten(states)\n",
    "    vals_ordered = [v[indexes_states] for v in vals]\n",
    "    states = jax.tree_util.tree_unflatten(treedef,vals_ordered)\n",
    "    return sample,logits,gumbel,states\n",
    "\n",
    "class gumbel_wrapper(nn.Module):\n",
    "    \"\"\"\n",
    "    Wrapper module for symmetrization.\n",
    "    This is a wrapper module for the incorporation of lattice symmetries. \n",
    "    The given plain ansatz :math:`\\\\psi_\\\\theta` is symmetrized as\n",
    "\n",
    "        :math:`\\\\Psi_\\\\theta(s)=\\\\frac{1}{|\\\\mathcal S|}\\\\sum_{\\\\tau\\\\in\\\\mathcal S}\\\\psi_\\\\theta(\\\\tau(s))`\n",
    "\n",
    "    where :math:`\\\\mathcal S` denotes the set of symmetry operations (``orbit`` in our nomenclature).\n",
    "\n",
    "    Initialization arguments:\n",
    "        * ``orbit``: orbits which define the symmetry operations (instance of ``util.symmetries.LatticeSymmetry``)\n",
    "        * ``net``: Flax module defining the plain ansatz.\n",
    "        * ``avgFun``: Different choices for the details of averaging.\n",
    "\n",
    "    \"\"\"\n",
    "    #orbit: LatticeSymmetry\n",
    "    net: callable\n",
    "    is_gumbel = True\n",
    "\n",
    "    #avgFun: callable = avgFun_Coefficients_Exp\n",
    "    def __setup__(self):\n",
    "        self.L = self.net.L\n",
    "\n",
    "    def __post_init__(self):\n",
    "\n",
    "        super().__post_init__()\n",
    "        #self.orbit = None\n",
    "        #self.is_generator = self.net.is_generator\n",
    "    \"\"\"\n",
    "    def __call__(self, x):\n",
    "\n",
    "        inShape = x.shape\n",
    "        x = 2 * x - 1\n",
    "        x = jax.vmap(lambda o, s: jnp.dot(o, s.ravel()).reshape(inShape), in_axes=(0, None))(self.orbit.orbit, x)\n",
    "        x = (x + 1) // 2\n",
    "\n",
    "        def evaluate(x):\n",
    "            return self.net(x)\n",
    "\n",
    "        res = jax.vmap(evaluate)(x)\n",
    "        return self.avgFun(res, self.orbit.factor)\n",
    "    \"\"\"\n",
    "    \n",
    "    def __call__(self,*args,**kwargs):\n",
    "        \n",
    "        #def evaluate(x):\n",
    "        #    return self.net(x)\n",
    "\n",
    "        #res = jax.vmap(evaluate)(x)\n",
    "        return self.net(*args,**kwargs)\n",
    "        \n",
    "    def _apply_fun(self, *args,**kwargs):\n",
    "        return self.net.apply(*args,**kwargs)\n",
    "\n",
    "# ** end class SymNet\n",
    "        #return sample,logits,gumbel,states\n",
    "    \n",
    "    \n",
    "    def _gumbel_step(self,sample,logits,gumbel,key,states,position):        \n",
    "        particles_left = self.net.Q - jnp.sum(sample[0]+jnp.abs(sample[0]))//2\n",
    "        #new samples with (0,..,ldim-1) at position\n",
    "        sample = jnp.array([sample[0].at[position].set(l) for l in jnp.arange(self.net.ldim)])\n",
    "        #right shifted input\n",
    "        inputt = jnp.array([jnp.pad(sample[0,:-1],(1,0))])\n",
    "        logitnew, next_states = self(inputt[:,position],block_states = states, output_state=True)\n",
    "        #logitnew, next_states = self.net.net(inputt[:,position],block_states = states, output_state=True)\n",
    "    \n",
    "        #jax.debug.print(\"pl: {x}\",x=particles_left)\n",
    "        must_give = jax.nn.relu(particles_left-self.net.max_particles[position])\n",
    "\n",
    "        # number of particles that can be assigned\n",
    "        can_give = jnp.minimum(particles_left, self.net.ldim-1)\n",
    "        mask = (self.net.must_mask[must_give] + \n",
    "                    self.net.can_mask[can_give.astype(int)]) \n",
    "        #logit_renorm =  logitnew - mask ** jnp.inf\n",
    "        #jax.debug.print(\"mask {x}\", x=mask)\n",
    "        logitnew =  jax.nn.log_softmax(logitnew - mask ** jnp.inf)\n",
    "        #jax.debug.print(\"logits new {x}\", x=logitnew)\n",
    "        #jax.debug.print(\"logits[0] {x}\", x=logits[0])\n",
    "        \n",
    "        logitnew = logits[0] + logitnew - mask ** jnp.inf\n",
    "        #jax.debug.print(\"logits new {x}\", x=logitnew)\n",
    "\n",
    "        gumbelnew = logitnew + jrnd.gumbel(key[0],shape=(self.net.ldim,))  ## logitnew or logits[0]?\n",
    "        #gumbelnew = logits[0] + jrnd.gumbel(key[0],shape=(ldim,))\n",
    "        #jax.debug.print(\"gumbelnew new {x}\", x=gumbelnew)\n",
    "\n",
    "        Z = jnp.nanmax(gumbelnew)\n",
    "        gumbelnew = jnp.nan_to_num(-jnp.log(\n",
    "            jnp.exp(-gumbel[0])-jnp.exp(-Z)+jnp.exp(-gumbelnew) # -sign at gumbelnew??\n",
    "            ),nan=-jnp.inf)\n",
    "        #gumbelnew = (-jnp.log(jnp.exp(-gumbel[0])-jnp.exp(-Z)+jnp.exp(gumbelnew)))\n",
    "        gumbelnew = gumbelnew- mask ** jnp.inf\n",
    "        return sample, logitnew, gumbelnew, next_states\n",
    "    def sample(self, numSamples: int, key) -> Array:\n",
    "        \"\"\"Autoregressively sample a spin configuration.\n",
    "\n",
    "        Args:\n",
    "            * ``numSamples``: The number of configurations to generate.\n",
    "            * ``key``: JAX random key.\n",
    "\n",
    "        Returns:\n",
    "            A batch of spin configurations.\n",
    "        \"\"\"\n",
    "        \n",
    "        \"\"\"\n",
    "        def generate_sample(key):\n",
    "            key = jrnd.split(key, self.net.L)\n",
    "            logits, carry = self(jnp.zeros(1,dtype=int),block_states = None, output_state=True)\n",
    "\n",
    "            choice = jrnd.categorical(key[0], logits.ravel()) # abide by the indexing convention and apply -1\n",
    "            s_cumsum = self.net.Q - choice # create cumsum of the quantum number\n",
    "            _, s = self._scanning_fn((jnp.expand_dims(choice,0),carry,s_cumsum),(key[1:],jnp.arange(1,self.net.L)))\n",
    "            return jnp.concatenate([jnp.expand_dims(choice,0),s])\n",
    "        \"\"\"\n",
    "        # get the samples\n",
    "        keys = jrnd.split(key, (self.net.L))\n",
    "        ## init stap\n",
    "        shape_samples = (numSamples,self.net.ldim,self.net.L)\n",
    "        shape_logits = (numSamples,self.net.ldim)\n",
    "        shape_gumbel = (numSamples,self.net.ldim)\n",
    "        #print(shape_samples,shape_logits)\n",
    "        working_space_samples = jnp.full(shape_samples,-2,dtype=jnp.int64)\n",
    "        working_space_logits = jnp.full(shape_logits,-jnp.inf,dtype=jnp.float64)\n",
    "        working_space_gumbel = jnp.full(shape_gumbel,-jnp.inf,dtype=jnp.float64)\n",
    "        \n",
    "        working_space_samples = working_space_samples.at[0,0,0].set(0)\n",
    "        working_space_logits = working_space_logits.at[0,0].set(0.)\n",
    "        working_space_gumbel = working_space_gumbel.at[0,0].set(0.)\n",
    "        \n",
    "        states = None\n",
    "        init_work = partial(self._gumbel_step, position=0,states=states)\n",
    "        key0 = jrnd.split(keys[0],numSamples)\n",
    "        key0 = jnp.expand_dims(key0,-2)\n",
    "        sample,logits,gumbel,states  = jax.vmap(init_work)(working_space_samples,working_space_logits,working_space_gumbel,key0)\n",
    "        \n",
    "        init_carry = sorting_gumble(sample,logits,gumbel,states)\n",
    "        \n",
    "        res,_ = self._scanning_fn(init_carry,(keys[1:],jnp.arange(1,self.net.L)))\n",
    "        samples, logits,gumbels,_ = res\n",
    "        \n",
    "        kappa = gumbels[0,1]\n",
    "        #jax.debug.print(\"kappa {x}\", x=kappa)\n",
    "        #if not self.orbit is None:\n",
    "        #    logits = self(samples)\n",
    "            \n",
    "\n",
    "        re_weights = jnp.nan_to_num(jnp.exp(logits[:,0]) /(-jnp.expm1(-jnp.exp(logits[:,0]-kappa))),0)\n",
    "        #jax.debug.print(\"re {x}\", x=re_weights)\n",
    "\n",
    "            \n",
    "        # return to the spinless representation\n",
    "        return samples[:,0,:],logits[:,0]*self.net.logProbFactor,re_weights/jnp.sum(re_weights)\n",
    "\n",
    "    @partial(nn.scan,\n",
    "             variable_broadcast='params',\n",
    "             split_rngs={'params': False})\n",
    "    def _scanning_fn(self, carry, key):\n",
    "        position = key[1]\n",
    "        sample = carry[0]\n",
    "        #jax.debug.print(\"{x}\", x=sample)\n",
    "\n",
    "        logits = carry[1]\n",
    "        gumbel = carry[2]\n",
    "        states = carry[3]\n",
    "        keys = jrnd.split(key[0],carry[0].shape[0])\n",
    "        keys = jnp.expand_dims(keys,-2)\n",
    "\n",
    "        p_workN = partial(self._gumbel_step,position=position)\n",
    "        sample,logits,gumbel,states = jax.vmap(p_workN)(sample,logits,gumbel,keys,states)\n",
    "        #jax.debug.print(\"gumbelnew new {x}\", x=gumbel)\n",
    "\n",
    "        #### sorting gumble value\n",
    "        return sorting_gumble(sample,logits,gumbel,states),None\n",
    "        \"\"\"\n",
    "        logits, next_states = self(carry[0],block_states = carry[1], output_state=True)\n",
    "        #jax.debug.print(\"logits {x}\\n carry {y}\",x=logits,y=carry)\n",
    "\n",
    "        ##############################################\n",
    "        # mask logits\n",
    "        # number of particles that mus assigned\n",
    "        must_give = nn.relu(carry[2]-self.net.max_particles[key[1]])\n",
    "        # number of particles that can be assigned\n",
    "        can_give = jnp.minimum(carry[2], self.net.LocalHilDim-1)\n",
    "        # compute mask\n",
    "        mask = (self.net.must_mask[must_give] + \n",
    "                    self.net.can_mask[can_give.astype(int)]) \n",
    "        ##############################################\n",
    "        logits = logits - mask ** jnp.inf\n",
    "        choice = jrnd.categorical(key[0], logits.ravel().real) # abide by the indexing convention\n",
    "        ##############################################\n",
    "        s_cumsum = carry[2] - choice\n",
    "        return (jnp.expand_dims(choice,0), next_states, s_cumsum), choice\n",
    "        \"\"\"\n",
    "\n",
    "class gumbel_wrapper_no(nn.Module):\n",
    "    \"\"\"\n",
    "    Wrapper module for symmetrization.\n",
    "    This is a wrapper module for the incorporation of lattice symmetries. \n",
    "    The given plain ansatz :math:`\\\\psi_\\\\theta` is symmetrized as\n",
    "\n",
    "        :math:`\\\\Psi_\\\\theta(s)=\\\\frac{1}{|\\\\mathcal S|}\\\\sum_{\\\\tau\\\\in\\\\mathcal S}\\\\psi_\\\\theta(\\\\tau(s))`\n",
    "\n",
    "    where :math:`\\\\mathcal S` denotes the set of symmetry operations (``orbit`` in our nomenclature).\n",
    "\n",
    "    Initialization arguments:\n",
    "        * ``orbit``: orbits which define the symmetry operations (instance of ``util.symmetries.LatticeSymmetry``)\n",
    "        * ``net``: Flax module defining the plain ansatz.\n",
    "        * ``avgFun``: Different choices for the details of averaging.\n",
    "\n",
    "    \"\"\"\n",
    "    #orbit: LatticeSymmetry\n",
    "    net: callable\n",
    "    is_gumbel = True\n",
    "\n",
    "    #avgFun: callable = avgFun_Coefficients_Exp\n",
    "    def __setup__(self):\n",
    "        self.L = self.net.L\n",
    "\n",
    "    def __post_init__(self):\n",
    "\n",
    "        super().__post_init__()\n",
    "        #self.orbit = None\n",
    "        #self.is_generator = self.net.is_generator\n",
    "    \"\"\"\n",
    "    def __call__(self, x):\n",
    "\n",
    "        inShape = x.shape\n",
    "        x = 2 * x - 1\n",
    "        x = jax.vmap(lambda o, s: jnp.dot(o, s.ravel()).reshape(inShape), in_axes=(0, None))(self.orbit.orbit, x)\n",
    "        x = (x + 1) // 2\n",
    "\n",
    "        def evaluate(x):\n",
    "            return self.net(x)\n",
    "\n",
    "        res = jax.vmap(evaluate)(x)\n",
    "        return self.avgFun(res, self.orbit.factor)\n",
    "    \"\"\"\n",
    "    \n",
    "    def __call__(self,*args,**kwargs):\n",
    "        \n",
    "        #def evaluate(x):\n",
    "        #    return self.net(x)\n",
    "\n",
    "        #res = jax.vmap(evaluate)(x)\n",
    "        return self.net(*args,**kwargs)\n",
    "        \n",
    "    def _apply_fun(self, *args,**kwargs):\n",
    "        return self.net.apply(*args,**kwargs)\n",
    "\n",
    "# ** end class SymNet\n",
    "        #return sample,logits,gumbel,states\n",
    "    \n",
    "    \n",
    "    def _gumbel_step(self,sample,logits,gumbel,key,states,position):        \n",
    "        #new samples with (0,..,ldim-1) at position\n",
    "        sample = jnp.array([sample[0].at[position].set(l) for l in jnp.arange(self.net.ldim)])\n",
    "        #right shifted input\n",
    "        inputt = jnp.array([jnp.pad(sample[0,:-1],(1,0))])\n",
    "        logitnew, next_states = self(inputt[:,position],block_states = states, output_state=True)\n",
    "        #logitnew, next_states = self.net.net(inputt[:,position],block_states = states, output_state=True)\n",
    "    \n",
    "        #jax.debug.print(\"pl: {x}\",x=particles_left)\n",
    "        #must_give = jax.nn.relu(particles_left-self.net.max_particles[position])\n",
    "\n",
    "        # number of particles that can be assigned\n",
    "        #can_give = jnp.minimum(particles_left, self.net.ldim-1)\n",
    "        #mask = (self.net.must_mask[must_give] + \n",
    "        #            self.net.can_mask[can_give.astype(int)]) \n",
    "        #logit_renorm =  logitnew - mask ** jnp.inf\n",
    "        #jax.debug.print(\"mask {x}\", x=mask)\n",
    "        #logitnew =  jax.nn.log_softmax(logitnew - mask ** jnp.inf)\n",
    "        #jax.debug.print(\"logits new {x}\", x=logitnew)\n",
    "        #jax.debug.print(\"logits[0] {x}\", x=logits[0])\n",
    "        \n",
    "        logitnew = logits[0] + logitnew #- mask ** jnp.inf\n",
    "        #jax.debug.print(\"logits new {x}\", x=logitnew)\n",
    "\n",
    "        gumbelnew = logitnew + jrnd.gumbel(key[0],shape=(self.net.ldim,))  ## logitnew or logits[0]?\n",
    "        #gumbelnew = logits[0] + jrnd.gumbel(key[0],shape=(ldim,))\n",
    "        #jax.debug.print(\"gumbelnew new {x}\", x=gumbelnew)\n",
    "\n",
    "        Z = jnp.nanmax(gumbelnew)\n",
    "        gumbelnew = jnp.nan_to_num(-jnp.log(\n",
    "            jnp.exp(-gumbel[0])-jnp.exp(-Z)+jnp.exp(-gumbelnew) # -sign at gumbelnew??\n",
    "            ),nan=-jnp.inf)\n",
    "        #gumbelnew = (-jnp.log(jnp.exp(-gumbel[0])-jnp.exp(-Z)+jnp.exp(gumbelnew)))\n",
    "        gumbelnew = gumbelnew#- mask ** jnp.inf\n",
    "        return sample, logitnew, gumbelnew, next_states\n",
    "    def sample(self, numSamples: int, key) -> Array:\n",
    "        \"\"\"Autoregressively sample a spin configuration.\n",
    "\n",
    "        Args:\n",
    "            * ``numSamples``: The number of configurations to generate.\n",
    "            * ``key``: JAX random key.\n",
    "\n",
    "        Returns:\n",
    "            A batch of spin configurations.\n",
    "        \"\"\"\n",
    "        \n",
    "        \"\"\"\n",
    "        def generate_sample(key):\n",
    "            key = jrnd.split(key, self.net.L)\n",
    "            logits, carry = self(jnp.zeros(1,dtype=int),block_states = None, output_state=True)\n",
    "\n",
    "            choice = jrnd.categorical(key[0], logits.ravel()) # abide by the indexing convention and apply -1\n",
    "            s_cumsum = self.net.Q - choice # create cumsum of the quantum number\n",
    "            _, s = self._scanning_fn((jnp.expand_dims(choice,0),carry,s_cumsum),(key[1:],jnp.arange(1,self.net.L)))\n",
    "            return jnp.concatenate([jnp.expand_dims(choice,0),s])\n",
    "        \"\"\"\n",
    "        # get the samples\n",
    "        keys = jrnd.split(key, (self.net.L))\n",
    "        ## init stap\n",
    "        shape_samples = (numSamples,self.net.ldim,self.net.L)\n",
    "        shape_logits = (numSamples,self.net.ldim)\n",
    "        shape_gumbel = (numSamples,self.net.ldim)\n",
    "        #print(shape_samples,shape_logits)\n",
    "        working_space_samples = jnp.full(shape_samples,-2,dtype=jnp.int64)\n",
    "        working_space_logits = jnp.full(shape_logits,-jnp.inf,dtype=jnp.float64)\n",
    "        working_space_gumbel = jnp.full(shape_gumbel,-jnp.inf,dtype=jnp.float64)\n",
    "        \n",
    "        working_space_samples = working_space_samples.at[0,0,0].set(0)\n",
    "        working_space_logits = working_space_logits.at[0,0].set(0.)\n",
    "        working_space_gumbel = working_space_gumbel.at[0,0].set(0.)\n",
    "        \n",
    "        states = None\n",
    "        init_work = partial(self._gumbel_step, position=0,states=states)\n",
    "        key0 = jrnd.split(keys[0],numSamples)\n",
    "        key0 = jnp.expand_dims(key0,-2)\n",
    "        sample,logits,gumbel,states  = jax.vmap(init_work)(working_space_samples,working_space_logits,working_space_gumbel,key0)\n",
    "        \n",
    "        init_carry = sorting_gumble(sample,logits,gumbel,states)\n",
    "        \n",
    "        res,_ = self._scanning_fn(init_carry,(keys[1:],jnp.arange(1,self.net.L)))\n",
    "        samples, logits,gumbels,_ = res\n",
    "        \n",
    "        kappa = gumbels[0,1]\n",
    "        #jax.debug.print(\"kappa {x}\", x=kappa)\n",
    "        #if not self.orbit is None:\n",
    "        #    logits = self(samples)\n",
    "            \n",
    "\n",
    "        re_weights = jnp.nan_to_num(jnp.exp(logits[:,0]) /(-jnp.expm1(-jnp.exp(logits[:,0]-kappa))),0)\n",
    "        #jax.debug.print(\"re {x}\", x=re_weights)\n",
    "\n",
    "            \n",
    "        # return to the spinless representation\n",
    "        return samples[:,0,:],logits[:,0]*self.net.logProbFactor,re_weights/jnp.sum(re_weights)\n",
    "\n",
    "    @partial(nn.scan,\n",
    "             variable_broadcast='params',\n",
    "             split_rngs={'params': False})\n",
    "    def _scanning_fn(self, carry, key):\n",
    "        position = key[1]\n",
    "        sample = carry[0]\n",
    "        #jax.debug.print(\"{x}\", x=sample)\n",
    "\n",
    "        logits = carry[1]\n",
    "        gumbel = carry[2]\n",
    "        states = carry[3]\n",
    "        keys = jrnd.split(key[0],carry[0].shape[0])\n",
    "        keys = jnp.expand_dims(keys,-2)\n",
    "\n",
    "        p_workN = partial(self._gumbel_step,position=position)\n",
    "        sample,logits,gumbel,states = jax.vmap(p_workN)(sample,logits,gumbel,keys,states)\n",
    "        #jax.debug.print(\"gumbelnew new {x}\", x=gumbel)\n",
    "\n",
    "        #### sorting gumble value\n",
    "        return sorting_gumble(sample,logits,gumbel,states),None\n",
    "        \"\"\"\n",
    "        logits, next_states = self(carry[0],block_states = carry[1], output_state=True)\n",
    "        #jax.debug.print(\"logits {x}\\n carry {y}\",x=logits,y=carry)\n",
    "\n",
    "        ##############################################\n",
    "        # mask logits\n",
    "        # number of particles that mus assigned\n",
    "        must_give = nn.relu(carry[2]-self.net.max_particles[key[1]])\n",
    "        # number of particles that can be assigned\n",
    "        can_give = jnp.minimum(carry[2], self.net.LocalHilDim-1)\n",
    "        # compute mask\n",
    "        mask = (self.net.must_mask[must_give] + \n",
    "                    self.net.can_mask[can_give.astype(int)]) \n",
    "        ##############################################\n",
    "        logits = logits - mask ** jnp.inf\n",
    "        choice = jrnd.categorical(key[0], logits.ravel().real) # abide by the indexing convention\n",
    "        ##############################################\n",
    "        s_cumsum = carry[2] - choice\n",
    "        return (jnp.expand_dims(choice,0), next_states, s_cumsum), choice\n",
    "        \"\"\""
   ]
  },
  {
   "cell_type": "code",
   "execution_count": 2,
   "id": "a76972eb-24cd-422d-9043-0cd351e76071",
   "metadata": {},
   "outputs": [
    {
     "name": "stdout",
     "output_type": "stream",
     "text": [
      "[[[1 1 1 1 1 1 1 1 1 1 1 1 1 1 1 1 1 1 1 1]]]\n"
     ]
    },
    {
     "data": {
      "text/plain": [
       "(68923264410, 128)"
      ]
     },
     "execution_count": 2,
     "metadata": {},
     "output_type": "execute_result"
    }
   ],
   "source": [
    "N = 20\n",
    "L = 20\n",
    "ldim = 11\n",
    "homFock = jnp.ones((1,1,L),dtype=int)\n",
    "J = 1.\n",
    "U = 20.\n",
    "\n",
    "H = jVMC.operator.bosons.BoseHubbard_Hamiltonian1D(L,J,U,lDim=ldim)\n",
    "print(homFock)\n",
    "emb_RWKV = 16\n",
    "\n",
    "depth_RWKV = 2\n",
    "\n",
    "math.comb(N+L-1,L-1),2**7"
   ]
  },
  {
   "cell_type": "code",
   "execution_count": null,
   "id": "e5f5f380-6e10-4e73-bc0d-4b2e31c8d9ae",
   "metadata": {},
   "outputs": [],
   "source": [
    "import bose_hubbard_ground_state\n",
    "fock = bose_hubbard_ground_state.fockStates.fockSpace(N,L)\n",
    "energyED,stateED = bose_hubbard_ground_state.gs_BH(J,U,L,N)"
   ]
  },
  {
   "cell_type": "code",
   "execution_count": null,
   "id": "3990c43e-c010-4c4a-81cd-e4f0f59e5f26",
   "metadata": {},
   "outputs": [],
   "source": [
    "energyED"
   ]
  },
  {
   "cell_type": "code",
   "execution_count": 4,
   "id": "8cccbc78-ae0f-41c8-851b-8622f3b2e563",
   "metadata": {
    "scrolled": true
   },
   "outputs": [],
   "source": [
    "#net_RWKV = jVMC.nets.bosons.GPT(L,N,ldim,emb_RWKV,depth_RWKV,1)\n",
    "net_RWKV = jVMC.nets.bosons.RWKV(L,N,LocalHilDim=ldim,num_layers=depth_RWKV,embedding_size=emb_RWKV)\n",
    "net_RWKV_gumbel = jVMC.nets.bosons.RWKV(L,N,LocalHilDim=ldim,num_layers=depth_RWKV,embedding_size=emb_RWKV)\n",
    "gumbel_net = gumbel_wrapper(net_RWKV_gumbel)\n",
    "\n",
    "sym= jVMC.util.symmetries.get_orbit_1D(L,\"reflection\",\"translation\")\n",
    "symNet = jVMC.nets.sym_wrapper.SymNet(sym,net_RWKV,avgFun=jVMC.nets.sym_wrapper.avgFun_Coefficients_Sep_real)\n",
    "symNet_gumble = jVMC.nets.sym_wrapper.SymNet(sym,gumbel_net,avgFun=jVMC.nets.sym_wrapper.avgFun_Coefficients_Sep_real)\n",
    "\n"
   ]
  },
  {
   "cell_type": "code",
   "execution_count": 5,
   "id": "3a3be4b5-2f2d-4443-b9e7-24209c61eb2d",
   "metadata": {
    "scrolled": true
   },
   "outputs": [
    {
     "data": {
      "text/plain": [
       "(Array([[-21.01536629]], dtype=float64),\n",
       " Array([[-22.58348363]], dtype=float64))"
      ]
     },
     "execution_count": 5,
     "metadata": {},
     "output_type": "execute_result"
    }
   ],
   "source": [
    "seed = 252\n",
    "psi_RWKV = jVMC.vqs.NQS(net_RWKV,seed=seed)\n",
    "#psi_RWKV = jVMC.vqs.NQS(symNet)\n",
    "\n",
    "psi_RWKV_gumbel = jVMC.vqs.NQS(gumbel_net,seed=seed)\n",
    "#psi_RWKV_gumbel = jVMC.vqs.NQS(symNet_gumble)\n",
    "\n",
    "psi_RWKV(homFock),psi_RWKV_gumbel(homFock)"
   ]
  },
  {
   "cell_type": "code",
   "execution_count": 6,
   "id": "6808b0a0-046f-4012-bc8d-565e29835fbd",
   "metadata": {
    "scrolled": true
   },
   "outputs": [
    {
     "data": {
      "text/plain": [
       "True"
      ]
     },
     "execution_count": 6,
     "metadata": {},
     "output_type": "execute_result"
    }
   ],
   "source": [
    "psi_RWKV.is_generator"
   ]
  },
  {
   "cell_type": "code",
   "execution_count": 7,
   "id": "4f388fed-b7b5-4641-9f34-34f21021d046",
   "metadata": {
    "scrolled": true
   },
   "outputs": [
    {
     "data": {
      "text/plain": [
       "(True, False, True)"
      ]
     },
     "execution_count": 7,
     "metadata": {},
     "output_type": "execute_result"
    }
   ],
   "source": [
    "psi_RWKV_gumbel.is_gumbel,psi_RWKV.is_gumbel,psi_RWKV_gumbel.is_generator\n",
    "\n"
   ]
  },
  {
   "cell_type": "code",
   "execution_count": 8,
   "id": "6872fc76-7bde-41ad-b77a-cf93a0a72e82",
   "metadata": {
    "scrolled": true
   },
   "outputs": [],
   "source": [
    "key = jrnd.PRNGKey(1)\n",
    "key2 = jrnd.PRNGKey(1)\n",
    "\n",
    "sampler = jVMC.sampler.MCSampler(psi_RWKV,(L,),key)\n",
    "sampler_gumbel = jVMC.sampler.MCSampler(psi_RWKV_gumbel,(L,),key2)\n",
    "\n",
    "lr_SR = 1e-2\n",
    "minSR_equation = jVMC.util.MinSR(sampler, makeReal='real',diagonalShift=1e-2,diagonalMulti=1e-3)\n",
    "minSR_equation_gumbel = jVMC.util.MinSR(sampler_gumbel, makeReal='real',diagonalShift=1e-2,diagonalMulti=1e-3)\n",
    "#minSR_equation = jVMC.util.TDVP(sampler,rhsPrefactor=1.,diagonalShift=1.1, makeReal='real')#,diagonalShift=1e-2)#,diagonalMulti=1e-3)\n",
    "#minSR_equation_gumbel = jVMC.util.TDVP(sampler_gumbel,rhsPrefactor=1.,diagonalShift=1.1, makeReal='real')#,diagonalShift=1e-2)#,diagonalMulti=1e-3)\n",
    "#tdvpEquation = jVMC.util.tdvp.TDVP(sampler, rhsPrefactor=1.,\n",
    "#                                   pinvTol=1e-8, diagonalShift=10, makeReal='real')\n",
    "\n",
    "stepperSR = jVMC.util.stepper.Euler(timeStep=lr_SR)  \n",
    "    "
   ]
  },
  {
   "cell_type": "code",
   "execution_count": 9,
   "id": "5f64b27e-bfbe-4f5f-9b51-c025a1f6e93a",
   "metadata": {
    "scrolled": true
   },
   "outputs": [
    {
     "data": {
      "text/plain": [
       "(Array([[[ 1,  9, 10, ...,  0,  0,  0],\n",
       "         [ 6,  2,  3, ...,  0,  0,  0],\n",
       "         [ 3,  2,  1, ...,  0,  0,  0],\n",
       "         ...,\n",
       "         [ 3,  4, 10, ...,  0,  0,  0],\n",
       "         [ 1,  6,  0, ...,  0,  0,  0],\n",
       "         [ 4,  7,  6, ...,  0,  0,  0]]], dtype=int64),\n",
       " Array([[ -3.48119161, -10.52337598,  -7.06259562,  -9.46458213,\n",
       "          -7.51010226,  -5.18185354,  -6.65029858,  -3.5309149 ,\n",
       "          -3.65672155,  -4.07838795,  -7.76051624,  -7.00884401,\n",
       "          -4.74920124,  -6.17774756,  -5.90314876,  -4.05990624,\n",
       "          -5.82886194,  -4.13128536,  -5.5041432 ,  -5.98599631,\n",
       "          -4.44183343,  -5.0836107 ,  -4.05618799,  -4.56204437,\n",
       "          -3.50952627,  -6.04750723,  -6.36947566,  -6.5636755 ,\n",
       "          -5.5428583 ,  -6.38189859,  -3.93287133,  -4.43619097,\n",
       "          -7.3001159 ,  -6.08893267,  -3.16769523,  -4.83091469,\n",
       "          -4.17303101,  -6.0626548 ,  -5.76520562,  -5.87292185,\n",
       "          -5.24425421,  -2.79809782,  -6.02988051,  -4.61731168,\n",
       "          -4.96474699,  -5.32871824,  -6.61147038,  -3.48028188,\n",
       "          -5.09208248,  -4.61731168,  -2.43186137,  -6.23113106,\n",
       "          -3.62031577,  -6.17697318,  -7.64020451,  -3.0734968 ,\n",
       "          -4.64366952,  -4.93470614,  -6.53398426,  -2.43186137,\n",
       "          -3.51075161,  -4.75255969,  -7.51640963,  -4.06777717]],      dtype=float64),\n",
       " Array([[0.015625, 0.015625, 0.015625, 0.015625, 0.015625, 0.015625,\n",
       "         0.015625, 0.015625, 0.015625, 0.015625, 0.015625, 0.015625,\n",
       "         0.015625, 0.015625, 0.015625, 0.015625, 0.015625, 0.015625,\n",
       "         0.015625, 0.015625, 0.015625, 0.015625, 0.015625, 0.015625,\n",
       "         0.015625, 0.015625, 0.015625, 0.015625, 0.015625, 0.015625,\n",
       "         0.015625, 0.015625, 0.015625, 0.015625, 0.015625, 0.015625,\n",
       "         0.015625, 0.015625, 0.015625, 0.015625, 0.015625, 0.015625,\n",
       "         0.015625, 0.015625, 0.015625, 0.015625, 0.015625, 0.015625,\n",
       "         0.015625, 0.015625, 0.015625, 0.015625, 0.015625, 0.015625,\n",
       "         0.015625, 0.015625, 0.015625, 0.015625, 0.015625, 0.015625,\n",
       "         0.015625, 0.015625, 0.015625, 0.015625]], dtype=float64))"
      ]
     },
     "execution_count": 9,
     "metadata": {},
     "output_type": "execute_result"
    }
   ],
   "source": [
    "#%timeit sampler_gumbel.sample(numSamples=2**6)\n",
    "#%timeit sampler.sample(numSamples=2**6)\n",
    "#sampler_gumbel.sample(numSamples=2**6)\n",
    "sampler.sample(numSamples=2**6)\n"
   ]
  },
  {
   "cell_type": "code",
   "execution_count": 10,
   "id": "4f5a611d-e7aa-40a4-b2c7-1977567ad477",
   "metadata": {
    "scrolled": true
   },
   "outputs": [
    {
     "name": "stderr",
     "output_type": "stream",
     "text": [
      "energy: -3.8723+-1.4389 __ gumbel energy: -3.9687+-0.22: 100%|██████████| 500/500 [09:48<00:00,  1.18s/it]       \n"
     ]
    }
   ],
   "source": [
    "training_steps= 500\n",
    "resTraining = np.zeros((training_steps,2))\n",
    "resTraining_gumbel = np.zeros((training_steps,2))\n",
    "\n",
    "numS = 2**10\n",
    "pbar = tqdm(range(training_steps))\n",
    "for n,p in enumerate(pbar):\n",
    "    \n",
    "    dpOld = psi_RWKV.get_parameters()        \n",
    "    \n",
    "    #print(dpOld)\n",
    "    dp, _ = stepperSR.step(0, minSR_equation, dpOld, hamiltonian=H, psi=psi_RWKV, numSamples=numS)\n",
    "    psi_RWKV.set_parameters(jnp.real(dp))\n",
    "    resTraining[n] = [jnp.real(minSR_equation.ElocMean0) , minSR_equation.ElocVar0 ]\n",
    "    #print(dp)\n",
    "    \n",
    "    dpOld = psi_RWKV_gumbel.get_parameters()                \n",
    "    #print(dpOld)\n",
    "    dp, _ = stepperSR.step(0, minSR_equation_gumbel, dpOld, hamiltonian=H, psi=psi_RWKV_gumbel, numSamples=numS)\n",
    "    #print(dp)\n",
    "    psi_RWKV_gumbel.set_parameters(jnp.real(dp))\n",
    "    resTraining_gumbel[n] = [jnp.real(minSR_equation_gumbel.ElocMean0) , minSR_equation_gumbel.ElocVar0 ]\n",
    "    \n",
    "    pbar.set_description(f\"energy: {resTraining[n][0]:.4f}+-{np.sqrt(resTraining[n][1]):.4f} __ gumbel \"+f\"energy: {resTraining_gumbel[n][0]:.4f}+-{np.sqrt(resTraining_gumbel[n][1]):.2f}\")\n",
    "    \n"
   ]
  },
  {
   "cell_type": "code",
   "execution_count": 14,
   "id": "4487ebf1-64e2-4133-9647-5bfc51e820db",
   "metadata": {},
   "outputs": [
    {
     "data": {
      "text/plain": [
       "<matplotlib.legend.Legend at 0x7f728e12c580>"
      ]
     },
     "execution_count": 14,
     "metadata": {},
     "output_type": "execute_result"
    },
    {
     "data": {
      "image/png": "[encoded data removed]",
      "text/plain": [
       "<Figure size 640x480 with 1 Axes>"
      ]
     },
     "metadata": {},
     "output_type": "display_data"
    }
   ],
   "source": [
    "plt.plot(resTraining[:,0],'x',label='normal')\n",
    "plt.plot(resTraining_gumbel[:,0],label='gumbel')\n",
    "#plt.ylim(-1+energyED[0],1+energyED[0])\n",
    "plt.legend()"
   ]
  },
  {
   "cell_type": "code",
   "execution_count": 15,
   "id": "74d2eecc-7726-4a3a-9eba-3160f65f5a12",
   "metadata": {},
   "outputs": [
    {
     "data": {
      "text/plain": [
       "[]"
      ]
     },
     "execution_count": 15,
     "metadata": {},
     "output_type": "execute_result"
    },
    {
     "data": {
      "image/png": "[encoded data removed]",
      "text/plain": [
       "<Figure size 640x480 with 1 Axes>"
      ]
     },
     "metadata": {},
     "output_type": "display_data"
    }
   ],
   "source": [
    "plt.plot(resTraining[:,1],'x')\n",
    "plt.plot(resTraining_gumbel[:,1])\n",
    "#plt.ylim(-10,10)\n",
    "plt.semilogy()"
   ]
  },
  {
   "cell_type": "code",
   "execution_count": 25,
   "id": "0ad277f8-adcb-41b1-8b46-0f00e4abe23c",
   "metadata": {},
   "outputs": [
    {
     "data": {
      "text/plain": [
       "<matplotlib.legend.Legend at 0x7f62644d1190>"
      ]
     },
     "execution_count": 25,
     "metadata": {},
     "output_type": "execute_result"
    },
    {
     "data": {
      "image/png": "[encoded data removed]",
      "text/plain": [
       "<Figure size 640x480 with 1 Axes>"
      ]
     },
     "metadata": {},
     "output_type": "display_data"
    }
   ],
   "source": [
    "energyExact = -3.9699#energyED\n",
    "plt.plot(resTraining[:,1],np.abs(resTraining[:,0]-(energyExact)),'x',label=\"simple AR\")\n",
    "plt.plot(resTraining_gumbel[:,1],np.abs(resTraining_gumbel[:,0]-(energyExact)),'-+',label=\"gumbel AR\")\n",
    "plt.loglog()\n",
    "plt.xlabel(\"variance\")\n",
    "plt.ylabel(\"error\")\n",
    "plt.title(f\"samples {numS}, {N} particles, {L} sites, {J:.2f} hopping, {U:.2f} interaction\")\n",
    "plt.legend()"
   ]
  },
  {
   "cell_type": "code",
   "execution_count": null,
   "id": "dbdd788d-c71a-4113-831a-fc0582d89ec8",
   "metadata": {},
   "outputs": [],
   "source": [
    "psi_state_gumbel= np.exp(psi_RWKV_gumbel(jnp.array([fock.fockArray]))*2)\n",
    "psi_state= np.exp(psi_RWKV(jnp.array([fock.fockArray]))*2)"
   ]
  },
  {
   "cell_type": "code",
   "execution_count": null,
   "id": "18a3d639-83a5-40d4-8762-10b95cc53ee3",
   "metadata": {},
   "outputs": [],
   "source": [
    "plt.semilogy(stateED[:,0]**2,linewidth=4)\n",
    "plt.semilogy(psi_state_gumbel[0],)\n",
    "plt.semilogy(psi_state[0],)"
   ]
  },
  {
   "cell_type": "code",
   "execution_count": null,
   "id": "838105ec-012e-4ce8-b422-ba95062dbc44",
   "metadata": {},
   "outputs": [],
   "source": [
    "plt.semilogy(np.abs(stateED[:,0]**2-psi_state_gumbel[0]),label=\"gumbel\")\n",
    "plt.semilogy(np.abs(stateED[:,0]**2-psi_state[0]),label=\"simple AR\")\n",
    "plt.legend()\n",
    "error_props = np.sum(np.abs(stateED[:,0]**2-psi_state[0]))\n",
    "error_props_gumbel = np.sum(np.abs(stateED[:,0]**2-psi_state_gumbel[0]))\n",
    "print(error_props,error_props_gumbel)"
   ]
  },
  {
   "cell_type": "code",
   "execution_count": null,
   "id": "d88b1447-ab0b-4bee-a7c2-5f0c74838499",
   "metadata": {},
   "outputs": [],
   "source": [
    "sorted_indicesED = np.argsort(stateED[:,0]**2,)[::-1]\n",
    "plt.semilogy(psi_state[0,sorted_indicesED],label=\"normal\")\n",
    "plt.semilogy(psi_state_gumbel[0,sorted_indicesED],label=\"gumbel\")\n",
    "\n",
    "plt.semilogy(stateED[sorted_indicesED,0]**2,label=\"eD\")\n",
    "plt.xlim(-1,1000)\n",
    "plt.ylim(1e-12,11,)\n",
    "plt.legend()"
   ]
  },
  {
   "cell_type": "code",
   "execution_count": null,
   "id": "87a07d4e-b974-4fa8-890a-ca6fea44e5d5",
   "metadata": {},
   "outputs": [],
   "source": [
    "fock.fockArray[sorted_indicesED[:10]]"
   ]
  },
  {
   "cell_type": "code",
   "execution_count": null,
   "id": "fa0124e9-d0df-4eb1-baa2-8a1e73163829",
   "metadata": {},
   "outputs": [],
   "source": [
    "sampler_gumbel.sample(numSamples=2**4)"
   ]
  },
  {
   "cell_type": "code",
   "execution_count": null,
   "id": "e9e87069-c91a-4308-9d17-09324a4ecdc6",
   "metadata": {},
   "outputs": [],
   "source": [
    "sampler.sample(numSamples=2**5)"
   ]
  },
  {
   "cell_type": "code",
   "execution_count": null,
   "id": "f9f12b31-6ac3-4aac-95dc-7e28ba4e718a",
   "metadata": {},
   "outputs": [],
   "source": [
    "psi_RWKV(jnp.array([[[1, 0, 2, 1, 1, 1, 1, 1],[1, 1, 2, 0, 1, 1, 1, 1]]]))"
   ]
  },
  {
   "cell_type": "code",
   "execution_count": null,
   "id": "a22f0551-e7e1-4c85-8384-ad141e6ce8b1",
   "metadata": {},
   "outputs": [],
   "source": [
    "psi_RWKV_gumbel(jnp.array([[[1, 0, 2, 1, 1, 1, 1, 1],[1, 1, 2, 0, 1, 1, 1, 1]]]))"
   ]
  },
  {
   "cell_type": "code",
   "execution_count": null,
   "id": "bc864085-6f60-4b5b-b60c-c35777043e43",
   "metadata": {},
   "outputs": [],
   "source": [
    "keys = jrnd.split(jrnd.PRNGKey(12),12)\n",
    "numSamples= 12\n",
    "key0=jrnd.split(keys[0],numSamples)#(numSamples,1))"
   ]
  },
  {
   "cell_type": "code",
   "execution_count": null,
   "id": "baf8534b-8ade-4d6e-afc2-0c3a6d7e150b",
   "metadata": {},
   "outputs": [],
   "source": [
    "key0.shape"
   ]
  },
  {
   "cell_type": "code",
   "execution_count": null,
   "id": "7cfce290-958d-44d2-a40a-03b2a061cf4f",
   "metadata": {},
   "outputs": [],
   "source": []
  }
 ],
 "metadata": {
  "kernelspec": {
   "display_name": "Python 3 (ipykernel)",
   "language": "python",
   "name": "python3"
  },
  "language_info": {
   "codemirror_mode": {
    "name": "ipython",
    "version": 3
   },
   "file_extension": ".py",
   "mimetype": "text/x-python",
   "name": "python",
   "nbconvert_exporter": "python",
   "pygments_lexer": "ipython3",
   "version": "3.9.18"
  }
 },
 "nbformat": 4,
 "nbformat_minor": 5
}
