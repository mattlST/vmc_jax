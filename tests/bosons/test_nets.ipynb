{
 "cells": [
  {
   "cell_type": "code",
   "execution_count": 1,
   "id": "d2e8f13a-9277-4703-8ad6-d754bcb8dbee",
   "metadata": {},
   "outputs": [],
   "source": [
    "import jVMC\n",
    "import jVMC.nets\n",
    "import jVMC.nets.bosons\n",
    "import jax.numpy as jnp\n"
   ]
  },
  {
   "cell_type": "code",
   "execution_count": 2,
   "id": "bfc5d412-75b7-42d6-b543-ddbe4031952b",
   "metadata": {},
   "outputs": [],
   "source": [
    "N = 10\n",
    "L = 10\n",
    "ldim = 8\n",
    "\n",
    "emb_RWKV = 8\n",
    "depth_RWKV = 2\n",
    "\n",
    "emb_gpt = 8\n",
    "depth_gpt = 2\n",
    "head_gpt = 2\n",
    "\n",
    "net_RWKV = jVMC.nets.bosons.RWKV(L,N,LocalHilDim=ldim,num_layers=depth_RWKV,embedding_size=emb_RWKV)\n",
    "net_gpt = jVMC.nets.bosons.GPT(L,N,lDim=ldim,embeddingDim=emb_gpt,depth=depth_gpt,nHeads=head_gpt)"
   ]
  },
  {
   "cell_type": "code",
   "execution_count": 9,
   "id": "efbf7c1b-22d3-49f2-9b05-6efdf3b340e8",
   "metadata": {},
   "outputs": [
    {
     "data": {
      "text/plain": [
       "(Array([[-9.36418807]], dtype=float64), Array([[-7.70078432]], dtype=float64))"
      ]
     },
     "execution_count": 9,
     "metadata": {},
     "output_type": "execute_result"
    }
   ],
   "source": [
    "#init \n",
    "homFock = jnp.ones((1,1,L),dtype=int)\n",
    "psi_gpt = jVMC.vqs.NQS(net_gpt)\n",
    "\n",
    "psi_RWKV = jVMC.vqs.NQS(net_RWKV)\n",
    "psi_gpt(homFock),psi_RWKV(homFock)"
   ]
  },
  {
   "cell_type": "code",
   "execution_count": null,
   "id": "2d47c4c9-53f3-421d-8c53-dd6420bd55f1",
   "metadata": {},
   "outputs": [],
   "source": []
  }
 ],
 "metadata": {
  "kernelspec": {
   "display_name": "Python 3 (ipykernel)",
   "language": "python",
   "name": "python3"
  },
  "language_info": {
   "codemirror_mode": {
    "name": "ipython",
    "version": 3
   },
   "file_extension": ".py",
   "mimetype": "text/x-python",
   "name": "python",
   "nbconvert_exporter": "python",
   "pygments_lexer": "ipython3",
   "version": "3.9.19"
  }
 },
 "nbformat": 4,
 "nbformat_minor": 5
}
