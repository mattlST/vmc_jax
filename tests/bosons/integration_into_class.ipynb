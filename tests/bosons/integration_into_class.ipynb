{
 "cells": [
  {
   "cell_type": "code",
   "execution_count": 1,
   "id": "aafe881f-5273-4d6d-aec4-8b74a1b4bd79",
   "metadata": {},
   "outputs": [],
   "source": [
    "import jVMC\n",
    "import jax\n",
    "#from jax.config import config\n",
    "jax.config.update(\"jax_enable_x64\", True)\n",
    "import jax.random as jrnd\n",
    "import jax.random as random\n",
    "\n",
    "import jax.numpy as jnp\n",
    "from functools import partial\n",
    "import numpy as np\n",
    "import jVMC.global_defs as global_defs\n",
    "from tqdm import tqdm\n",
    "import matplotlib.pyplot as plt\n",
    "@jax.jit\n",
    "def sorting_gumble(sample,logits,gumbel,states):\n",
    "    indexes = jnp.argsort((-gumbel),axis=None)#.reshape(shape_gumbel)\n",
    "    numSamples = sample.shape[0]\n",
    "    ldim = sample.shape[1]\n",
    "    L = sample.shape[2]\n",
    "    #jax.debug.print(\"shape {x},{y},{z}\",x=numSamples,y=ldim,z=L)\n",
    "    indexes_states = (indexes // ldim)[:numSamples]\n",
    "    sample = sample.reshape(-1,L)[indexes]\n",
    "    sample = sample.reshape(ldim,numSamples,L)\n",
    "    sample = jnp.swapaxes(sample,0,1)\n",
    "    \n",
    "    logits = logits.ravel()[indexes]\n",
    "    logits = logits.reshape(ldim,numSamples).T\n",
    "    \n",
    "    gumbel = gumbel.ravel()[indexes]\n",
    "    gumbel = gumbel.reshape(ldim,numSamples).T\n",
    "\n",
    "    vals, treedef  = jax.tree_util.tree_flatten(states)\n",
    "    vals_ordered = [v[indexes_states] for v in vals]\n",
    "    states = jax.tree_util.tree_unflatten(treedef,vals_ordered)\n",
    "    return sample,logits,gumbel,states\n",
    "\n",
    "@partial(jax.jit, static_argnums=1)\n",
    "def scan_fn(fct,carry, key):\n",
    "    position = key[1]\n",
    "    sample = carry[0]\n",
    "    #jax.debug.print(\"{x}\", x=sample)\n",
    "\n",
    "    logits = carry[1]\n",
    "    gumbel = carry[2]\n",
    "    states = carry[3]\n",
    "    keys = jrnd.split(key[0],(carry[0].shape[0],1))\n",
    "\n",
    "    p_workN = partial(fct,position=position)\n",
    "    sample,logits,gumbel,states = jax.vmap(p_workN)(sample,logits,gumbel,keys,states)\n",
    "    #jax.debug.print(\"gumbelnew new {x}\", x=gumbel)\n",
    "\n",
    "    #### sorting gumble value\n",
    "    return sorting_gumble(sample,logits,gumbel,states),None\n",
    "    "
   ]
  },
  {
   "cell_type": "code",
   "execution_count": 2,
   "id": "da3adaee-fc0d-43ff-bd41-e40aea1eefd9",
   "metadata": {},
   "outputs": [],
   "source": [
    "class MCSampler_gumbel(jVMC.sampler.MCSampler):\n",
    "    #change name to appeal Jonas\n",
    "    def __init__(self,*args,**kwargs):\n",
    "        super().__init__(*args, **kwargs)\n",
    "        try: \n",
    "            callable(self.net.net.forward_with_state)\n",
    "        except:\n",
    "            try:\n",
    "                callable(self.net.net.net.forward_with_state)\n",
    "            except:\n",
    "                raise Exception(\"neural network has no autoregressive stepwise sampling subroutine 'forward_with_state'\")\n",
    "    def setup_gumble(self):\n",
    "        try:\n",
    "            self.ldim = self.net.net.LocalHilDim\n",
    "            self.lowNet = self.net.net\n",
    "            self.psiNet = self.net\n",
    "\n",
    "        except:\n",
    "            self.lowNet = self.net.net.net\n",
    "            self.psiNet = self.net.net\n",
    "\n",
    "        self.ldim = self.lowNet.LocalHilDim\n",
    "        self.Q = self.lowNet.Q\n",
    "        #self.netcall = self.lowNet.apply\n",
    "        self.netcall = self.net.net.apply\n",
    "        \n",
    "        self.L = self.sampleShape[0]\n",
    "        \n",
    "        self.max_particles = jnp.pad((self.ldim-1)*jnp.arange(1,self.L+1)[::-1],(0,1))[1::]\n",
    "        self.must_mask = 2 * jnp.tril(jnp.ones((self.ldim,self.ldim)),k=-1)\n",
    "        self.can_mask = jnp.flip(self.must_mask)\n",
    "        print(self.Q)\n",
    "    def _workN(self,sample,logits,gumbel,key,states,position):\n",
    "        \n",
    "        particles_left = self.Q - jnp.sum(sample[0]+jnp.abs(sample[0]))//2\n",
    "        #new samples with (0,..,ldim-1) at position\n",
    "        sample = jnp.array([sample[0].at[position].set(l) for l in jnp.arange(self.ldim)])\n",
    "        #right shifted input\n",
    "        inputt = jnp.array([jnp.pad(sample[0,:-1],(1,0))])\n",
    "        # sampling outside psi --> need to give parameters manually\n",
    "        para = self.net.parameters\n",
    "        #if \"net\" in para:\n",
    "        #    paraA = para[\"net\"]\n",
    "        #else:\n",
    "        #    paraA = para\n",
    "        logitnew, next_states = self.netcall(para,inputt[:,position],block_states = states, output_state=True)\n",
    "        #logitnew, next_states = self.net.net(inputt[:,position],block_states = states, output_state=True)\n",
    "    \n",
    "        #jax.debug.print(\"pl: {x}\",x=particles_left)\n",
    "        must_give = jax.nn.relu(particles_left-self.max_particles[position])\n",
    "\n",
    "        # number of particles that can be assigned\n",
    "        can_give = jnp.minimum(particles_left, self.ldim-1)\n",
    "        mask = (self.must_mask[must_give] + \n",
    "                    self.can_mask[can_give.astype(int)]) \n",
    "        #logit_renorm =  logitnew - mask ** jnp.inf\n",
    "        #jax.debug.print(\"mask {x}\", x=mask)\n",
    "        logitnew =  jax.nn.log_softmax(logitnew - mask ** jnp.inf)\n",
    "        #jax.debug.print(\"logits new {x}\", x=logitnew)\n",
    "        #jax.debug.print(\"logits[0] {x}\", x=logits[0])\n",
    "        \n",
    "        logitnew = logits[0] + logitnew - mask ** jnp.inf\n",
    "        #jax.debug.print(\"logits new {x}\", x=logitnew)\n",
    "\n",
    "        gumbelnew = logitnew + jrnd.gumbel(key[0],shape=(self.ldim,))  ## logitnew or logits[0]?\n",
    "        #gumbelnew = logits[0] + jrnd.gumbel(key[0],shape=(ldim,))\n",
    "        #jax.debug.print(\"gumbelnew new {x}\", x=gumbelnew)\n",
    "\n",
    "        Z = jnp.nanmax(gumbelnew)\n",
    "        gumbelnew = jnp.nan_to_num(-jnp.log(\n",
    "            jnp.exp(-gumbel[0])-jnp.exp(-Z)+jnp.exp(-gumbelnew) # -sign at gumbelnew??\n",
    "            ),nan=-jnp.inf)\n",
    "        #gumbelnew = (-jnp.log(jnp.exp(-gumbel[0])-jnp.exp(-Z)+jnp.exp(gumbelnew)))\n",
    "        gumbelnew = gumbelnew- mask ** jnp.inf\n",
    "        return sample, logitnew, gumbelnew, next_states\n",
    "        #return sample,logits,gumbel,states\n",
    "    \n",
    "    def ee_scan_fn(self,carry, key):\n",
    "        position = key[1]\n",
    "        sample = carry[0]\n",
    "        #jax.debug.print(\"{x}\", x=sample)\n",
    "\n",
    "        logits = carry[1]\n",
    "        gumbel = carry[2]\n",
    "        states = carry[3]\n",
    "        keys = jrnd.split(key[0],(carry[0].shape[0],1))\n",
    "\n",
    "        p_workN = partial(self._workN,position=position)\n",
    "        sample,logits,gumbel,states = jax.vmap(p_workN)(sample,logits,gumbel,keys,states)\n",
    "        #jax.debug.print(\"gumbelnew new {x}\", x=gumbel)\n",
    "\n",
    "        #### sorting gumble value\n",
    "        return sorting_gumble(sample,logits,gumbel,states),None\n",
    "    \n",
    "    def gumbel(self,numSamples, tmpKey, parameters,outputGumbel=False):\n",
    "        shape_samples = (numSamples,self.ldim,self.L)\n",
    "        shape_logits = (numSamples,self.ldim)\n",
    "        shape_gumbel = (numSamples,self.ldim)\n",
    "        #print(shape_samples,shape_logits)\n",
    "        working_space_samples = jnp.full(shape_samples,-2,dtype=jnp.int64)\n",
    "        working_space_logits = jnp.full(shape_logits,-jnp.inf,dtype=jnp.float64)\n",
    "        working_space_gumbel = jnp.full(shape_gumbel,-jnp.inf,dtype=jnp.float64)\n",
    "        \n",
    "        working_space_samples = working_space_samples.at[0,0,0].set(0)\n",
    "        working_space_logits = working_space_logits.at[0,0].set(0.)\n",
    "        working_space_gumbel = working_space_gumbel.at[0,0].set(0.)\n",
    "        \n",
    "        keys = jrnd.split(tmpKey[0],(self.L))\n",
    "        states = None\n",
    "        init_work = partial(self._workN, position=0,states=states)\n",
    "        key0=jrnd.split(keys[0],(numSamples,1))\n",
    "        \n",
    "        sample,logits,gumbel,states  = jax.vmap(init_work)(working_space_samples,working_space_logits,working_space_gumbel,key0)\n",
    "        #jax.debug.print(\"out1 logits {x}\",x=logits)\n",
    "\n",
    "        #jax.debug.print(\"out1 gumbel {x}\",x=gumbel)\n",
    "        \n",
    "        init_carry = sorting_gumble(sample,logits,gumbel,states)\n",
    "        #res, _ = jax.lax.scan(self.scan_fn,init_carry,(keys[1:],jnp.arange(1,self.L)))\n",
    "        \n",
    "        scan_fnP = partial(scan_fn,self._workN)\n",
    "        res, _ = jax.lax.scan(scan_fnP,init_carry,(keys[1:],jnp.arange(1,self.L)))\n",
    "        if outputGumbel==1:\n",
    "            return res#,res[1][:,0]\n",
    "        if outputGumbel==2:\n",
    "            return jnp.expand_dims(res[0][:,0,:],0), res[2][0,1]\n",
    "            \n",
    "        return jnp.expand_dims(res[0][:,0,:],0)#,res[1][:,0]\n",
    "        \n",
    "    def _get_samples_gen_gumbel(self,parameters, numSamples, multipleOf):\n",
    "        #numSamples = mpi.distribute_sampling(numSamples, localDevices=global_defs.device_count(), numChainsPerDevice=multipleOf)\n",
    "\n",
    "        tmpKeys = random.split(self.key[0], 3 * global_defs.device_count())\n",
    "        self.key = tmpKeys[:global_defs.device_count()]\n",
    "        tmpKey = tmpKeys[global_defs.device_count():2 * global_defs.device_count()]\n",
    "        tmpKey2 = tmpKeys[2 * global_defs.device_count():]\n",
    "\n",
    "        #### rewrite explicit scanning in here\n",
    "        samples, kappa = self.gumbel(numSamples, tmpKey, parameters=parameters,outputGumbel=2)\n",
    "        ####\n",
    "        if not str(numSamples) in self._randomize_samples_jitd:\n",
    "            self._randomize_samples_jitd[str(numSamples)] = global_defs.pmap_for_my_devices(self._randomize_samples, static_broadcasted_argnums=(), in_axes=(0, 0, None))\n",
    "\n",
    "        if not self.orbit is None:\n",
    "            return self._randomize_samples_jitd[str(numSamples)](samples, tmpKey2, self.orbit)\n",
    "        \n",
    "        return samples, kappa\n",
    "    def sample(self, parameters=None, numSamples=None, multipleOf=1):\n",
    "        \"\"\"Generate random samples from wave function.\n",
    "\n",
    "        If supported by ``net``, direct sampling is peformed. Otherwise, MCMC is run \\\n",
    "        to generate the desired number of samples. For direct sampling the real part \\\n",
    "        of ``net`` needs to provide a ``sample()`` member function that generates \\\n",
    "        samples from :math:`p_{\\\\mu}(s)`.\n",
    "\n",
    "        Sampling is automatically distributed accross MPI processes and available \\\n",
    "        devices. In that case the number of samples returned might exceed ``numSamples``.\n",
    "\n",
    "        Arguments:\n",
    "            * ``parameters``: Network parameters to use for sampling.\n",
    "            * ``numSamples``: Number of samples to generate. When running multiple processes \\\n",
    "            or on multiple devices per process, the number of samples returned is \\\n",
    "            ``numSamples`` or more. If ``None``, the default number of samples is returned \\\n",
    "            (see ``set_number_of_samples()`` member function).\n",
    "            * ``multipleOf``: This argument allows to choose the number of samples returned to \\\n",
    "            be the smallest multiple of ``multipleOf`` larger than ``numSamples``. This feature \\\n",
    "            is useful to distribute a total number of samples across multiple processors in such \\\n",
    "            a way that the number of samples per processor is identical for each processor.\n",
    "\n",
    "        Returns:\n",
    "            A sample of computational basis configurations drawn from :math:`p_{\\\\mu}(s)`.\n",
    "        \"\"\"\n",
    "\n",
    "        if numSamples is None:\n",
    "            numSamples = self.numSamples\n",
    "\n",
    "        \n",
    "        if parameters is not None:\n",
    "            tmpP = self.net.params\n",
    "            self.net.set_parameters(parameters)\n",
    "\n",
    "        \n",
    "        configs,kappa = self._get_samples_gen_gumbel(self.net.parameters, numSamples, multipleOf)\n",
    "\n",
    "        #jax.debug.print(\"{x}\", x=configs)\n",
    "        coeffs = self.net(configs)\n",
    "        coeffs_reweighted = coeffs /(-jnp.expm1(-jnp.exp(coeffs-kappa)))\n",
    "        \n",
    "        if parameters is not None:\n",
    "            self.net.params = tmpP\n",
    "        return configs, coeffs, coeffs_reweighted/jnp.sum(coeffs_reweighted)#jnp.ones(configs.shape[:2]) / jnp.prod(jnp.asarray(configs.shape[:2]))\n"
   ]
  },
  {
   "cell_type": "code",
   "execution_count": null,
   "id": "3ce1865a-a0ed-4d90-b9f3-1b87e983224f",
   "metadata": {},
   "outputs": [],
   "source": []
  },
  {
   "cell_type": "code",
   "execution_count": 3,
   "id": "a76972eb-24cd-422d-9043-0cd351e76071",
   "metadata": {},
   "outputs": [
    {
     "data": {
      "text/plain": [
       "Array([[-3.27405247]], dtype=float64)"
      ]
     },
     "execution_count": 3,
     "metadata": {},
     "output_type": "execute_result"
    }
   ],
   "source": [
    "N = 5\n",
    "L = 5\n",
    "ldim = 9\n",
    "homFock = jnp.ones((1,1,L),dtype=int)\n",
    "\n",
    "emb_RWKV = 4\n",
    "\n",
    "depth_RWKV = 2\n",
    "net_RWKV = jVMC.nets.bosons.RWKV(L,N,LocalHilDim=ldim,num_layers=depth_RWKV,embedding_size=emb_RWKV)\n",
    "\n",
    "\n",
    "psi_RWKV = jVMC.vqs.NQS(net_RWKV)\n",
    "\n",
    "#dummies for testing\n",
    "#net_FFN = jVMC.nets.ffn.FFN()\n",
    "#psi_FFN = jVMC.vqs.NQS(net_FFN)\n",
    "\n",
    "psi_RWKV(homFock)\n"
   ]
  },
  {
   "cell_type": "code",
   "execution_count": 4,
   "id": "e463ce65-e891-41a5-a9ea-383fd0deff0c",
   "metadata": {},
   "outputs": [
    {
     "name": "stdout",
     "output_type": "stream",
     "text": [
      "5\n"
     ]
    }
   ],
   "source": [
    "seed = 12\n",
    "key = jrnd.PRNGKey(seed)\n",
    "sampler = jVMC.sampler.MCSampler(psi_RWKV,(L,),key)\n",
    "sampler_gumbel = MCSampler_gumbel(psi_RWKV,(L,),key)\n",
    "sampler_gumbel.setup_gumble()\n"
   ]
  },
  {
   "cell_type": "code",
   "execution_count": 5,
   "id": "7d9b47ad-8869-46ad-a27d-36d8bdeb95ec",
   "metadata": {},
   "outputs": [
    {
     "ename": "ValueError",
     "evalue": "Non-hashable static arguments are not supported, as this can lead to unexpected cache-misses. Static argument (index 1) of type <class 'tuple'> for function scan_fn is non-hashable.",
     "output_type": "error",
     "traceback": [
      "\u001b[0;31m---------------------------------------------------------------------------\u001b[0m",
      "\u001b[0;31mValueError\u001b[0m                                Traceback (most recent call last)",
      "Cell \u001b[0;32mIn[5], line 1\u001b[0m\n\u001b[0;32m----> 1\u001b[0m a \u001b[38;5;241m=\u001b[39m \u001b[43msampler_gumbel\u001b[49m\u001b[38;5;241;43m.\u001b[39;49m\u001b[43msample\u001b[49m\u001b[43m(\u001b[49m\u001b[43mnumSamples\u001b[49m\u001b[38;5;241;43m=\u001b[39;49m\u001b[38;5;241;43m128\u001b[39;49m\u001b[43m)\u001b[49m\n\u001b[1;32m      2\u001b[0m b \u001b[38;5;241m=\u001b[39m sampler\u001b[38;5;241m.\u001b[39msample(numSamples\u001b[38;5;241m=\u001b[39m\u001b[38;5;241m128\u001b[39m)\n",
      "Cell \u001b[0;32mIn[2], line 183\u001b[0m, in \u001b[0;36mMCSampler_gumbel.sample\u001b[0;34m(self, parameters, numSamples, multipleOf)\u001b[0m\n\u001b[1;32m    179\u001b[0m     tmpP \u001b[38;5;241m=\u001b[39m \u001b[38;5;28mself\u001b[39m\u001b[38;5;241m.\u001b[39mnet\u001b[38;5;241m.\u001b[39mparams\n\u001b[1;32m    180\u001b[0m     \u001b[38;5;28mself\u001b[39m\u001b[38;5;241m.\u001b[39mnet\u001b[38;5;241m.\u001b[39mset_parameters(parameters)\n\u001b[0;32m--> 183\u001b[0m configs,kappa \u001b[38;5;241m=\u001b[39m \u001b[38;5;28;43mself\u001b[39;49m\u001b[38;5;241;43m.\u001b[39;49m\u001b[43m_get_samples_gen_gumbel\u001b[49m\u001b[43m(\u001b[49m\u001b[38;5;28;43mself\u001b[39;49m\u001b[38;5;241;43m.\u001b[39;49m\u001b[43mnet\u001b[49m\u001b[38;5;241;43m.\u001b[39;49m\u001b[43mparameters\u001b[49m\u001b[43m,\u001b[49m\u001b[43m \u001b[49m\u001b[43mnumSamples\u001b[49m\u001b[43m,\u001b[49m\u001b[43m \u001b[49m\u001b[43mmultipleOf\u001b[49m\u001b[43m)\u001b[49m\n\u001b[1;32m    185\u001b[0m \u001b[38;5;66;03m#jax.debug.print(\"{x}\", x=configs)\u001b[39;00m\n\u001b[1;32m    186\u001b[0m coeffs \u001b[38;5;241m=\u001b[39m \u001b[38;5;28mself\u001b[39m\u001b[38;5;241m.\u001b[39mnet(configs)\n",
      "Cell \u001b[0;32mIn[2], line 139\u001b[0m, in \u001b[0;36mMCSampler_gumbel._get_samples_gen_gumbel\u001b[0;34m(self, parameters, numSamples, multipleOf)\u001b[0m\n\u001b[1;32m    136\u001b[0m tmpKey2 \u001b[38;5;241m=\u001b[39m tmpKeys[\u001b[38;5;241m2\u001b[39m \u001b[38;5;241m*\u001b[39m global_defs\u001b[38;5;241m.\u001b[39mdevice_count():]\n\u001b[1;32m    138\u001b[0m \u001b[38;5;66;03m#### rewrite explicit scanning in here\u001b[39;00m\n\u001b[0;32m--> 139\u001b[0m samples, kappa \u001b[38;5;241m=\u001b[39m \u001b[38;5;28;43mself\u001b[39;49m\u001b[38;5;241;43m.\u001b[39;49m\u001b[43mgumbel\u001b[49m\u001b[43m(\u001b[49m\u001b[43mnumSamples\u001b[49m\u001b[43m,\u001b[49m\u001b[43m \u001b[49m\u001b[43mtmpKey\u001b[49m\u001b[43m,\u001b[49m\u001b[43m \u001b[49m\u001b[43mparameters\u001b[49m\u001b[38;5;241;43m=\u001b[39;49m\u001b[43mparameters\u001b[49m\u001b[43m,\u001b[49m\u001b[43moutputGumbel\u001b[49m\u001b[38;5;241;43m=\u001b[39;49m\u001b[38;5;241;43m2\u001b[39;49m\u001b[43m)\u001b[49m\n\u001b[1;32m    140\u001b[0m \u001b[38;5;66;03m####\u001b[39;00m\n\u001b[1;32m    141\u001b[0m \u001b[38;5;28;01mif\u001b[39;00m \u001b[38;5;129;01mnot\u001b[39;00m \u001b[38;5;28mstr\u001b[39m(numSamples) \u001b[38;5;129;01min\u001b[39;00m \u001b[38;5;28mself\u001b[39m\u001b[38;5;241m.\u001b[39m_randomize_samples_jitd:\n",
      "Cell \u001b[0;32mIn[2], line 122\u001b[0m, in \u001b[0;36mMCSampler_gumbel.gumbel\u001b[0;34m(self, numSamples, tmpKey, parameters, outputGumbel)\u001b[0m\n\u001b[1;32m    119\u001b[0m \u001b[38;5;66;03m#res, _ = jax.lax.scan(self.scan_fn,init_carry,(keys[1:],jnp.arange(1,self.L)))\u001b[39;00m\n\u001b[1;32m    121\u001b[0m scan_fnP \u001b[38;5;241m=\u001b[39m partial(scan_fn,\u001b[38;5;28mself\u001b[39m\u001b[38;5;241m.\u001b[39m_workN)\n\u001b[0;32m--> 122\u001b[0m res, _ \u001b[38;5;241m=\u001b[39m \u001b[43mjax\u001b[49m\u001b[38;5;241;43m.\u001b[39;49m\u001b[43mlax\u001b[49m\u001b[38;5;241;43m.\u001b[39;49m\u001b[43mscan\u001b[49m\u001b[43m(\u001b[49m\u001b[43mscan_fnP\u001b[49m\u001b[43m,\u001b[49m\u001b[43minit_carry\u001b[49m\u001b[43m,\u001b[49m\u001b[43m(\u001b[49m\u001b[43mkeys\u001b[49m\u001b[43m[\u001b[49m\u001b[38;5;241;43m1\u001b[39;49m\u001b[43m:\u001b[49m\u001b[43m]\u001b[49m\u001b[43m,\u001b[49m\u001b[43mjnp\u001b[49m\u001b[38;5;241;43m.\u001b[39;49m\u001b[43marange\u001b[49m\u001b[43m(\u001b[49m\u001b[38;5;241;43m1\u001b[39;49m\u001b[43m,\u001b[49m\u001b[38;5;28;43mself\u001b[39;49m\u001b[38;5;241;43m.\u001b[39;49m\u001b[43mL\u001b[49m\u001b[43m)\u001b[49m\u001b[43m)\u001b[49m\u001b[43m)\u001b[49m\n\u001b[1;32m    123\u001b[0m \u001b[38;5;28;01mif\u001b[39;00m outputGumbel\u001b[38;5;241m==\u001b[39m\u001b[38;5;241m1\u001b[39m:\n\u001b[1;32m    124\u001b[0m     \u001b[38;5;28;01mreturn\u001b[39;00m res\u001b[38;5;66;03m#,res[1][:,0]\u001b[39;00m\n",
      "    \u001b[0;31m[... skipping hidden 14 frame]\u001b[0m\n",
      "File \u001b[0;32m~/anaconda3/envs/jvmc/lib/python3.9/site-packages/jax/_src/api_util.py:286\u001b[0m, in \u001b[0;36margnums_partial_except\u001b[0;34m(f, static_argnums, args, allow_invalid)\u001b[0m\n\u001b[1;32m    284\u001b[0m static_arg \u001b[38;5;241m=\u001b[39m args[i]\n\u001b[1;32m    285\u001b[0m \u001b[38;5;28;01mif\u001b[39;00m \u001b[38;5;129;01mnot\u001b[39;00m is_hashable(static_arg):\n\u001b[0;32m--> 286\u001b[0m   \u001b[38;5;28;01mraise\u001b[39;00m \u001b[38;5;167;01mValueError\u001b[39;00m(\n\u001b[1;32m    287\u001b[0m       \u001b[38;5;124m\"\u001b[39m\u001b[38;5;124mNon-hashable static arguments are not supported, as this can lead \u001b[39m\u001b[38;5;124m\"\u001b[39m\n\u001b[1;32m    288\u001b[0m       \u001b[38;5;124mf\u001b[39m\u001b[38;5;124m\"\u001b[39m\u001b[38;5;124mto unexpected cache-misses. Static argument (index \u001b[39m\u001b[38;5;132;01m{\u001b[39;00mi\u001b[38;5;132;01m}\u001b[39;00m\u001b[38;5;124m) of type \u001b[39m\u001b[38;5;124m\"\u001b[39m\n\u001b[1;32m    289\u001b[0m       \u001b[38;5;124mf\u001b[39m\u001b[38;5;124m\"\u001b[39m\u001b[38;5;132;01m{\u001b[39;00m\u001b[38;5;28mtype\u001b[39m(static_arg)\u001b[38;5;132;01m}\u001b[39;00m\u001b[38;5;124m for function \u001b[39m\u001b[38;5;132;01m{\u001b[39;00mf\u001b[38;5;241m.\u001b[39m\u001b[38;5;18m__name__\u001b[39m\u001b[38;5;132;01m}\u001b[39;00m\u001b[38;5;124m is non-hashable.\u001b[39m\u001b[38;5;124m\"\u001b[39m)\n\u001b[1;32m    290\u001b[0m \u001b[38;5;28;01melse\u001b[39;00m:\n\u001b[1;32m    291\u001b[0m   fixed_args\u001b[38;5;241m.\u001b[39mappend(_HashableWithStrictTypeEquality(static_arg))  \u001b[38;5;66;03m# type: ignore\u001b[39;00m\n",
      "\u001b[0;31mValueError\u001b[0m: Non-hashable static arguments are not supported, as this can lead to unexpected cache-misses. Static argument (index 1) of type <class 'tuple'> for function scan_fn is non-hashable."
     ]
    }
   ],
   "source": [
    "a = sampler_gumbel.sample(numSamples=128)\n",
    "b = sampler.sample(numSamples=128)"
   ]
  },
  {
   "cell_type": "code",
   "execution_count": null,
   "id": "7c72605e-71b5-4b54-a457-136b8436c81c",
   "metadata": {},
   "outputs": [],
   "source": [
    "len(np.unique(a[0][0],axis=0)),len(np.unique(b[0][0],axis=0)),len(b[0][0])"
   ]
  },
  {
   "cell_type": "code",
   "execution_count": null,
   "id": "45b9d1bf-a209-4812-a19c-bb64d1faf53d",
   "metadata": {},
   "outputs": [],
   "source": [
    "%timeit sampler_gumbel.sample(numSamples=128)"
   ]
  },
  {
   "cell_type": "code",
   "execution_count": null,
   "id": "04d32207-83bc-4df1-acef-9a699d81d9df",
   "metadata": {},
   "outputs": [],
   "source": [
    "%timeit sampler.sample(numSamples=128)"
   ]
  },
  {
   "cell_type": "code",
   "execution_count": null,
   "id": "6b4ad840-37a3-4094-b0f7-26f709dda966",
   "metadata": {},
   "outputs": [],
   "source": []
  },
  {
   "cell_type": "code",
   "execution_count": null,
   "id": "a36d8cee-ce8f-4e66-bc7c-66dca60cfa6a",
   "metadata": {},
   "outputs": [],
   "source": [
    "sym = jVMC.util.symmetries.get_orbit_1D(L,\"reflection\",\"translation\")\n",
    "symNet_RWKV = jVMC.nets.sym_wrapper.SymNet(sym,net_RWKV,avgFun=jVMC.nets.sym_wrapper.avgFun_Coefficients_Sep_real)\n",
    "\n",
    "sym_psi_RWKV = jVMC.vqs.NQS(symNet_RWKV,batchSize=128)\n",
    "sym_psi_RWKV(homFock)\n"
   ]
  },
  {
   "cell_type": "code",
   "execution_count": null,
   "id": "12667370-7e7c-4aa4-afaa-e4f0f3fa49cc",
   "metadata": {},
   "outputs": [],
   "source": [
    "sym_sampler = jVMC.sampler.MCSampler(sym_psi_RWKV,(L,),key)\n",
    "sym_sampler_gumbel = MCSampler_gumbel(sym_psi_RWKV,(L,),key)\n",
    "sym_sampler_gumbel.setup_gumble()\n"
   ]
  },
  {
   "cell_type": "code",
   "execution_count": null,
   "id": "d96c23e2-1dc1-4ebd-9df0-21058844bc9b",
   "metadata": {
    "scrolled": true
   },
   "outputs": [],
   "source": [
    "#sym_sampler_gumbel.sample(numSamples=128) #errorrrororororor"
   ]
  },
  {
   "cell_type": "code",
   "execution_count": null,
   "id": "ec379296-9d59-4978-96d4-a2b145958bb9",
   "metadata": {},
   "outputs": [],
   "source": [
    "H = jVMC.operator.bosons.BoseHubbard_Hamiltonian1D(L,1.,0.,lDim=ldim)"
   ]
  },
  {
   "cell_type": "code",
   "execution_count": 6,
   "id": "de6ccd3b-02ab-483e-900d-d12d80ffcadc",
   "metadata": {
    "scrolled": true
   },
   "outputs": [
    {
     "name": "stdout",
     "output_type": "stream",
     "text": [
      "5\n"
     ]
    }
   ],
   "source": [
    "net_RWKV = jVMC.nets.bosons.RWKV(L,N,LocalHilDim=ldim,num_layers=depth_RWKV,embedding_size=emb_RWKV)\n",
    "net_RWKV_gumbel = jVMC.nets.bosons.RWKV(L,N,LocalHilDim=ldim,num_layers=depth_RWKV,embedding_size=emb_RWKV)\n",
    "\n",
    "psi_RWKV = jVMC.vqs.NQS(net_RWKV)\n",
    "psi_RWKV_gumbel = jVMC.vqs.NQS(net_RWKV_gumbel)\n",
    "\n",
    "psi_RWKV(homFock)\n",
    "psi_RWKV_gumbel(homFock)\n",
    "\n",
    "sampler = jVMC.sampler.MCSampler(psi_RWKV,(L,),key)\n",
    "\n",
    "sampler_gumbel = MCSampler_gumbel(psi_RWKV_gumbel,(L,),key)\n",
    "sampler_gumbel.setup_gumble()\n",
    "\n",
    "lr_SR = 1e-2\n",
    "minSR_equation = jVMC.util.MinSR(sampler, makeReal='real',diagonalShift=1e-3,diagonalMulti=1e-3)\n",
    "minSR_equation_gumbel = jVMC.util.MinSR(sampler_gumbel, makeReal='real',diagonalShift=1e-3,diagonalMulti=1e-3)\n",
    "\n",
    "stepperSR = jVMC.util.stepper.Euler(timeStep=lr_SR)  \n",
    "    "
   ]
  },
  {
   "cell_type": "code",
   "execution_count": null,
   "id": "02fc5eeb-a9bb-4248-b79a-2b222fcf870f",
   "metadata": {
    "scrolled": true
   },
   "outputs": [],
   "source": [
    "keyN = jrnd.split( jrnd.PRNGKey(1,),(L,))\n",
    "\n",
    "out =sampler_gumbel.gumbel(16,keyN,None,outputGumbel=True)\n"
   ]
  },
  {
   "cell_type": "code",
   "execution_count": null,
   "id": "3267a662-5daa-4847-ae4a-b085cbce3803",
   "metadata": {
    "scrolled": true
   },
   "outputs": [],
   "source": [
    "out[0][:,0,:],out[1][:,0],out[2][:,0]"
   ]
  },
  {
   "cell_type": "code",
   "execution_count": null,
   "id": "341ed4c4-f1e2-41cd-9573-d4941be00e1e",
   "metadata": {
    "scrolled": true
   },
   "outputs": [],
   "source": [
    "out[2][:]"
   ]
  },
  {
   "cell_type": "code",
   "execution_count": null,
   "id": "4f5a611d-e7aa-40a4-b2c7-1977567ad477",
   "metadata": {
    "scrolled": true
   },
   "outputs": [],
   "source": [
    "training_steps= 50\n",
    "resTraining = np.zeros((training_steps,2))\n",
    "resTraining_gumbel = np.zeros((training_steps,2))\n",
    "\n",
    "numS = 2**10\n",
    "pbar = tqdm(range(training_steps))\n",
    "for n,p in enumerate(pbar):\n",
    "    dpOld = psi_RWKV.get_parameters()        \n",
    "    print(dpOld.shape)\n",
    "    dp, _ = stepperSR.step(0, minSR_equation, dpOld, hamiltonian=H, psi=psi_RWKV, numSamples=numS)\n",
    "    psi_RWKV.set_parameters(jnp.real(dp))\n",
    "    resTraining[n] = [jnp.real(minSR_equation.ElocMean0) , minSR_equation.ElocVar0 ]\n",
    "    \n",
    "    dpOld = psi_RWKV_gumbel.get_parameters()                \n",
    "    dp, _ = stepperSR.step(0, minSR_equation_gumbel, dpOld, hamiltonian=H, psi=psi_RWKV_gumbel, numSamples=numS)\n",
    "    psi_RWKV_gumbel.set_parameters(jnp.real(dp))\n",
    "    resTraining_gumbel[n] = [jnp.real(minSR_equation_gumbel.ElocMean0) , minSR_equation_gumbel.ElocVar0 ]\n",
    "    \n",
    "    pbar.set_description(f\"energy: {resTraining[n][0]:.2f}+-{np.sqrt(resTraining[n][1]):.4f} __ gumbel \"+f\"energy: {resTraining_gumbel[n][0]:.2f}+-{np.sqrt(resTraining_gumbel[n][1]):.2f}\")\n"
   ]
  },
  {
   "cell_type": "code",
   "execution_count": null,
   "id": "4487ebf1-64e2-4133-9647-5bfc51e820db",
   "metadata": {},
   "outputs": [],
   "source": [
    "plt.plot(resTraining[:,0],'x')\n",
    "plt.plot(resTraining_gumbel[:,0])\n",
    "#plt.ylim(-10,10)"
   ]
  },
  {
   "cell_type": "code",
   "execution_count": null,
   "id": "5e43fd19-f977-4a5f-b56c-529aee1e3c96",
   "metadata": {},
   "outputs": [],
   "source": [
    "plt.plot(resTraining[:,1],'x')\n",
    "plt.plot(resTraining_gumbel[:,1])\n",
    "#plt.ylim(-10,10)\n",
    "plt.semilogy()"
   ]
  },
  {
   "cell_type": "code",
   "execution_count": null,
   "id": "ce0e4e7c-965a-42c3-8a16-d82753cf6774",
   "metadata": {},
   "outputs": [],
   "source": [
    "sampler.sample(numSamples=16)"
   ]
  },
  {
   "cell_type": "code",
   "execution_count": null,
   "id": "29c72254-78e9-42e5-801e-e77e6e1a4d6a",
   "metadata": {},
   "outputs": [],
   "source": [
    "a = sampler_gumbel.sample(numSamples=24)\n",
    "a\n"
   ]
  },
  {
   "cell_type": "code",
   "execution_count": null,
   "id": "c74955cf-1b73-4ef2-9141-04f42ef414f6",
   "metadata": {},
   "outputs": [],
   "source": [
    "import math\n",
    "math.comb(5,2)"
   ]
  },
  {
   "cell_type": "code",
   "execution_count": null,
   "id": "05fd02af-6115-45e0-87f4-768ff8930194",
   "metadata": {},
   "outputs": [],
   "source": [
    "a[0][0,jnp.argmax(a[1][0])]"
   ]
  },
  {
   "cell_type": "code",
   "execution_count": null,
   "id": "e832c004-16b2-49a4-be30-48a2e85ce40c",
   "metadata": {},
   "outputs": [],
   "source": [
    "np.argmax(a[1][0])"
   ]
  },
  {
   "cell_type": "code",
   "execution_count": null,
   "id": "43d44f3e-5eed-4ff9-a210-801c46ade1fb",
   "metadata": {},
   "outputs": [],
   "source": [
    "a[1][0,76]"
   ]
  },
  {
   "cell_type": "code",
   "execution_count": null,
   "id": "fadaebc9-e3a6-4eb3-a653-4fce9efc78a8",
   "metadata": {},
   "outputs": [],
   "source": []
  },
  {
   "cell_type": "code",
   "execution_count": null,
   "id": "1d28fe17-730a-465e-837d-15fdf8294ff8",
   "metadata": {},
   "outputs": [],
   "source": []
  },
  {
   "cell_type": "code",
   "execution_count": null,
   "id": "8a85db26-1501-4646-9965-a325f97224d3",
   "metadata": {},
   "outputs": [],
   "source": []
  },
  {
   "cell_type": "code",
   "execution_count": null,
   "id": "5da606d7-f432-47a8-84a5-ef53657fd5f7",
   "metadata": {},
   "outputs": [],
   "source": []
  },
  {
   "cell_type": "code",
   "execution_count": 79,
   "id": "e9e87069-c91a-4308-9d17-09324a4ecdc6",
   "metadata": {},
   "outputs": [],
   "source": [
    "from flax import linen as nn\n",
    "from typing import Any, List, Optional, Tuple\n",
    "from jax import Array, vmap, jit\n",
    "\n",
    "class gumbel_sampler(nn.Module):\n",
    "    \"\"\"\n",
    "    Wrapper module for symmetrization.\n",
    "    This is a wrapper module for the incorporation of lattice symmetries. \n",
    "    The given plain ansatz :math:`\\\\psi_\\\\theta` is symmetrized as\n",
    "\n",
    "        :math:`\\\\Psi_\\\\theta(s)=\\\\frac{1}{|\\\\mathcal S|}\\\\sum_{\\\\tau\\\\in\\\\mathcal S}\\\\psi_\\\\theta(\\\\tau(s))`\n",
    "\n",
    "    where :math:`\\\\mathcal S` denotes the set of symmetry operations (``orbit`` in our nomenclature).\n",
    "\n",
    "    Initialization arguments:\n",
    "        * ``orbit``: orbits which define the symmetry operations (instance of ``util.symmetries.LatticeSymmetry``)\n",
    "        * ``net``: Flax module defining the plain ansatz.\n",
    "        * ``avgFun``: Different choices for the details of averaging.\n",
    "\n",
    "    \"\"\"\n",
    "    #orbit: LatticeSymmetry\n",
    "    net: callable\n",
    "    is_gumbel = True\n",
    "\n",
    "    #avgFun: callable = avgFun_Coefficients_Exp\n",
    "    def __setup__(self):\n",
    "        self.L = self.net.L\n",
    "\n",
    "    def __post_init__(self):\n",
    "\n",
    "        super().__post_init__()\n",
    "        #self.orbit = None\n",
    "        #self.is_generator = self.net.is_generator\n",
    "    \"\"\"\n",
    "    def __call__(self, x):\n",
    "\n",
    "        inShape = x.shape\n",
    "        x = 2 * x - 1\n",
    "        x = jax.vmap(lambda o, s: jnp.dot(o, s.ravel()).reshape(inShape), in_axes=(0, None))(self.orbit.orbit, x)\n",
    "        x = (x + 1) // 2\n",
    "\n",
    "        def evaluate(x):\n",
    "            return self.net(x)\n",
    "\n",
    "        res = jax.vmap(evaluate)(x)\n",
    "        return self.avgFun(res, self.orbit.factor)\n",
    "    \"\"\"\n",
    "    \n",
    "    def __call__(self,x,**kwargs):\n",
    "        \n",
    "        #def evaluate(x):\n",
    "        #    return self.net(x)\n",
    "\n",
    "        #res = jax.vmap(evaluate)(x)\n",
    "        return self.net(x,**kwargs)\n",
    "        \n",
    "    def _apply_fun(self, *args,**kwargs):\n",
    "        return self.net.apply(*args,**kwargs)\n",
    "\n",
    "# ** end class SymNet\n",
    "        #return sample,logits,gumbel,states\n",
    "    \n",
    "    \n",
    "    def _workN(self,sample,logits,gumbel,key,states,position):        \n",
    "        particles_left = self.net.Q - jnp.sum(sample[0]+jnp.abs(sample[0]))//2\n",
    "        #new samples with (0,..,ldim-1) at position\n",
    "        sample = jnp.array([sample[0].at[position].set(l) for l in jnp.arange(self.net.ldim)])\n",
    "        #right shifted input\n",
    "        inputt = jnp.array([jnp.pad(sample[0,:-1],(1,0))])\n",
    "        logitnew, next_states = self(inputt[:,position],block_states = states, output_state=True)\n",
    "        #logitnew, next_states = self.net.net(inputt[:,position],block_states = states, output_state=True)\n",
    "    \n",
    "        #jax.debug.print(\"pl: {x}\",x=particles_left)\n",
    "        must_give = jax.nn.relu(particles_left-self.net.max_particles[position])\n",
    "\n",
    "        # number of particles that can be assigned\n",
    "        can_give = jnp.minimum(particles_left, self.net.ldim-1)\n",
    "        mask = (self.net.must_mask[must_give] + \n",
    "                    self.net.can_mask[can_give.astype(int)]) \n",
    "        #logit_renorm =  logitnew - mask ** jnp.inf\n",
    "        #jax.debug.print(\"mask {x}\", x=mask)\n",
    "        logitnew =  jax.nn.log_softmax(logitnew - mask ** jnp.inf)\n",
    "        #jax.debug.print(\"logits new {x}\", x=logitnew)\n",
    "        #jax.debug.print(\"logits[0] {x}\", x=logits[0])\n",
    "        \n",
    "        logitnew = logits[0] + logitnew - mask ** jnp.inf\n",
    "        #jax.debug.print(\"logits new {x}\", x=logitnew)\n",
    "\n",
    "        gumbelnew = logitnew + jrnd.gumbel(key[0],shape=(self.net.ldim,))  ## logitnew or logits[0]?\n",
    "        #gumbelnew = logits[0] + jrnd.gumbel(key[0],shape=(ldim,))\n",
    "        #jax.debug.print(\"gumbelnew new {x}\", x=gumbelnew)\n",
    "\n",
    "        Z = jnp.nanmax(gumbelnew)\n",
    "        gumbelnew = jnp.nan_to_num(-jnp.log(\n",
    "            jnp.exp(-gumbel[0])-jnp.exp(-Z)+jnp.exp(-gumbelnew) # -sign at gumbelnew??\n",
    "            ),nan=-jnp.inf)\n",
    "        #gumbelnew = (-jnp.log(jnp.exp(-gumbel[0])-jnp.exp(-Z)+jnp.exp(gumbelnew)))\n",
    "        gumbelnew = gumbelnew- mask ** jnp.inf\n",
    "        return sample, logitnew, gumbelnew, next_states\n",
    "    def sample(self, numSamples: int, key) -> Array:\n",
    "        \"\"\"Autoregressively sample a spin configuration.\n",
    "\n",
    "        Args:\n",
    "            * ``numSamples``: The number of configurations to generate.\n",
    "            * ``key``: JAX random key.\n",
    "\n",
    "        Returns:\n",
    "            A batch of spin configurations.\n",
    "        \"\"\"\n",
    "        \n",
    "        \"\"\"\n",
    "        def generate_sample(key):\n",
    "            key = jrnd.split(key, self.net.L)\n",
    "            logits, carry = self(jnp.zeros(1,dtype=int),block_states = None, output_state=True)\n",
    "\n",
    "            choice = jrnd.categorical(key[0], logits.ravel()) # abide by the indexing convention and apply -1\n",
    "            s_cumsum = self.net.Q - choice # create cumsum of the quantum number\n",
    "            _, s = self._scanning_fn((jnp.expand_dims(choice,0),carry,s_cumsum),(key[1:],jnp.arange(1,self.net.L)))\n",
    "            return jnp.concatenate([jnp.expand_dims(choice,0),s])\n",
    "        \"\"\"\n",
    "        # get the samples\n",
    "        keys = jrnd.split(key, (self.net.L))\n",
    "        #keys = jrnd.split(tmpKey[0],(self.net.L))\n",
    "\n",
    "        \n",
    "\n",
    "\n",
    "        ## init stap\n",
    "        shape_samples = (numSamples,self.net.ldim,self.net.L)\n",
    "        shape_logits = (numSamples,self.net.ldim)\n",
    "        shape_gumbel = (numSamples,self.net.ldim)\n",
    "        #print(shape_samples,shape_logits)\n",
    "        working_space_samples = jnp.full(shape_samples,-2,dtype=jnp.int64)\n",
    "        working_space_logits = jnp.full(shape_logits,-jnp.inf,dtype=jnp.float64)\n",
    "        working_space_gumbel = jnp.full(shape_gumbel,-jnp.inf,dtype=jnp.float64)\n",
    "        \n",
    "        working_space_samples = working_space_samples.at[0,0,0].set(0)\n",
    "        working_space_logits = working_space_logits.at[0,0].set(0.)\n",
    "        working_space_gumbel = working_space_gumbel.at[0,0].set(0.)\n",
    "        \n",
    "        states = None\n",
    "        init_work = partial(self._workN, position=0,states=states)\n",
    "        key0=jrnd.split(keys[0],(numSamples,1))\n",
    "        \n",
    "        sample,logits,gumbel,states  = jax.vmap(init_work)(working_space_samples,working_space_logits,working_space_gumbel,key0)\n",
    "        #jax.debug.print(\"out1 logits {x}\",x=logits)\n",
    "\n",
    "        #jax.debug.print(\"out1 gumbel {x}\",x=gumbel)\n",
    "        \n",
    "        init_carry = sorting_gumble(sample,logits,gumbel,states)\n",
    "        #scan_fnP = partial(scan_fn,self._workN)\n",
    "        #res, _ = jax.lax.scan(scan_fnP,init_carry,(keys[1:],jnp.arange(1,self.L)))\n",
    "\n",
    "        res,_ = self._scanning_fn(init_carry,(keys[1:],jnp.arange(1,self.net.L)))\n",
    "        samples, logits,gumbels,_ = res\n",
    "        \n",
    "        kappa = gumbels[0,1]\n",
    "        jax.debug.print(\"kappa {x}\", x=kappa)\n",
    "        \n",
    "        re_weights = jnp.nan_to_num(jnp.exp(logits[:,0]) /(-jnp.expm1(-jnp.exp(logits[:,0]-kappa))),0)\n",
    "        jax.debug.print(\"re {x}\", x=re_weights)\n",
    "\n",
    "\n",
    "        # return to the spinless representation\n",
    "        return samples[:,0,:],logits[:,0]*self.net.logProbFactor,re_weights/jnp.sum(re_weights)\n",
    "\n",
    "    @partial(nn.scan,\n",
    "             variable_broadcast='params',\n",
    "             split_rngs={'params': False})\n",
    "    def _scanning_fn(self, carry, key):\n",
    "        position = key[1]\n",
    "        sample = carry[0]\n",
    "        #jax.debug.print(\"{x}\", x=sample)\n",
    "\n",
    "        logits = carry[1]\n",
    "        gumbel = carry[2]\n",
    "        states = carry[3]\n",
    "        keys = jrnd.split(key[0],(carry[0].shape[0],1))\n",
    "\n",
    "        p_workN = partial(self._workN,position=position)\n",
    "        sample,logits,gumbel,states = jax.vmap(p_workN)(sample,logits,gumbel,keys,states)\n",
    "        #jax.debug.print(\"gumbelnew new {x}\", x=gumbel)\n",
    "\n",
    "        #### sorting gumble value\n",
    "        return sorting_gumble(sample,logits,gumbel,states),None\n",
    "        \"\"\"\n",
    "        logits, next_states = self(carry[0],block_states = carry[1], output_state=True)\n",
    "        #jax.debug.print(\"logits {x}\\n carry {y}\",x=logits,y=carry)\n",
    "\n",
    "        ##############################################\n",
    "        # mask logits\n",
    "        # number of particles that mus assigned\n",
    "        must_give = nn.relu(carry[2]-self.net.max_particles[key[1]])\n",
    "        # number of particles that can be assigned\n",
    "        can_give = jnp.minimum(carry[2], self.net.LocalHilDim-1)\n",
    "        # compute mask\n",
    "        mask = (self.net.must_mask[must_give] + \n",
    "                    self.net.can_mask[can_give.astype(int)]) \n",
    "        ##############################################\n",
    "        logits = logits - mask ** jnp.inf\n",
    "        choice = jrnd.categorical(key[0], logits.ravel().real) # abide by the indexing convention\n",
    "        ##############################################\n",
    "        s_cumsum = carry[2] - choice\n",
    "        return (jnp.expand_dims(choice,0), next_states, s_cumsum), choice\n",
    "        \"\"\""
   ]
  },
  {
   "cell_type": "code",
   "execution_count": 80,
   "id": "2fdaf52f-6c06-402a-a6f4-d173e98662e3",
   "metadata": {},
   "outputs": [],
   "source": [
    "net_g = gumbel_sampler(net_RWKV_gumbel)\n",
    "psi_g = jVMC.vqs.NQS(net_g)"
   ]
  },
  {
   "cell_type": "code",
   "execution_count": 81,
   "id": "6a322f89-2126-4ff6-a685-9ea1cc536513",
   "metadata": {},
   "outputs": [],
   "source": [
    "sampler_new = jVMC.sampler.MCSampler(psi_g,(L,),12,jrnd.PRNGKey(1))"
   ]
  },
  {
   "cell_type": "code",
   "execution_count": 82,
   "id": "2ed77199-7234-4f5b-b544-14fc2c8dbd56",
   "metadata": {},
   "outputs": [
    {
     "name": "stdout",
     "output_type": "stream",
     "text": [
      "kappa -inf\n",
      "re [0.01209263 0.0958689  0.10400124 ... 0.         0.         0.        ]\n",
      "kappa -inf\n",
      "re [0.01242702 0.01090644 0.03048982 ... 0.         0.         0.        ]\n",
      "kappa -inf\n",
      "re [0.03568013 0.08759054 0.14228799 ... 0.         0.         0.        ]\n",
      "kappa -inf\n",
      "re [0.00124116 0.01678184 0.14228799 ... 0.         0.         0.        ]\n",
      "kappa -inf\n",
      "re [0.0026353  0.01690758 0.03674051 ... 0.         0.         0.        ]\n",
      "kappa -inf\n",
      "re [0.0275279  0.14228799 0.02378192 ... 0.         0.         0.        ]\n",
      "kappa -inf\n",
      "re [0.06508407 0.00085876 0.03674051 ... 0.         0.         0.        ]\n",
      "kappa -inf\n",
      "re [0.06508407 0.01392076 0.03674051 ... 0.         0.         0.        ]\n",
      "19 ms ± 3.6 ms per loop (mean ± std. dev. of 7 runs, 1 loop each)\n"
     ]
    }
   ],
   "source": [
    "%timeit sampler_new.sample(numSamples=1024)"
   ]
  },
  {
   "cell_type": "code",
   "execution_count": 83,
   "id": "090464f6-d29d-43e3-8aa0-3dfe7b96ee14",
   "metadata": {},
   "outputs": [
    {
     "name": "stdout",
     "output_type": "stream",
     "text": [
      "kappa -inf\n",
      "re [1.42287990e-01 8.37928854e-03 9.29498365e-03 8.75905352e-02\n",
      " 9.58689008e-02 3.67405112e-02 2.75375950e-04 6.50840706e-02\n",
      " 2.43768300e-02 3.04898240e-02 1.69075834e-02 2.37819208e-02\n",
      " 1.04001239e-01 3.56801268e-02 2.24345058e-03 1.09064383e-02\n",
      " 3.31360105e-02 2.75278982e-02 1.39207589e-02 6.71446697e-03\n",
      " 5.02303979e-03 7.22567164e-03 3.20975316e-04 1.35031505e-03\n",
      " 9.23430428e-03 1.20926261e-02 8.91353318e-03 2.17437550e-02\n",
      " 2.70084459e-04 1.51132677e-03 1.99989363e-04 3.17434346e-03\n",
      " 1.67818449e-02 3.15180230e-03 1.34556529e-02 3.87868577e-04\n",
      " 2.88360841e-04 5.14640132e-03 2.63529663e-03 1.24270250e-02\n",
      " 1.29656510e-02 3.31123176e-03 2.89445810e-03 1.24594269e-03\n",
      " 7.34709400e-03 1.07889423e-03 9.87189364e-03 1.11891676e-03\n",
      " 6.13325426e-04 2.90061655e-03 4.28139769e-03 3.57396492e-03\n",
      " 3.31010868e-03 2.13343831e-03 4.96624764e-04 2.22598600e-03\n",
      " 4.85691579e-04 8.58764894e-04 1.24116218e-03 1.35357604e-03\n",
      " 1.39188659e-03 9.87648769e-05 2.54419469e-03 3.77171706e-03\n",
      " 6.52612911e-04 6.96702588e-04 3.75711557e-04 1.66035690e-03\n",
      " 7.39852074e-05 2.14154995e-04 7.07878813e-05 2.81461158e-04\n",
      " 1.24559760e-03 4.50490685e-04 1.68335080e-04 3.86246405e-03\n",
      " 3.34313821e-03 3.51426870e-05 1.23980583e-03 2.92089181e-04\n",
      " 3.14082332e-03 2.22317393e-04 8.15296182e-04 2.68699451e-04\n",
      " 1.29576854e-04 4.56897120e-04 1.28190027e-03 1.52365848e-04\n",
      " 7.65702256e-04 2.58465500e-04 5.29519070e-04 1.70130154e-04\n",
      " 3.58375837e-04 2.22911182e-04 6.74163949e-04 1.93740191e-05\n",
      " 2.37282283e-04 2.66421314e-04 2.51865818e-04 1.64639638e-04\n",
      " 2.36473073e-04 2.13483624e-05 7.94974543e-05 5.25921820e-04\n",
      " 7.69064511e-04 5.14659062e-05 1.86974225e-04 1.28401933e-04\n",
      " 2.59475223e-04 2.18298959e-04 6.06264184e-05 4.37224746e-05\n",
      " 5.15036701e-05 4.47567784e-05 1.44557900e-04 1.51750314e-05\n",
      " 7.22247726e-05 1.06257502e-04 3.65929323e-05 2.80141184e-05\n",
      " 1.14529575e-04 1.34436100e-05 3.40950750e-05 2.44747596e-05\n",
      " 1.94716001e-05 6.34548705e-06 0.00000000e+00 0.00000000e+00\n",
      " 0.00000000e+00]\n"
     ]
    }
   ],
   "source": [
    "s,l,p = sampler_new.sample(numSamples=129)\n"
   ]
  },
  {
   "cell_type": "code",
   "execution_count": 86,
   "id": "4ba68e30-266d-44c6-a0fb-6c8d75890209",
   "metadata": {},
   "outputs": [
    {
     "data": {
      "text/plain": [
       "Array([[-2.77555756e-17, -1.73472348e-18, -1.73472348e-18,\n",
       "        -1.38777878e-17, -2.77555756e-17, -6.93889390e-18,\n",
       "        -5.42101086e-20, -1.38777878e-17, -6.93889390e-18,\n",
       "        -6.93889390e-18, -3.46944695e-18, -6.93889390e-18,\n",
       "        -2.77555756e-17, -6.93889390e-18, -4.33680869e-19,\n",
       "        -1.73472348e-18, -6.93889390e-18, -6.93889390e-18,\n",
       "        -3.46944695e-18, -1.73472348e-18, -8.67361738e-19,\n",
       "        -1.73472348e-18, -5.42101086e-20, -2.16840434e-19,\n",
       "        -1.73472348e-18, -3.46944695e-18, -1.73472348e-18,\n",
       "        -3.46944695e-18, -5.42101086e-20, -4.33680869e-19,\n",
       "        -5.42101086e-20, -8.67361738e-19, -3.46944695e-18,\n",
       "        -8.67361738e-19, -3.46944695e-18, -1.08420217e-19,\n",
       "        -5.42101086e-20, -8.67361738e-19, -4.33680869e-19,\n",
       "        -3.46944695e-18, -3.46944695e-18, -8.67361738e-19,\n",
       "        -4.33680869e-19, -2.16840434e-19, -1.73472348e-18,\n",
       "        -2.16840434e-19, -1.73472348e-18, -2.16840434e-19,\n",
       "        -1.08420217e-19, -4.33680869e-19, -8.67361738e-19,\n",
       "        -8.67361738e-19, -8.67361738e-19, -4.33680869e-19,\n",
       "        -1.08420217e-19, -4.33680869e-19, -1.08420217e-19,\n",
       "        -2.16840434e-19, -2.16840434e-19, -2.16840434e-19,\n",
       "        -2.16840434e-19, -2.71050543e-20, -4.33680869e-19,\n",
       "        -8.67361738e-19, -1.08420217e-19, -1.08420217e-19,\n",
       "        -1.08420217e-19, -4.33680869e-19, -1.35525272e-20,\n",
       "        -5.42101086e-20, -1.35525272e-20, -5.42101086e-20,\n",
       "        -2.16840434e-19, -1.08420217e-19, -2.71050543e-20,\n",
       "        -8.67361738e-19, -8.67361738e-19, -6.77626358e-21,\n",
       "        -2.16840434e-19, -5.42101086e-20, -8.67361738e-19,\n",
       "        -5.42101086e-20, -2.16840434e-19, -5.42101086e-20,\n",
       "        -2.71050543e-20, -1.08420217e-19, -2.16840434e-19,\n",
       "        -2.71050543e-20, -2.16840434e-19, -5.42101086e-20,\n",
       "        -1.08420217e-19, -2.71050543e-20, -5.42101086e-20,\n",
       "        -5.42101086e-20, -1.08420217e-19, -3.38813179e-21,\n",
       "        -5.42101086e-20, -5.42101086e-20, -5.42101086e-20,\n",
       "        -2.71050543e-20, -5.42101086e-20, -3.38813179e-21,\n",
       "        -1.35525272e-20, -1.08420217e-19, -2.16840434e-19,\n",
       "        -1.35525272e-20, -5.42101086e-20, -2.71050543e-20,\n",
       "        -5.42101086e-20, -5.42101086e-20, -1.35525272e-20,\n",
       "        -6.77626358e-21, -1.35525272e-20, -6.77626358e-21,\n",
       "        -2.71050543e-20, -3.38813179e-21, -1.35525272e-20,\n",
       "        -2.71050543e-20, -6.77626358e-21, -6.77626358e-21,\n",
       "        -2.71050543e-20, -3.38813179e-21, -6.77626358e-21,\n",
       "        -6.77626358e-21, -3.38813179e-21, -1.69406589e-21,\n",
       "         0.00000000e+00,  0.00000000e+00,  0.00000000e+00]],      dtype=float64)"
      ]
     },
     "execution_count": 86,
     "metadata": {},
     "output_type": "execute_result"
    }
   ],
   "source": [
    "jnp.exp(2*l)-p"
   ]
  },
  {
   "cell_type": "code",
   "execution_count": 28,
   "id": "faae9cf7-68ba-49d8-9649-8ff5a3113c9b",
   "metadata": {},
   "outputs": [],
   "source": [
    "def jonasFunction(self,x,*args):\n",
    "    return self(x,block_states=None,output_state=False)"
   ]
  },
  {
   "cell_type": "code",
   "execution_count": null,
   "id": "d1087400-a026-4512-8aed-37ac423d70d2",
   "metadata": {},
   "outputs": [],
   "source": [
    "psi_RWKV.net.apply(psi_RWKV.parameters,homFock,method=jonasFunction) "
   ]
  },
  {
   "cell_type": "code",
   "execution_count": 25,
   "id": "a142f1ad-0db0-45bf-b02a-a21b6626ac58",
   "metadata": {},
   "outputs": [
    {
     "data": {
      "text/plain": [
       "126"
      ]
     },
     "execution_count": 25,
     "metadata": {},
     "output_type": "execute_result"
    }
   ],
   "source": [
    "import math\n",
    "math.comb(N+L-1,L-1)"
   ]
  },
  {
   "cell_type": "code",
   "execution_count": 41,
   "id": "5c548373-1d7a-4be2-aa3c-eb7eb7140664",
   "metadata": {},
   "outputs": [
    {
     "data": {
      "text/plain": [
       "Array(0., dtype=float64, weak_type=True)"
      ]
     },
     "execution_count": 41,
     "metadata": {},
     "output_type": "execute_result"
    }
   ],
   "source": [
    "jnp.exp(-jnp.inf)"
   ]
  },
  {
   "cell_type": "code",
   "execution_count": null,
   "id": "f9f12b31-6ac3-4aac-95dc-7e28ba4e718a",
   "metadata": {},
   "outputs": [],
   "source": []
  }
 ],
 "metadata": {
  "kernelspec": {
   "display_name": "Python 3 (ipykernel)",
   "language": "python",
   "name": "python3"
  },
  "language_info": {
   "codemirror_mode": {
    "name": "ipython",
    "version": 3
   },
   "file_extension": ".py",
   "mimetype": "text/x-python",
   "name": "python",
   "nbconvert_exporter": "python",
   "pygments_lexer": "ipython3",
   "version": "3.9.19"
  }
 },
 "nbformat": 4,
 "nbformat_minor": 5
}
