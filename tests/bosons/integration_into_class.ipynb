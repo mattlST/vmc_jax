{
 "cells": [
  {
   "cell_type": "code",
   "execution_count": 1,
   "id": "aafe881f-5273-4d6d-aec4-8b74a1b4bd79",
   "metadata": {},
   "outputs": [],
   "source": [
    "import jVMC\n",
    "import jax\n",
    "#from jax.config import config\n",
    "jax.config.update(\"jax_enable_x64\", True)\n",
    "import jax.random as jrnd\n",
    "import jax.random as random\n",
    "\n",
    "import jax.numpy as jnp\n",
    "from functools import partial\n",
    "import numpy as np\n",
    "import jVMC.global_defs as global_defs\n",
    "from tqdm import tqdm\n",
    "import matplotlib.pyplot as plt\n",
    "@jax.jit\n",
    "def sorting_gumble(sample,logits,gumbel,states):\n",
    "    indexes = jnp.argsort((-gumbel),axis=None)#.reshape(shape_gumbel)\n",
    "    numSamples = sample.shape[0]\n",
    "    ldim = sample.shape[1]\n",
    "    L = sample.shape[2]\n",
    "    #jax.debug.print(\"shape {x},{y},{z}\",x=numSamples,y=ldim,z=L)\n",
    "    indexes_states = (indexes // ldim)[:numSamples]\n",
    "    sample = sample.reshape(-1,L)[indexes]\n",
    "    sample = sample.reshape(ldim,numSamples,L)\n",
    "    sample = jnp.swapaxes(sample,0,1)\n",
    "    \n",
    "    logits = logits.ravel()[indexes]\n",
    "    logits = logits.reshape(ldim,numSamples).T\n",
    "    \n",
    "    gumbel = gumbel.ravel()[indexes]\n",
    "    gumbel = gumbel.reshape(ldim,numSamples).T\n",
    "\n",
    "    vals, treedef  = jax.tree_util.tree_flatten(states)\n",
    "    vals_ordered = [v[indexes_states] for v in vals]\n",
    "    states = jax.tree_util.tree_unflatten(treedef,vals_ordered)\n",
    "    return sample,logits,gumbel,states"
   ]
  },
  {
   "cell_type": "code",
   "execution_count": 2,
   "id": "da3adaee-fc0d-43ff-bd41-e40aea1eefd9",
   "metadata": {},
   "outputs": [],
   "source": [
    "class MCSampler_gumbel(jVMC.sampler.MCSampler):\n",
    "    \n",
    "    def __init__(self,*args,**kwargs):\n",
    "        super().__init__(*args, **kwargs)\n",
    "        try: \n",
    "            callable(self.net.net.forward_with_state)\n",
    "        except:\n",
    "            try:\n",
    "                callable(self.net.net.net.forward_with_state)\n",
    "            except:\n",
    "                raise Exception(\"neural network has no autoregressive stepwise sampling subroutine 'forward_with_state'\")\n",
    "    def setup_gumble(self):\n",
    "        try:\n",
    "            self.ldim = self.net.net.LocalHilDim\n",
    "            self.lowNet = self.net.net\n",
    "            self.psiNet = self.net\n",
    "\n",
    "        except:\n",
    "            self.lowNet = self.net.net.net\n",
    "            self.psiNet = self.net.net\n",
    "\n",
    "        self.ldim = self.lowNet.LocalHilDim\n",
    "        self.Q = self.lowNet.Q\n",
    "        #self.netcall = self.lowNet.apply\n",
    "        self.netcall = self.net.net.apply\n",
    "        \n",
    "        self.L = self.sampleShape[0]\n",
    "        \n",
    "        self.max_particles = jnp.pad((self.ldim-1)*jnp.arange(1,self.L+1)[::-1],(0,1))[1::]\n",
    "        self.must_mask = 2 * jnp.tril(jnp.ones((self.ldim,self.ldim)),k=-1)\n",
    "        self.can_mask = jnp.flip(self.must_mask)\n",
    "        print(self.Q)\n",
    "    def _workN(self,sample,logits,gumbel,key,states,position):\n",
    "        \n",
    "        particles_left = self.Q - jnp.sum(sample[0]+jnp.abs(sample[0]))//2\n",
    "        #new samples with (0,..,ldim-1) at position\n",
    "        sample = jnp.array([sample[0].at[position].set(l) for l in jnp.arange(self.ldim)])\n",
    "        #right shifted input\n",
    "        inputt = jnp.array([jnp.pad(sample[0,:-1],(1,0))])\n",
    "        # sampling outside psi --> need to give parameters manually\n",
    "        para = self.net.parameters\n",
    "        #if \"net\" in para:\n",
    "        #    paraA = para[\"net\"]\n",
    "        #else:\n",
    "        #    paraA = para\n",
    "        logitnew, next_states = self.netcall(para,inputt[:,position],block_states = states, output_state=True)\n",
    "    \n",
    "        #jax.debug.print(\"pl: {x}\",x=particles_left)\n",
    "        must_give = jax.nn.relu(particles_left-self.max_particles[position])\n",
    "\n",
    "        # number of particles that can be assigned\n",
    "        can_give = jnp.minimum(particles_left, self.ldim-1)\n",
    "        mask = (self.must_mask[must_give] + \n",
    "                    self.can_mask[can_give.astype(int)]) \n",
    "        #logit_renorm =  logitnew - mask ** jnp.inf\n",
    "        #jax.debug.print(\"mask {x}\", x=mask)\n",
    "        logitnew =  jax.nn.log_softmax(logitnew - mask ** jnp.inf)\n",
    "        #jax.debug.print(\"logits new {x}\", x=logitnew)\n",
    "        #jax.debug.print(\"logits[0] {x}\", x=logits[0])\n",
    "        \n",
    "        logitnew = logits[0] + logitnew - mask ** jnp.inf\n",
    "        #jax.debug.print(\"logits new {x}\", x=logitnew)\n",
    "\n",
    "        gumbelnew = logitnew + jrnd.gumbel(key[0],shape=(self.ldim,))  ## logitnew or logits[0]?\n",
    "        #gumbelnew = logits[0] + jrnd.gumbel(key[0],shape=(ldim,))\n",
    "        #jax.debug.print(\"gumbelnew new {x}\", x=gumbelnew)\n",
    "\n",
    "        Z = jnp.nanmax(gumbelnew)\n",
    "        gumbelnew = jnp.nan_to_num(-jnp.log(\n",
    "            jnp.exp(-gumbel[0])-jnp.exp(-Z)+jnp.exp(-gumbelnew) # -sign at gumbelnew??\n",
    "            ),nan=-jnp.inf)\n",
    "        #gumbelnew = (-jnp.log(jnp.exp(-gumbel[0])-jnp.exp(-Z)+jnp.exp(gumbelnew)))\n",
    "        gumbelnew = gumbelnew- mask ** jnp.inf\n",
    "        return sample, logitnew, gumbelnew, next_states\n",
    "        #return sample,logits,gumbel,states\n",
    "    #@jax.jit\n",
    "    def scan_fn(self,carry, key):\n",
    "        position = key[1]\n",
    "        sample = carry[0]\n",
    "        #jax.debug.print(\"{x}\", x=sample)\n",
    "\n",
    "        logits = carry[1]\n",
    "        gumbel = carry[2]\n",
    "        states = carry[3]\n",
    "        keys = jrnd.split(key[0],(carry[0].shape[0],1))\n",
    "\n",
    "        p_workN = partial(self._workN,position=position)\n",
    "        sample,logits,gumbel,states = jax.vmap(p_workN)(sample,logits,gumbel,keys,states)\n",
    "        #jax.debug.print(\"gumbelnew new {x}\", x=gumbel)\n",
    "\n",
    "        #### sorting gumble value\n",
    "        return sorting_gumble(sample,logits,gumbel,states),None\n",
    "        \n",
    "    def gumbel(self,numSamples, tmpKey, parameters,outputGumbel=False):\n",
    "        shape_samples = (numSamples,self.ldim,self.L)\n",
    "        shape_logits = (numSamples,self.ldim)\n",
    "        shape_gumbel = (numSamples,self.ldim)\n",
    "        #print(shape_samples,shape_logits)\n",
    "        working_space_samples = jnp.full(shape_samples,-2,dtype=jnp.int64)\n",
    "        working_space_logits = jnp.full(shape_logits,-jnp.inf,dtype=jnp.float64)\n",
    "        working_space_gumbel = jnp.full(shape_gumbel,-jnp.inf,dtype=jnp.float64)\n",
    "        \n",
    "        working_space_samples = working_space_samples.at[0,0,0].set(0)\n",
    "        working_space_logits = working_space_logits.at[0,0].set(0.)\n",
    "        working_space_gumbel = working_space_gumbel.at[0,0].set(0.)\n",
    "        \n",
    "        keys = jrnd.split(tmpKey[0],(self.L))\n",
    "        states = None\n",
    "        init_work = partial(self._workN, position=0,states=states)\n",
    "        key0=jrnd.split(keys[0],(numSamples,1))\n",
    "        \n",
    "        sample,logits,gumbel,states  = jax.vmap(init_work)(working_space_samples,working_space_logits,working_space_gumbel,key0)\n",
    "        #jax.debug.print(\"out1 logits {x}\",x=logits)\n",
    "\n",
    "        #jax.debug.print(\"out1 gumbel {x}\",x=gumbel)\n",
    "        \n",
    "        init_carry = sorting_gumble(sample,logits,gumbel,states)\n",
    "        res, _ = jax.lax.scan(self.scan_fn,init_carry,(keys[1:],jnp.arange(1,self.L)))\n",
    "        if outputGumbel:\n",
    "            return res#,res[1][:,0]\n",
    "            \n",
    "        return jnp.expand_dims(res[0][:,0,:],0)#,res[1][:,0]\n",
    "        \n",
    "    def _get_samples_gen_gumbel(self,parameters, numSamples, multipleOf):\n",
    "        #numSamples = mpi.distribute_sampling(numSamples, localDevices=global_defs.device_count(), numChainsPerDevice=multipleOf)\n",
    "\n",
    "        tmpKeys = random.split(self.key[0], 3 * global_defs.device_count())\n",
    "        self.key = tmpKeys[:global_defs.device_count()]\n",
    "        tmpKey = tmpKeys[global_defs.device_count():2 * global_defs.device_count()]\n",
    "        tmpKey2 = tmpKeys[2 * global_defs.device_count():]\n",
    "\n",
    "        #### rewrite explicit scanning in here\n",
    "        samples = self.gumbel(numSamples, tmpKey, parameters=parameters)\n",
    "        ####\n",
    "        if not str(numSamples) in self._randomize_samples_jitd:\n",
    "            self._randomize_samples_jitd[str(numSamples)] = global_defs.pmap_for_my_devices(self._randomize_samples, static_broadcasted_argnums=(), in_axes=(0, 0, None))\n",
    "\n",
    "        if not self.orbit is None:\n",
    "            return self._randomize_samples_jitd[str(numSamples)](samples, tmpKey2, self.orbit)\n",
    "        \n",
    "        return samples\n",
    "    def sample(self, parameters=None, numSamples=None, multipleOf=1):\n",
    "        \"\"\"Generate random samples from wave function.\n",
    "\n",
    "        If supported by ``net``, direct sampling is peformed. Otherwise, MCMC is run \\\n",
    "        to generate the desired number of samples. For direct sampling the real part \\\n",
    "        of ``net`` needs to provide a ``sample()`` member function that generates \\\n",
    "        samples from :math:`p_{\\\\mu}(s)`.\n",
    "\n",
    "        Sampling is automatically distributed accross MPI processes and available \\\n",
    "        devices. In that case the number of samples returned might exceed ``numSamples``.\n",
    "\n",
    "        Arguments:\n",
    "            * ``parameters``: Network parameters to use for sampling.\n",
    "            * ``numSamples``: Number of samples to generate. When running multiple processes \\\n",
    "            or on multiple devices per process, the number of samples returned is \\\n",
    "            ``numSamples`` or more. If ``None``, the default number of samples is returned \\\n",
    "            (see ``set_number_of_samples()`` member function).\n",
    "            * ``multipleOf``: This argument allows to choose the number of samples returned to \\\n",
    "            be the smallest multiple of ``multipleOf`` larger than ``numSamples``. This feature \\\n",
    "            is useful to distribute a total number of samples across multiple processors in such \\\n",
    "            a way that the number of samples per processor is identical for each processor.\n",
    "\n",
    "        Returns:\n",
    "            A sample of computational basis configurations drawn from :math:`p_{\\\\mu}(s)`.\n",
    "        \"\"\"\n",
    "\n",
    "        if numSamples is None:\n",
    "            numSamples = self.numSamples\n",
    "\n",
    "        \n",
    "        if parameters is not None:\n",
    "            tmpP = self.net.params\n",
    "            self.net.set_parameters(parameters)\n",
    "\n",
    "        \n",
    "        configs = self._get_samples_gen_gumbel(self.net.parameters, numSamples, multipleOf)\n",
    "        #jax.debug.print(\"{x}\", x=configs)\n",
    "        coeffs = self.net(configs)\n",
    "        if parameters is not None:\n",
    "            self.net.params = tmpP\n",
    "        return configs, coeffs, jnp.ones(configs.shape[:2]) / jnp.prod(jnp.asarray(configs.shape[:2]))\n"
   ]
  },
  {
   "cell_type": "code",
   "execution_count": null,
   "id": "3ce1865a-a0ed-4d90-b9f3-1b87e983224f",
   "metadata": {},
   "outputs": [],
   "source": []
  },
  {
   "cell_type": "code",
   "execution_count": 3,
   "id": "a76972eb-24cd-422d-9043-0cd351e76071",
   "metadata": {},
   "outputs": [
    {
     "data": {
      "text/plain": [
       "Array([[-5.59444676]], dtype=float64)"
      ]
     },
     "execution_count": 3,
     "metadata": {},
     "output_type": "execute_result"
    }
   ],
   "source": [
    "N = 8\n",
    "L = 8\n",
    "ldim = 9\n",
    "homFock = jnp.ones((1,1,L),dtype=int)\n",
    "\n",
    "emb_RWKV = 4\n",
    "\n",
    "depth_RWKV = 2\n",
    "net_RWKV = jVMC.nets.bosons.RWKV(L,N,LocalHilDim=ldim,num_layers=depth_RWKV,embedding_size=emb_RWKV)\n",
    "\n",
    "\n",
    "psi_RWKV = jVMC.vqs.NQS(net_RWKV)\n",
    "\n",
    "#dummies for testing\n",
    "net_FFN = jVMC.nets.ffn.FFN()\n",
    "psi_FFN = jVMC.vqs.NQS(net_FFN)\n",
    "\n",
    "psi_RWKV(homFock)\n"
   ]
  },
  {
   "cell_type": "code",
   "execution_count": 4,
   "id": "e463ce65-e891-41a5-a9ea-383fd0deff0c",
   "metadata": {},
   "outputs": [
    {
     "name": "stdout",
     "output_type": "stream",
     "text": [
      "8\n"
     ]
    }
   ],
   "source": [
    "seed = 12\n",
    "key = jrnd.PRNGKey(seed)\n",
    "sampler = jVMC.sampler.MCSampler(psi_RWKV,(L,),key)\n",
    "sampler_gumbel = MCSampler_gumbel(psi_RWKV,(L,),key)\n",
    "sampler_gumbel.setup_gumble()\n"
   ]
  },
  {
   "cell_type": "code",
   "execution_count": 5,
   "id": "7d9b47ad-8869-46ad-a27d-36d8bdeb95ec",
   "metadata": {
    "scrolled": true
   },
   "outputs": [],
   "source": [
    "a = sampler_gumbel.sample(numSamples=128)\n",
    "b = sampler.sample(numSamples=128)"
   ]
  },
  {
   "cell_type": "code",
   "execution_count": 6,
   "id": "7c72605e-71b5-4b54-a457-136b8436c81c",
   "metadata": {},
   "outputs": [
    {
     "data": {
      "text/plain": [
       "(128, 71, 128)"
      ]
     },
     "execution_count": 6,
     "metadata": {},
     "output_type": "execute_result"
    }
   ],
   "source": [
    "len(np.unique(a[0][0],axis=0)),len(np.unique(b[0][0],axis=0)),len(b[0][0])"
   ]
  },
  {
   "cell_type": "code",
   "execution_count": 7,
   "id": "45b9d1bf-a209-4812-a19c-bb64d1faf53d",
   "metadata": {},
   "outputs": [
    {
     "name": "stdout",
     "output_type": "stream",
     "text": [
      "2.04 s ± 134 ms per loop (mean ± std. dev. of 7 runs, 1 loop each)\n"
     ]
    }
   ],
   "source": [
    "%timeit sampler_gumbel.sample(numSamples=128)"
   ]
  },
  {
   "cell_type": "code",
   "execution_count": 8,
   "id": "04d32207-83bc-4df1-acef-9a699d81d9df",
   "metadata": {},
   "outputs": [
    {
     "name": "stdout",
     "output_type": "stream",
     "text": [
      "17.3 ms ± 1.23 ms per loop (mean ± std. dev. of 7 runs, 100 loops each)\n"
     ]
    }
   ],
   "source": [
    "%timeit sampler.sample(numSamples=128)"
   ]
  },
  {
   "cell_type": "code",
   "execution_count": null,
   "id": "6b4ad840-37a3-4094-b0f7-26f709dda966",
   "metadata": {},
   "outputs": [],
   "source": []
  },
  {
   "cell_type": "code",
   "execution_count": 9,
   "id": "a36d8cee-ce8f-4e66-bc7c-66dca60cfa6a",
   "metadata": {},
   "outputs": [
    {
     "data": {
      "text/plain": [
       "Array([[-5.83238372]], dtype=float64)"
      ]
     },
     "execution_count": 9,
     "metadata": {},
     "output_type": "execute_result"
    }
   ],
   "source": [
    "sym = jVMC.util.symmetries.get_orbit_1D(L,\"reflection\",\"translation\")\n",
    "symNet_RWKV = jVMC.nets.sym_wrapper.SymNet(sym,net_RWKV,avgFun=jVMC.nets.sym_wrapper.avgFun_Coefficients_Sep_real)\n",
    "\n",
    "sym_psi_RWKV = jVMC.vqs.NQS(symNet_RWKV,batchSize=128)\n",
    "sym_psi_RWKV(homFock)\n"
   ]
  },
  {
   "cell_type": "code",
   "execution_count": 10,
   "id": "12667370-7e7c-4aa4-afaa-e4f0f3fa49cc",
   "metadata": {},
   "outputs": [
    {
     "name": "stdout",
     "output_type": "stream",
     "text": [
      "8\n"
     ]
    }
   ],
   "source": [
    "sym_sampler = jVMC.sampler.MCSampler(sym_psi_RWKV,(L,),key)\n",
    "sym_sampler_gumbel = MCSampler_gumbel(sym_psi_RWKV,(L,),key)\n",
    "sym_sampler_gumbel.setup_gumble()\n"
   ]
  },
  {
   "cell_type": "code",
   "execution_count": 11,
   "id": "d96c23e2-1dc1-4ebd-9df0-21058844bc9b",
   "metadata": {
    "scrolled": true
   },
   "outputs": [],
   "source": [
    "#sym_sampler_gumbel.sample(numSamples=128) #errorrrororororor"
   ]
  },
  {
   "cell_type": "code",
   "execution_count": 12,
   "id": "ec379296-9d59-4978-96d4-a2b145958bb9",
   "metadata": {},
   "outputs": [],
   "source": [
    "H = jVMC.operator.bosons.BoseHubbard_Hamiltonian1D(L,1.1,0.,lDim=ldim)"
   ]
  },
  {
   "cell_type": "code",
   "execution_count": 20,
   "id": "de6ccd3b-02ab-483e-900d-d12d80ffcadc",
   "metadata": {
    "scrolled": true
   },
   "outputs": [
    {
     "name": "stdout",
     "output_type": "stream",
     "text": [
      "8\n"
     ]
    }
   ],
   "source": [
    "net_RWKV = jVMC.nets.bosons.RWKV(L,N,LocalHilDim=ldim,num_layers=depth_RWKV,embedding_size=emb_RWKV)\n",
    "net_RWKV_gumbel = jVMC.nets.bosons.RWKV(L,N,LocalHilDim=ldim,num_layers=depth_RWKV,embedding_size=emb_RWKV)\n",
    "\n",
    "psi_RWKV = jVMC.vqs.NQS(net_RWKV)\n",
    "psi_RWKV_gumbel = jVMC.vqs.NQS(net_RWKV_gumbel)\n",
    "\n",
    "sampler = jVMC.sampler.MCSampler(psi_RWKV,(L,),key)\n",
    "\n",
    "sampler_gumbel = MCSampler_gumbel(psi_RWKV_gumbel,(L,),key)\n",
    "sampler_gumbel.setup_gumble()\n",
    "\n",
    "lr_SR = 1e-2\n",
    "minSR_equation = jVMC.util.MinSR(sampler, makeReal='real',diagonalShift=1e-4,diagonalMulti=1e-4)\n",
    "minSR_equation_gumbel = jVMC.util.MinSR(sampler_gumbel, makeReal='real',diagonalShift=1e-4,diagonalMulti=1e-4)\n",
    "\n",
    "stepperSR = jVMC.util.stepper.Euler(timeStep=lr_SR)  \n",
    "    "
   ]
  },
  {
   "cell_type": "code",
   "execution_count": 21,
   "id": "02fc5eeb-a9bb-4248-b79a-2b222fcf870f",
   "metadata": {
    "scrolled": true
   },
   "outputs": [],
   "source": [
    "keyN = jrnd.split( jrnd.PRNGKey(1,),(L,))\n",
    "\n",
    "out =sampler_gumbel.gumbel(16,keyN,None,outputGumbel=True)\n"
   ]
  },
  {
   "cell_type": "code",
   "execution_count": 22,
   "id": "3267a662-5daa-4847-ae4a-b085cbce3803",
   "metadata": {
    "scrolled": true
   },
   "outputs": [
    {
     "data": {
      "text/plain": [
       "(Array([[8, 0, 0, 0, 0, 0, 0, 0],\n",
       "        [6, 0, 0, 0, 2, 0, 0, 0],\n",
       "        [2, 5, 0, 0, 0, 1, 0, 0],\n",
       "        [0, 6, 0, 1, 0, 1, 0, 0],\n",
       "        [2, 4, 2, 0, 0, 0, 0, 0],\n",
       "        [4, 2, 2, 0, 0, 0, 0, 0],\n",
       "        [0, 4, 4, 0, 0, 0, 0, 0],\n",
       "        [7, 0, 1, 0, 0, 0, 0, 0],\n",
       "        [0, 2, 2, 3, 1, 0, 0, 0],\n",
       "        [6, 1, 0, 0, 0, 1, 0, 0],\n",
       "        [3, 3, 1, 1, 0, 0, 0, 0],\n",
       "        [4, 1, 3, 0, 0, 0, 0, 0],\n",
       "        [3, 5, 0, 0, 0, 0, 0, 0],\n",
       "        [1, 6, 1, 0, 0, 0, 0, 0],\n",
       "        [1, 3, 0, 1, 0, 2, 0, 1],\n",
       "        [5, 0, 1, 1, 1, 0, 0, 0]], dtype=int64),\n",
       " Array([ -2.20743397,  -6.33614474,  -7.16236593,  -7.84216874,\n",
       "         -5.41442931,  -4.64713485,  -6.05607278,  -3.45361775,\n",
       "         -7.9235526 ,  -5.95166858,  -5.95562911,  -5.55251092,\n",
       "         -3.92786904,  -5.00697025, -11.04965046,  -6.85244492],      dtype=float64),\n",
       " Array([-0.        , -0.75366865, -1.5015282 , -1.52248735, -1.84969142,\n",
       "        -1.92544109, -1.9542259 , -1.95923211, -2.21195189, -2.34526184,\n",
       "        -2.4417173 , -2.44610167, -2.53558962, -2.76521135, -2.82459538,\n",
       "        -2.86869242], dtype=float64))"
      ]
     },
     "execution_count": 22,
     "metadata": {},
     "output_type": "execute_result"
    }
   ],
   "source": [
    "out[0][:,0,:],out[1][:,0],out[2][:,0]"
   ]
  },
  {
   "cell_type": "code",
   "execution_count": 23,
   "id": "341ed4c4-f1e2-41cd-9573-d4941be00e1e",
   "metadata": {
    "scrolled": true
   },
   "outputs": [
    {
     "data": {
      "text/plain": [
       "Array([[-0.        ,        -inf,        -inf,        -inf,        -inf,\n",
       "               -inf,        -inf,        -inf,        -inf],\n",
       "       [-0.75366865,        -inf,        -inf,        -inf,        -inf,\n",
       "               -inf,        -inf,        -inf,        -inf],\n",
       "       [-1.5015282 ,        -inf,        -inf,        -inf,        -inf,\n",
       "               -inf,        -inf,        -inf,        -inf],\n",
       "       [-1.52248735,        -inf,        -inf,        -inf,        -inf,\n",
       "               -inf,        -inf,        -inf,        -inf],\n",
       "       [-1.84969142,        -inf,        -inf,        -inf,        -inf,\n",
       "               -inf,        -inf,        -inf,        -inf],\n",
       "       [-1.92544109,        -inf,        -inf,        -inf,        -inf,\n",
       "               -inf,        -inf,        -inf,        -inf],\n",
       "       [-1.9542259 ,        -inf,        -inf,        -inf,        -inf,\n",
       "               -inf,        -inf,        -inf,        -inf],\n",
       "       [-1.95923211,        -inf,        -inf,        -inf,        -inf,\n",
       "               -inf,        -inf,        -inf,        -inf],\n",
       "       [-2.21195189,        -inf,        -inf,        -inf,        -inf,\n",
       "               -inf,        -inf,        -inf,        -inf],\n",
       "       [-2.34526184,        -inf,        -inf,        -inf,        -inf,\n",
       "               -inf,        -inf,        -inf,        -inf],\n",
       "       [-2.4417173 ,        -inf,        -inf,        -inf,        -inf,\n",
       "               -inf,        -inf,        -inf,        -inf],\n",
       "       [-2.44610167,        -inf,        -inf,        -inf,        -inf,\n",
       "               -inf,        -inf,        -inf,        -inf],\n",
       "       [-2.53558962,        -inf,        -inf,        -inf,        -inf,\n",
       "               -inf,        -inf,        -inf,        -inf],\n",
       "       [-2.76521135,        -inf,        -inf,        -inf,        -inf,\n",
       "               -inf,        -inf,        -inf,        -inf],\n",
       "       [-2.82459538,        -inf,        -inf,        -inf,        -inf,\n",
       "               -inf,        -inf,        -inf,        -inf],\n",
       "       [-2.86869242,        -inf,        -inf,        -inf,        -inf,\n",
       "               -inf,        -inf,        -inf,        -inf]],      dtype=float64)"
      ]
     },
     "execution_count": 23,
     "metadata": {},
     "output_type": "execute_result"
    }
   ],
   "source": [
    "out[2][:]"
   ]
  },
  {
   "cell_type": "code",
   "execution_count": 24,
   "id": "4f5a611d-e7aa-40a4-b2c7-1977567ad477",
   "metadata": {},
   "outputs": [
    {
     "name": "stderr",
     "output_type": "stream",
     "text": [
      "  0%|                                                                                                                                                                                       | 0/50 [00:00<?, ?it/s]"
     ]
    },
    {
     "name": "stdout",
     "output_type": "stream",
     "text": [
      "(1992,)\n"
     ]
    },
    {
     "name": "stderr",
     "output_type": "stream",
     "text": [
      "energy: -11.32+-157.2792 __ energy: -15.73+-272.21:   2%|██▍                                                                                                                        | 1/50 [00:21<17:27, 21.37s/it]"
     ]
    },
    {
     "name": "stdout",
     "output_type": "stream",
     "text": [
      "(1992,)\n"
     ]
    },
    {
     "name": "stderr",
     "output_type": "stream",
     "text": [
      "energy: -11.55+-157.6529 __ energy: -15.80+-271.51:   4%|████▉                                                                                                                      | 2/50 [00:34<13:05, 16.37s/it]"
     ]
    },
    {
     "name": "stdout",
     "output_type": "stream",
     "text": [
      "(1992,)\n"
     ]
    },
    {
     "name": "stderr",
     "output_type": "stream",
     "text": [
      "energy: -11.60+-157.8759 __ energy: -15.58+-260.42:   6%|███████▍                                                                                                                   | 3/50 [00:44<10:43, 13.69s/it]"
     ]
    },
    {
     "name": "stdout",
     "output_type": "stream",
     "text": [
      "(1992,)\n"
     ]
    },
    {
     "name": "stderr",
     "output_type": "stream",
     "text": [
      "energy: -12.28+-172.7752 __ energy: -15.45+-254.63:   8%|█████████▊                                                                                                                 | 4/50 [00:53<08:51, 11.56s/it]"
     ]
    },
    {
     "name": "stdout",
     "output_type": "stream",
     "text": [
      "(1992,)\n"
     ]
    },
    {
     "name": "stderr",
     "output_type": "stream",
     "text": [
      "energy: -12.02+-163.3789 __ energy: -15.43+-251.72:  10%|████████████▎                                                                                                              | 5/50 [01:00<07:35, 10.12s/it]"
     ]
    },
    {
     "name": "stdout",
     "output_type": "stream",
     "text": [
      "(1992,)\n"
     ]
    },
    {
     "name": "stderr",
     "output_type": "stream",
     "text": [
      "energy: -11.70+-159.3428 __ energy: -15.44+-250.19:  12%|██████████████▊                                                                                                            | 6/50 [01:07<06:42,  9.16s/it]"
     ]
    },
    {
     "name": "stdout",
     "output_type": "stream",
     "text": [
      "(1992,)\n"
     ]
    },
    {
     "name": "stderr",
     "output_type": "stream",
     "text": [
      "energy: -9.12+-107.7170 __ energy: -15.42+-248.35:  14%|█████████████████▎                                                                                                          | 7/50 [01:15<06:12,  8.67s/it]"
     ]
    },
    {
     "name": "stdout",
     "output_type": "stream",
     "text": [
      "(1992,)\n"
     ]
    },
    {
     "name": "stderr",
     "output_type": "stream",
     "text": [
      "energy: -6.56+-64.9505 __ energy: -15.61+-254.03:  16%|████████████████████                                                                                                         | 8/50 [01:25<06:17,  8.98s/it]"
     ]
    },
    {
     "name": "stdout",
     "output_type": "stream",
     "text": [
      "(1992,)\n"
     ]
    },
    {
     "name": "stderr",
     "output_type": "stream",
     "text": [
      "energy: -5.99+-52.4278 __ energy: -15.84+-261.14:  18%|██████████████████████▌                                                                                                      | 9/50 [01:33<05:56,  8.70s/it]"
     ]
    },
    {
     "name": "stdout",
     "output_type": "stream",
     "text": [
      "(1992,)\n"
     ]
    },
    {
     "name": "stderr",
     "output_type": "stream",
     "text": [
      "energy: -1.52+-8.3400 __ energy: -15.73+-261.09:  20%|█████████████████████████                                                                                                    | 10/50 [01:43<06:05,  9.13s/it]"
     ]
    },
    {
     "name": "stdout",
     "output_type": "stream",
     "text": [
      "(1992,)\n"
     ]
    },
    {
     "name": "stderr",
     "output_type": "stream",
     "text": [
      "energy: -0.26+-3.5236 __ energy: -15.04+-255.48:  22%|███████████████████████████▌                                                                                                 | 11/50 [01:51<05:46,  8.88s/it]"
     ]
    },
    {
     "name": "stdout",
     "output_type": "stream",
     "text": [
      "(1992,)\n"
     ]
    },
    {
     "name": "stderr",
     "output_type": "stream",
     "text": [
      "energy: -0.26+-2.9847 __ energy: -15.35+-257.45:  24%|██████████████████████████████                                                                                               | 12/50 [01:59<05:27,  8.63s/it]"
     ]
    },
    {
     "name": "stdout",
     "output_type": "stream",
     "text": [
      "(1992,)\n"
     ]
    },
    {
     "name": "stderr",
     "output_type": "stream",
     "text": [
      "energy: -0.28+-2.3034 __ energy: -15.06+-246.44:  26%|████████████████████████████████▌                                                                                            | 13/50 [02:08<05:23,  8.75s/it]"
     ]
    },
    {
     "name": "stdout",
     "output_type": "stream",
     "text": [
      "(1992,)\n"
     ]
    },
    {
     "name": "stderr",
     "output_type": "stream",
     "text": [
      "energy: -0.33+-1.6812 __ energy: -15.21+-249.19:  28%|███████████████████████████████████                                                                                          | 14/50 [02:21<06:00, 10.03s/it]"
     ]
    },
    {
     "name": "stdout",
     "output_type": "stream",
     "text": [
      "(1992,)\n"
     ]
    },
    {
     "name": "stderr",
     "output_type": "stream",
     "text": [
      "energy: -0.52+-3.9710 __ energy: -15.49+-257.21:  30%|█████████████████████████████████████▌                                                                                       | 15/50 [02:32<05:54, 10.14s/it]"
     ]
    },
    {
     "name": "stdout",
     "output_type": "stream",
     "text": [
      "(1992,)\n"
     ]
    },
    {
     "name": "stderr",
     "output_type": "stream",
     "text": [
      "energy: -0.77+-3.5625 __ energy: -15.65+-261.80:  32%|████████████████████████████████████████                                                                                     | 16/50 [02:39<05:18,  9.38s/it]"
     ]
    },
    {
     "name": "stdout",
     "output_type": "stream",
     "text": [
      "(1992,)\n"
     ]
    },
    {
     "name": "stderr",
     "output_type": "stream",
     "text": [
      "energy: -1.29+-10.4225 __ energy: -14.92+-255.14:  34%|██████████████████████████████████████████▏                                                                                 | 17/50 [02:47<04:52,  8.85s/it]"
     ]
    },
    {
     "name": "stdout",
     "output_type": "stream",
     "text": [
      "(1992,)\n"
     ]
    },
    {
     "name": "stderr",
     "output_type": "stream",
     "text": [
      "energy: -1.59+-13.8782 __ energy: -15.24+-256.94:  36%|████████████████████████████████████████████▋                                                                               | 18/50 [02:56<04:43,  8.87s/it]"
     ]
    },
    {
     "name": "stdout",
     "output_type": "stream",
     "text": [
      "(1992,)\n"
     ]
    },
    {
     "name": "stderr",
     "output_type": "stream",
     "text": [
      "energy: -1.87+-14.7836 __ energy: -15.61+-264.68:  38%|███████████████████████████████████████████████                                                                             | 19/50 [03:07<04:54,  9.50s/it]"
     ]
    },
    {
     "name": "stdout",
     "output_type": "stream",
     "text": [
      "(1992,)\n"
     ]
    },
    {
     "name": "stderr",
     "output_type": "stream",
     "text": [
      "energy: -2.11+-16.0176 __ energy: -15.52+-264.06:  40%|█████████████████████████████████████████████████▌                                                                          | 20/50 [03:16<04:44,  9.47s/it]"
     ]
    },
    {
     "name": "stdout",
     "output_type": "stream",
     "text": [
      "(1992,)\n"
     ]
    },
    {
     "name": "stderr",
     "output_type": "stream",
     "text": [
      "energy: -2.27+-18.0274 __ energy: -15.41+-265.19:  42%|████████████████████████████████████████████████████                                                                        | 21/50 [03:27<04:47,  9.91s/it]"
     ]
    },
    {
     "name": "stdout",
     "output_type": "stream",
     "text": [
      "(1992,)\n"
     ]
    },
    {
     "name": "stderr",
     "output_type": "stream",
     "text": [
      "energy: -2.73+-21.2103 __ energy: -15.45+-253.57:  44%|██████████████████████████████████████████████████████▌                                                                     | 22/50 [03:35<04:22,  9.37s/it]"
     ]
    },
    {
     "name": "stdout",
     "output_type": "stream",
     "text": [
      "(1992,)\n"
     ]
    },
    {
     "name": "stderr",
     "output_type": "stream",
     "text": [
      "energy: -1.86+-7.6304 __ energy: -15.61+-261.36:  46%|█████████████████████████████████████████████████████████▌                                                                   | 23/50 [03:43<03:59,  8.87s/it]"
     ]
    },
    {
     "name": "stdout",
     "output_type": "stream",
     "text": [
      "(1992,)\n"
     ]
    },
    {
     "name": "stderr",
     "output_type": "stream",
     "text": [
      "energy: -3.29+-25.4551 __ energy: -15.81+-269.22:  48%|███████████████████████████████████████████████████████████▌                                                                | 24/50 [03:50<03:36,  8.33s/it]"
     ]
    },
    {
     "name": "stdout",
     "output_type": "stream",
     "text": [
      "(1992,)\n"
     ]
    },
    {
     "name": "stderr",
     "output_type": "stream",
     "text": [
      "energy: -3.61+-29.2332 __ energy: -15.74+-267.16:  50%|██████████████████████████████████████████████████████████████                                                              | 25/50 [03:58<03:25,  8.22s/it]"
     ]
    },
    {
     "name": "stdout",
     "output_type": "stream",
     "text": [
      "(1992,)\n"
     ]
    },
    {
     "name": "stderr",
     "output_type": "stream",
     "text": [
      "energy: -3.59+-26.7214 __ energy: -15.93+-276.41:  52%|████████████████████████████████████████████████████████████████▍                                                           | 26/50 [04:05<03:05,  7.74s/it]"
     ]
    },
    {
     "name": "stdout",
     "output_type": "stream",
     "text": [
      "(1992,)\n"
     ]
    },
    {
     "name": "stderr",
     "output_type": "stream",
     "text": [
      "energy: -3.95+-29.5882 __ energy: -15.88+-266.58:  54%|██████████████████████████████████████████████████████████████████▉                                                         | 27/50 [04:12<02:57,  7.70s/it]"
     ]
    },
    {
     "name": "stdout",
     "output_type": "stream",
     "text": [
      "(1992,)\n"
     ]
    },
    {
     "name": "stderr",
     "output_type": "stream",
     "text": [
      "energy: -4.02+-29.3295 __ energy: -16.00+-270.15:  56%|█████████████████████████████████████████████████████████████████████▍                                                      | 28/50 [04:19<02:43,  7.44s/it]"
     ]
    },
    {
     "name": "stdout",
     "output_type": "stream",
     "text": [
      "(1992,)\n"
     ]
    },
    {
     "name": "stderr",
     "output_type": "stream",
     "text": [
      "energy: -4.33+-30.5146 __ energy: -16.22+-278.09:  58%|███████████████████████████████████████████████████████████████████████▉                                                    | 29/50 [04:26<02:31,  7.20s/it]"
     ]
    },
    {
     "name": "stdout",
     "output_type": "stream",
     "text": [
      "(1992,)\n"
     ]
    },
    {
     "name": "stderr",
     "output_type": "stream",
     "text": [
      "energy: -4.54+-32.6646 __ energy: -16.39+-294.28:  60%|██████████████████████████████████████████████████████████████████████████▍                                                 | 30/50 [04:32<02:20,  7.04s/it]"
     ]
    },
    {
     "name": "stdout",
     "output_type": "stream",
     "text": [
      "(1992,)\n"
     ]
    },
    {
     "name": "stderr",
     "output_type": "stream",
     "text": [
      "energy: -4.78+-34.4659 __ energy: -16.33+-283.64:  62%|████████████████████████████████████████████████████████████████████████████▉                                               | 31/50 [04:39<02:11,  6.91s/it]"
     ]
    },
    {
     "name": "stdout",
     "output_type": "stream",
     "text": [
      "(1992,)\n"
     ]
    },
    {
     "name": "stderr",
     "output_type": "stream",
     "text": [
      "energy: -5.04+-36.1631 __ energy: -16.46+-287.68:  64%|███████████████████████████████████████████████████████████████████████████████▎                                            | 32/50 [04:46<02:06,  7.05s/it]"
     ]
    },
    {
     "name": "stdout",
     "output_type": "stream",
     "text": [
      "(1992,)\n"
     ]
    },
    {
     "name": "stderr",
     "output_type": "stream",
     "text": [
      "energy: -5.19+-37.0869 __ energy: -16.36+-291.71:  66%|█████████████████████████████████████████████████████████████████████████████████▊                                          | 33/50 [04:53<01:58,  6.96s/it]"
     ]
    },
    {
     "name": "stdout",
     "output_type": "stream",
     "text": [
      "(1992,)\n"
     ]
    },
    {
     "name": "stderr",
     "output_type": "stream",
     "text": [
      "energy: -5.46+-40.3981 __ energy: -16.51+-294.43:  68%|████████████████████████████████████████████████████████████████████████████████████▎                                       | 34/50 [05:01<01:54,  7.17s/it]"
     ]
    },
    {
     "name": "stdout",
     "output_type": "stream",
     "text": [
      "(1992,)\n"
     ]
    },
    {
     "name": "stderr",
     "output_type": "stream",
     "text": [
      "energy: -5.47+-39.3932 __ energy: -16.52+-294.74:  70%|██████████████████████████████████████████████████████████████████████████████████████▊                                     | 35/50 [05:10<01:56,  7.77s/it]"
     ]
    },
    {
     "name": "stdout",
     "output_type": "stream",
     "text": [
      "(1992,)\n"
     ]
    },
    {
     "name": "stderr",
     "output_type": "stream",
     "text": [
      "energy: -0.00+-0.0000 __ energy: -16.55+-304.44:  72%|██████████████████████████████████████████████████████████████████████████████████████████                                   | 36/50 [05:20<01:58,  8.44s/it]"
     ]
    },
    {
     "name": "stdout",
     "output_type": "stream",
     "text": [
      "(1992,)\n"
     ]
    },
    {
     "name": "stderr",
     "output_type": "stream",
     "text": [
      "energy: -0.00+-0.0000 __ energy: -16.26+-278.63:  74%|████████████████████████████████████████████████████████████████████████████████████████████▌                                | 37/50 [05:28<01:47,  8.24s/it]"
     ]
    },
    {
     "name": "stdout",
     "output_type": "stream",
     "text": [
      "(1992,)\n"
     ]
    },
    {
     "name": "stderr",
     "output_type": "stream",
     "text": [
      "energy: -0.00+-0.0000 __ energy: -16.12+-273.12:  76%|███████████████████████████████████████████████████████████████████████████████████████████████                              | 38/50 [05:37<01:44,  8.68s/it]"
     ]
    },
    {
     "name": "stdout",
     "output_type": "stream",
     "text": [
      "(1992,)\n"
     ]
    },
    {
     "name": "stderr",
     "output_type": "stream",
     "text": [
      "energy: -0.00+-0.0000 __ energy: -16.06+-284.17:  78%|█████████████████████████████████████████████████████████████████████████████████████████████████▌                           | 39/50 [05:44<01:29,  8.12s/it]"
     ]
    },
    {
     "name": "stdout",
     "output_type": "stream",
     "text": [
      "(1992,)\n"
     ]
    },
    {
     "name": "stderr",
     "output_type": "stream",
     "text": [
      "energy: -0.00+-0.0000 __ energy: -15.85+-263.06:  80%|████████████████████████████████████████████████████████████████████████████████████████████████████                         | 40/50 [05:51<01:17,  7.71s/it]"
     ]
    },
    {
     "name": "stdout",
     "output_type": "stream",
     "text": [
      "(1992,)\n"
     ]
    },
    {
     "name": "stderr",
     "output_type": "stream",
     "text": [
      "energy: -0.00+-0.0000 __ energy: -15.87+-263.45:  82%|██████████████████████████████████████████████████████████████████████████████████████████████████████▌                      | 41/50 [05:57<01:06,  7.36s/it]"
     ]
    },
    {
     "name": "stdout",
     "output_type": "stream",
     "text": [
      "(1992,)\n"
     ]
    },
    {
     "name": "stderr",
     "output_type": "stream",
     "text": [
      "energy: -0.00+-0.0000 __ energy: -16.15+-276.93:  84%|█████████████████████████████████████████████████████████████████████████████████████████████████████████                    | 42/50 [06:04<00:56,  7.10s/it]"
     ]
    },
    {
     "name": "stdout",
     "output_type": "stream",
     "text": [
      "(1992,)\n"
     ]
    },
    {
     "name": "stderr",
     "output_type": "stream",
     "text": [
      "energy: -0.00+-0.0000 __ energy: -16.06+-274.17:  86%|███████████████████████████████████████████████████████████████████████████████████████████████████████████▌                 | 43/50 [06:11<00:48,  6.96s/it]"
     ]
    },
    {
     "name": "stdout",
     "output_type": "stream",
     "text": [
      "(1992,)\n"
     ]
    },
    {
     "name": "stderr",
     "output_type": "stream",
     "text": [
      "energy: -0.00+-0.0000 __ energy: -15.94+-263.46:  88%|██████████████████████████████████████████████████████████████████████████████████████████████████████████████               | 44/50 [06:18<00:42,  7.05s/it]"
     ]
    },
    {
     "name": "stdout",
     "output_type": "stream",
     "text": [
      "(1992,)\n"
     ]
    },
    {
     "name": "stderr",
     "output_type": "stream",
     "text": [
      "energy: -0.00+-0.0000 __ energy: -16.04+-271.21:  90%|████████████████████████████████████████████████████████████████████████████████████████████████████████████████▌            | 45/50 [06:25<00:35,  7.04s/it]"
     ]
    },
    {
     "name": "stdout",
     "output_type": "stream",
     "text": [
      "(1992,)\n"
     ]
    },
    {
     "name": "stderr",
     "output_type": "stream",
     "text": [
      "energy: -0.00+-0.0000 __ energy: -16.02+-267.67:  92%|███████████████████████████████████████████████████████████████████████████████████████████████████████████████████          | 46/50 [06:32<00:28,  7.03s/it]"
     ]
    },
    {
     "name": "stdout",
     "output_type": "stream",
     "text": [
      "(1992,)\n"
     ]
    },
    {
     "name": "stderr",
     "output_type": "stream",
     "text": [
      "energy: -0.00+-0.0000 __ energy: -15.87+-262.40:  94%|█████████████████████████████████████████████████████████████████████████████████████████████████████████████████████▌       | 47/50 [06:38<00:20,  6.90s/it]"
     ]
    },
    {
     "name": "stdout",
     "output_type": "stream",
     "text": [
      "(1992,)\n"
     ]
    },
    {
     "name": "stderr",
     "output_type": "stream",
     "text": [
      "energy: -0.00+-0.0000 __ energy: -16.11+-279.48:  96%|████████████████████████████████████████████████████████████████████████████████████████████████████████████████████████     | 48/50 [06:45<00:13,  6.83s/it]"
     ]
    },
    {
     "name": "stdout",
     "output_type": "stream",
     "text": [
      "(1992,)\n"
     ]
    },
    {
     "name": "stderr",
     "output_type": "stream",
     "text": [
      "energy: -0.00+-0.0000 __ energy: -16.11+-275.48:  98%|██████████████████████████████████████████████████████████████████████████████████████████████████████████████████████████▌  | 49/50 [06:53<00:07,  7.24s/it]"
     ]
    },
    {
     "name": "stdout",
     "output_type": "stream",
     "text": [
      "(1992,)\n"
     ]
    },
    {
     "name": "stderr",
     "output_type": "stream",
     "text": [
      "energy: -0.00+-0.0000 __ energy: -16.13+-286.07: 100%|█████████████████████████████████████████████████████████████████████████████████████████████████████████████████████████████| 50/50 [07:00<00:00,  8.42s/it]\n"
     ]
    }
   ],
   "source": [
    "training_steps= 50\n",
    "resTraining = np.zeros((training_steps,2))\n",
    "resTraining_gumbel = np.zeros((training_steps,2))\n",
    "\n",
    "numS = 2**10\n",
    "pbar = tqdm(range(training_steps))\n",
    "for n,p in enumerate(pbar):\n",
    "    dpOld = psi_RWKV.get_parameters()        \n",
    "    print(dpOld.shape)\n",
    "    dp, _ = stepperSR.step(0, minSR_equation, dpOld, hamiltonian=H, psi=psi_RWKV, numSamples=numS)\n",
    "    psi_RWKV.set_parameters(jnp.real(dp))\n",
    "    resTraining[n] = [jnp.real(minSR_equation.ElocMean0) , minSR_equation.ElocVar0 ]\n",
    "    \n",
    "    dpOld = psi_RWKV_gumbel.get_parameters()                \n",
    "    dp, _ = stepperSR.step(0, minSR_equation_gumbel, dpOld, hamiltonian=H, psi=psi_RWKV_gumbel, numSamples=numS)\n",
    "    psi_RWKV_gumbel.set_parameters(jnp.real(dp))\n",
    "    resTraining_gumbel[n] = [jnp.real(minSR_equation_gumbel.ElocMean0) , minSR_equation_gumbel.ElocVar0 ]\n",
    "    \n",
    "    pbar.set_description(f\"energy: {resTraining[n][0]:.2f}+-{resTraining[n][1]:.4f} __ \"+f\"energy: {resTraining_gumbel[n][0]:.2f}+-{resTraining_gumbel[n][1]:.2f}\")\n"
   ]
  },
  {
   "cell_type": "code",
   "execution_count": 25,
   "id": "4487ebf1-64e2-4133-9647-5bfc51e820db",
   "metadata": {},
   "outputs": [
    {
     "data": {
      "text/plain": [
       "[<matplotlib.lines.Line2D at 0x7f87e88b0fd0>]"
      ]
     },
     "execution_count": 25,
     "metadata": {},
     "output_type": "execute_result"
    },
    {
     "data": {
      "image/png": "[encoded data removed]",
      "text/plain": [
       "<Figure size 640x480 with 1 Axes>"
      ]
     },
     "metadata": {},
     "output_type": "display_data"
    }
   ],
   "source": [
    "plt.plot(resTraining[:,0],'x')\n",
    "plt.plot(resTraining_gumbel[:,0])\n",
    "#plt.ylim(-10,10)"
   ]
  },
  {
   "cell_type": "code",
   "execution_count": 26,
   "id": "5e43fd19-f977-4a5f-b56c-529aee1e3c96",
   "metadata": {},
   "outputs": [
    {
     "data": {
      "text/plain": [
       "[]"
      ]
     },
     "execution_count": 26,
     "metadata": {},
     "output_type": "execute_result"
    },
    {
     "data": {
      "image/png": "[encoded data removed]",
      "text/plain": [
       "<Figure size 640x480 with 1 Axes>"
      ]
     },
     "metadata": {},
     "output_type": "display_data"
    }
   ],
   "source": [
    "plt.plot(resTraining[:,1],'x')\n",
    "plt.plot(resTraining_gumbel[:,1])\n",
    "#plt.ylim(-10,10)\n",
    "plt.semilogy()"
   ]
  },
  {
   "cell_type": "code",
   "execution_count": null,
   "id": "ce0e4e7c-965a-42c3-8a16-d82753cf6774",
   "metadata": {},
   "outputs": [],
   "source": [
    "sampler.sample(numSamples=16)"
   ]
  },
  {
   "cell_type": "code",
   "execution_count": null,
   "id": "29c72254-78e9-42e5-801e-e77e6e1a4d6a",
   "metadata": {},
   "outputs": [],
   "source": [
    "a = sampler_gumbel.sample(numSamples=24)\n",
    "a\n"
   ]
  },
  {
   "cell_type": "code",
   "execution_count": null,
   "id": "c74955cf-1b73-4ef2-9141-04f42ef414f6",
   "metadata": {},
   "outputs": [],
   "source": [
    "import math\n",
    "math.comb(5,2)"
   ]
  },
  {
   "cell_type": "code",
   "execution_count": null,
   "id": "05fd02af-6115-45e0-87f4-768ff8930194",
   "metadata": {},
   "outputs": [],
   "source": [
    "a[0][0,jnp.argmax(a[1][0])]"
   ]
  },
  {
   "cell_type": "code",
   "execution_count": null,
   "id": "e832c004-16b2-49a4-be30-48a2e85ce40c",
   "metadata": {},
   "outputs": [],
   "source": [
    "np.argmax(a[1][0])"
   ]
  },
  {
   "cell_type": "code",
   "execution_count": null,
   "id": "43d44f3e-5eed-4ff9-a210-801c46ade1fb",
   "metadata": {},
   "outputs": [],
   "source": [
    "a[1][0,76]"
   ]
  },
  {
   "cell_type": "code",
   "execution_count": null,
   "id": "fadaebc9-e3a6-4eb3-a653-4fce9efc78a8",
   "metadata": {},
   "outputs": [],
   "source": []
  },
  {
   "cell_type": "code",
   "execution_count": null,
   "id": "1d28fe17-730a-465e-837d-15fdf8294ff8",
   "metadata": {},
   "outputs": [],
   "source": []
  },
  {
   "cell_type": "code",
   "execution_count": null,
   "id": "8a85db26-1501-4646-9965-a325f97224d3",
   "metadata": {},
   "outputs": [],
   "source": []
  },
  {
   "cell_type": "code",
   "execution_count": null,
   "id": "5da606d7-f432-47a8-84a5-ef53657fd5f7",
   "metadata": {},
   "outputs": [],
   "source": []
  },
  {
   "cell_type": "code",
   "execution_count": null,
   "id": "e9e87069-c91a-4308-9d17-09324a4ecdc6",
   "metadata": {},
   "outputs": [],
   "source": []
  },
  {
   "cell_type": "code",
   "execution_count": null,
   "id": "90f377a0-7974-43cc-a993-a78b998d1cf8",
   "metadata": {},
   "outputs": [],
   "source": []
  },
  {
   "cell_type": "code",
   "execution_count": null,
   "id": "fca20bae-3a9e-4d75-84d7-d28e66592ce4",
   "metadata": {},
   "outputs": [],
   "source": []
  }
 ],
 "metadata": {
  "kernelspec": {
   "display_name": "Python 3 (ipykernel)",
   "language": "python",
   "name": "python3"
  },
  "language_info": {
   "codemirror_mode": {
    "name": "ipython",
    "version": 3
   },
   "file_extension": ".py",
   "mimetype": "text/x-python",
   "name": "python",
   "nbconvert_exporter": "python",
   "pygments_lexer": "ipython3",
   "version": "3.9.19"
  }
 },
 "nbformat": 4,
 "nbformat_minor": 5
}
