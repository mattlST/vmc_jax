{
 "cells": [
  {
   "cell_type": "code",
   "execution_count": 1,
   "id": "35db434b-0707-41a1-b23d-ee84b3882621",
   "metadata": {},
   "outputs": [],
   "source": [
    "import jVMC\n",
    "import jax.numpy as jnp \n",
    "import jax.random as jrnd\n",
    "import numpy as np \n",
    "import jVMC.nets.bosons\n"
   ]
  },
  {
   "cell_type": "code",
   "execution_count": 2,
   "id": "6e564465-315c-4040-9ad1-ecd458669afb",
   "metadata": {},
   "outputs": [
    {
     "data": {
      "text/plain": [
       "Array([[-7.70078432]], dtype=float64)"
      ]
     },
     "execution_count": 2,
     "metadata": {},
     "output_type": "execute_result"
    }
   ],
   "source": [
    "N = 10\n",
    "L = 10\n",
    "ldim = 8\n",
    "homFock = jnp.ones((1,1,L),dtype=int)\n",
    "\n",
    "emb_RWKV = 8\n",
    "depth_RWKV = 2\n",
    "net_RWKV = jVMC.nets.bosons.RWKV(L,N,LocalHilDim=ldim,num_layers=depth_RWKV,embedding_size=emb_RWKV)\n",
    "\n",
    "\n",
    "psi_RWKV = jVMC.vqs.NQS(net_RWKV)\n",
    "\n",
    "#dummies for testing\n",
    "net_FFN = jVMC.nets.ffn.FFN()\n",
    "psi_FFN = jVMC.vqs.NQS(net_FFN)\n",
    "\n",
    "psi_RWKV(homFock)\n"
   ]
  },
  {
   "cell_type": "code",
   "execution_count": 4,
   "id": "50e47ef6-1fe4-4ece-97d5-86810ef4c456",
   "metadata": {},
   "outputs": [],
   "source": [
    "class MCSampler_gumbel(jVMC.sampler.MCSampler):\n",
    "    \n",
    "    def __init__(self,*args,**kwargs):\n",
    "        super().__init__(*args, **kwargs)\n",
    "        try: \n",
    "            callable(self.net.net.forward_with_state)\n",
    "        except:\n",
    "            raise Exception(\"neural network has no autoregressive stepwise sampling subroutine 'forward_with_state'\")\n",
    "    def _scanning_fn_gumble(self, carry, key):\n",
    "        \n",
    "        logits_i, next_states = self.net(carry[0],block_states = carry[1], output_state=True)\n",
    "        #carry[0] = [x_<i,....]\n",
    "        #carry[1] = [logits_<i,....]\n",
    "        #carry[2] = [logits_gumble<i,....]\n",
    "        \n",
    "        ### commented out the particle conservation\n",
    "        ### maybe just add the self -> self.net\n",
    "        ##############################################\n",
    "        # mask logits\n",
    "        # number of particles that mus assigned\n",
    "        ##must_give = nn.relu(carry[2]-self.max_particles[key[1]])\n",
    "        # number of particles that can be assigned\n",
    "        ##can_give = jnp.minimum(carry[2], self.LocalHilDim-1)\n",
    "        # compute mask\n",
    "        ##mask = (self.must_mask[must_give] + \n",
    "        ##            self.can_mask[can_give.astype(int)]) \n",
    "        ##############################################\n",
    "        states = jnp.expand_dims(\n",
    "        logits = (carry[1] + logits_i[:,None]).ravel()\n",
    "        \n",
    "        logits_gumble = logits + jrnd.gumbel(key[0],logits.shape)##- mask ** jnp.inf\n",
    "        ##choice = jrnd.categorical(key[0], logits.ravel().real) # abide by the indexing convention\n",
    "        ##############################################\n",
    "        ##s_cumsum = carry[2] - choice\n",
    "        return (logits, logits_gumble,next_states, s_cumsum), choice\n",
    "        #return (jnp.expand_dims(choice,0), next_states, s_cumsum), choice\n",
    "    def _get_samples_gen_gumbel():\n",
    "        numSamples = mpi.distribute_sampling(numSamples, localDevices=global_defs.device_count(), numChainsPerDevice=multipleOf)\n",
    "\n",
    "        tmpKeys = random.split(self.key[0], 3 * global_defs.device_count())\n",
    "        self.key = tmpKeys[:global_defs.device_count()]\n",
    "        tmpKey = tmpKeys[global_defs.device_count():2 * global_defs.device_count()]\n",
    "        tmpKey2 = tmpKeys[2 * global_defs.device_count():]\n",
    "\n",
    "        #### rewrite explicit scanning in here\n",
    "        samples = self.net.sample(numSamples, tmpKey, parameters=params)\n",
    "        ####\n",
    "        if not str(numSamples) in self._randomize_samples_jitd:\n",
    "            self._randomize_samples_jitd[str(numSamples)] = global_defs.pmap_for_my_devices(self._randomize_samples, static_broadcasted_argnums=(), in_axes=(0, 0, None))\n",
    "\n",
    "        if not self.orbit is None:\n",
    "            return self._randomize_samples_jitd[str(numSamples)](samples, tmpKey2, self.orbit)\n",
    "        \n",
    "        return samples\n",
    "    def sample(self, parameters=None, numSamples=None, multipleOf=1):\n",
    "        \"\"\"Generate random samples from wave function.\n",
    "\n",
    "        If supported by ``net``, direct sampling is peformed. Otherwise, MCMC is run \\\n",
    "        to generate the desired number of samples. For direct sampling the real part \\\n",
    "        of ``net`` needs to provide a ``sample()`` member function that generates \\\n",
    "        samples from :math:`p_{\\\\mu}(s)`.\n",
    "\n",
    "        Sampling is automatically distributed accross MPI processes and available \\\n",
    "        devices. In that case the number of samples returned might exceed ``numSamples``.\n",
    "\n",
    "        Arguments:\n",
    "            * ``parameters``: Network parameters to use for sampling.\n",
    "            * ``numSamples``: Number of samples to generate. When running multiple processes \\\n",
    "            or on multiple devices per process, the number of samples returned is \\\n",
    "            ``numSamples`` or more. If ``None``, the default number of samples is returned \\\n",
    "            (see ``set_number_of_samples()`` member function).\n",
    "            * ``multipleOf``: This argument allows to choose the number of samples returned to \\\n",
    "            be the smallest multiple of ``multipleOf`` larger than ``numSamples``. This feature \\\n",
    "            is useful to distribute a total number of samples across multiple processors in such \\\n",
    "            a way that the number of samples per processor is identical for each processor.\n",
    "\n",
    "        Returns:\n",
    "            A sample of computational basis configurations drawn from :math:`p_{\\\\mu}(s)`.\n",
    "        \"\"\"\n",
    "\n",
    "        if numSamples is None:\n",
    "            numSamples = self.numSamples\n",
    "\n",
    "        \n",
    "        if parameters is not None:\n",
    "            tmpP = self.net.params\n",
    "            self.net.set_parameters(parameters)\n",
    "\n",
    "        \n",
    "        configs = self._get_samples_gen_gumbel(self.net.parameters, numSamples, multipleOf)\n",
    "        coeffs = self.net(configs)\n",
    "        if parameters is not None:\n",
    "            self.net.params = tmpP\n",
    "        return configs, coeffs, jnp.ones(configs.shape[:2]) / jnp.prod(jnp.asarray(configs.shape[:2]))\n"
   ]
  },
  {
   "cell_type": "code",
   "execution_count": 5,
   "id": "c24d2a3d-2616-40b8-95d7-29f4f78655f5",
   "metadata": {},
   "outputs": [
    {
     "ename": "Exception",
     "evalue": "neural network has no autoregressive stepwise sampling subroutine 'forward_with_state'",
     "output_type": "error",
     "traceback": [
      "\u001b[0;31m---------------------------------------------------------------------------\u001b[0m",
      "\u001b[0;31mAttributeError\u001b[0m                            Traceback (most recent call last)",
      "Cell \u001b[0;32mIn[4], line 6\u001b[0m, in \u001b[0;36mMCSampler_gumbel.__init__\u001b[0;34m(self, *args, **kwargs)\u001b[0m\n\u001b[1;32m      5\u001b[0m \u001b[38;5;28;01mtry\u001b[39;00m: \n\u001b[0;32m----> 6\u001b[0m     \u001b[38;5;28mcallable\u001b[39m(\u001b[38;5;28;43mself\u001b[39;49m\u001b[38;5;241;43m.\u001b[39;49m\u001b[43mnet\u001b[49m\u001b[38;5;241;43m.\u001b[39;49m\u001b[43mnet\u001b[49m\u001b[38;5;241;43m.\u001b[39;49m\u001b[43mforward_with_state\u001b[49m)\n\u001b[1;32m      7\u001b[0m \u001b[38;5;28;01mexcept\u001b[39;00m:\n",
      "File \u001b[0;32m~/anaconda3/envs/jvmc/lib/python3.9/site-packages/flax/linen/module.py:945\u001b[0m, in \u001b[0;36mModule.__getattr__\u001b[0;34m(self, name)\u001b[0m\n\u001b[1;32m    943\u001b[0m   msg \u001b[38;5;241m+\u001b[39m\u001b[38;5;241m=\u001b[39m (\u001b[38;5;124mf\u001b[39m\u001b[38;5;124m'\u001b[39m\u001b[38;5;124m If \u001b[39m\u001b[38;5;124m\"\u001b[39m\u001b[38;5;132;01m{\u001b[39;00mname\u001b[38;5;132;01m}\u001b[39;00m\u001b[38;5;124m\"\u001b[39m\u001b[38;5;124m is defined in \u001b[39m\u001b[38;5;130;01m\\'\u001b[39;00m\u001b[38;5;124m.setup()\u001b[39m\u001b[38;5;130;01m\\'\u001b[39;00m\u001b[38;5;124m, remember these fields \u001b[39m\u001b[38;5;124m'\u001b[39m\n\u001b[1;32m    944\u001b[0m     \u001b[38;5;124m'\u001b[39m\u001b[38;5;124mare only accessible from inside \u001b[39m\u001b[38;5;130;01m\\'\u001b[39;00m\u001b[38;5;124minit\u001b[39m\u001b[38;5;130;01m\\'\u001b[39;00m\u001b[38;5;124m or \u001b[39m\u001b[38;5;130;01m\\'\u001b[39;00m\u001b[38;5;124mapply\u001b[39m\u001b[38;5;130;01m\\'\u001b[39;00m\u001b[38;5;124m.\u001b[39m\u001b[38;5;124m'\u001b[39m)\n\u001b[0;32m--> 945\u001b[0m \u001b[38;5;28;01mraise\u001b[39;00m \u001b[38;5;167;01mAttributeError\u001b[39;00m(msg)\n",
      "\u001b[0;31mAttributeError\u001b[0m: \"FFN\" object has no attribute \"forward_with_state\". If \"forward_with_state\" is defined in '.setup()', remember these fields are only accessible from inside 'init' or 'apply'.",
      "\nDuring handling of the above exception, another exception occurred:\n",
      "\u001b[0;31mException\u001b[0m                                 Traceback (most recent call last)",
      "Cell \u001b[0;32mIn[5], line 5\u001b[0m\n\u001b[1;32m      3\u001b[0m sampler \u001b[38;5;241m=\u001b[39m jVMC\u001b[38;5;241m.\u001b[39msampler\u001b[38;5;241m.\u001b[39mMCSampler(psi_RWKV,(L,),key)\n\u001b[1;32m      4\u001b[0m sampler_gumbel \u001b[38;5;241m=\u001b[39m MCSampler_gumbel(psi_RWKV,(L,),key)\n\u001b[0;32m----> 5\u001b[0m sampler_gumbel \u001b[38;5;241m=\u001b[39m \u001b[43mMCSampler_gumbel\u001b[49m\u001b[43m(\u001b[49m\u001b[43mpsi_FFN\u001b[49m\u001b[43m,\u001b[49m\u001b[43m(\u001b[49m\u001b[43mL\u001b[49m\u001b[43m,\u001b[49m\u001b[43m)\u001b[49m\u001b[43m,\u001b[49m\u001b[43mkey\u001b[49m\u001b[43m,\u001b[49m\u001b[43mupdateProposer\u001b[49m\u001b[38;5;241;43m=\u001b[39;49m\u001b[43mjVMC\u001b[49m\u001b[38;5;241;43m.\u001b[39;49m\u001b[43msampler\u001b[49m\u001b[38;5;241;43m.\u001b[39;49m\u001b[43mpropose_spin_flip\u001b[49m\u001b[43m)\u001b[49m\n",
      "Cell \u001b[0;32mIn[4], line 8\u001b[0m, in \u001b[0;36mMCSampler_gumbel.__init__\u001b[0;34m(self, *args, **kwargs)\u001b[0m\n\u001b[1;32m      6\u001b[0m     \u001b[38;5;28mcallable\u001b[39m(\u001b[38;5;28mself\u001b[39m\u001b[38;5;241m.\u001b[39mnet\u001b[38;5;241m.\u001b[39mnet\u001b[38;5;241m.\u001b[39mforward_with_state)\n\u001b[1;32m      7\u001b[0m \u001b[38;5;28;01mexcept\u001b[39;00m:\n\u001b[0;32m----> 8\u001b[0m     \u001b[38;5;28;01mraise\u001b[39;00m \u001b[38;5;167;01mException\u001b[39;00m(\u001b[38;5;124m\"\u001b[39m\u001b[38;5;124mneural network has no autoregressive stepwise sampling subroutine \u001b[39m\u001b[38;5;124m'\u001b[39m\u001b[38;5;124mforward_with_state\u001b[39m\u001b[38;5;124m'\u001b[39m\u001b[38;5;124m\"\u001b[39m)\n",
      "\u001b[0;31mException\u001b[0m: neural network has no autoregressive stepwise sampling subroutine 'forward_with_state'"
     ]
    }
   ],
   "source": [
    "seed = 1\n",
    "key = jrnd.PRNGKey(seed)\n",
    "sampler = jVMC.sampler.MCSampler(psi_RWKV,(L,),key)\n",
    "sampler_gumbel = MCSampler_gumbel(psi_RWKV,(L,),key)\n",
    "sampler_gumbel = MCSampler_gumbel(psi_FFN,(L,),key,updateProposer=jVMC.sampler.propose_spin_flip)"
   ]
  },
  {
   "cell_type": "code",
   "execution_count": null,
   "id": "a7b99e02-dcc3-4e22-829c-5b23ba5500d7",
   "metadata": {},
   "outputs": [],
   "source": [
    "sampler_gumbel.sampleShape[0]"
   ]
  },
  {
   "cell_type": "code",
   "execution_count": null,
   "id": "ea09cb19-2156-48f0-97a8-fd6ac61b0fc0",
   "metadata": {},
   "outputs": [],
   "source": []
  }
 ],
 "metadata": {
  "kernelspec": {
   "display_name": "Python 3 (ipykernel)",
   "language": "python",
   "name": "python3"
  },
  "language_info": {
   "codemirror_mode": {
    "name": "ipython",
    "version": 3
   },
   "file_extension": ".py",
   "mimetype": "text/x-python",
   "name": "python",
   "nbconvert_exporter": "python",
   "pygments_lexer": "ipython3",
   "version": "3.9.19"
  }
 },
 "nbformat": 4,
 "nbformat_minor": 5
}
